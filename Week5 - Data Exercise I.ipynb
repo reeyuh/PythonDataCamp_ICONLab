{
 "cells": [
  {
   "cell_type": "markdown",
   "id": "c7be4fab-952f-4943-9949-12bd29d82768",
   "metadata": {},
   "source": [
    "<h1><center> Data Exercises </center></h1>\n",
    "\n",
    "### Objective - Create a Summary Figure of  \"Raw\" Data\n",
    "\n",
    "In order to do this, we need to specify a few paths for where we will keep the data. The folders already exist in repository. We just need to specify where these things are here."
   ]
  },
  {
   "cell_type": "code",
   "execution_count": null,
   "id": "c2e460bd-7874-4c47-91d1-c9ba4da88131",
   "metadata": {},
   "outputs": [],
   "source": []
  },
  {
   "cell_type": "code",
   "execution_count": null,
   "id": "d616a10d-4004-4856-aebe-46df84a83585",
   "metadata": {},
   "outputs": [],
   "source": []
  },
  {
   "cell_type": "markdown",
   "id": "b0069f42-6597-43df-bf5b-ec98d68a98b1",
   "metadata": {},
   "source": [
    "We will be making the above figure. Let's first dissect what's displayed. \n",
    "\n",
    "First, these data were recorded from single neurons in <b>primary auditory cortex</b>, or <b>A1</b>, the dominant cortical area that processes sound-related information coming from directly from the cochlea. Conventionally, this type of observed activity is referred to as <b>single-unit activity</b>, or <b>SUA</b>, and is accompanied by simultaneous recordings of <b>local field potentials</b>, or <b>LFPs</b>.\n",
    "\n",
    "<u>Top Plot</u>\n",
    "\n",
    "> Title: Unit ID: 1 - cell that are recorded using penetrating electrodes are by convention called \"units\". So a Unit ID of 1 refers to the first cell recorded on that electrode. \n",
    "\n",
    "> Data types:  \n",
    "\n",
    "> - <i>Black vertical dashes</i> : These represent the time at which the peak of an action potential occurs, or when the unit fires, for the recorded unit. This type of plot is referred to as a <b>raster plot</b>.\n",
    "\n",
    "> - <i>Red time series</i> : If we look at the rate of occurence for the spike times across a fixed interval by counting spikes within fixed bin sizes, we can compute what's called a firing rate. We often care about changes in firing rate associated with different stimuli. This is referred to as rate coding and can be represented by a <b>time histogram</b> - later we will cover the <b>post-stimulus time histogram</b>, or <b>PSTH</b>.\n",
    "\n",
    "> - <i>Different colored vertical bars</i> : Spike times and firing rates are only meaningful if we can compare them to some other event - like different stimuli. We call this <b>neural coding</b>, how stimuli are represented in spike times or their statistics like rates. This enables us to characterize the response of a unit to its environment, i.e., <b>decode</b> neural responses. The different colored bars are <b>stimulus intervals</b> and their colors represent different stimuli, in this case the location of a <b>sound source</b>.\n",
    "\n",
    "<u> Bottom Plot </u>\n",
    "\n",
    "> Data types:\n",
    "\n",
    "> - <i> Blue time series</i> : This is the simultaneously recorded LFP recorded locally to the above unit. Straightforward.\n",
    "\n",
    "We will build this figure piece-by-piece before looking at different ways to characterize the unit's response with respect to a single stimulus across multiple presentations of the given stimulus.\n",
    "\n",
    "<u>Plotting goals:</u>\n",
    "\n",
    "> 1) Collect data\n",
    "\n",
    "> 2) Create LFP time series plot - Hint: use plot ;)\n",
    "\n",
    "> 3) Create raster plot - Hint: Look up \"vlines\".\n",
    "\n",
    "> 4) Create rate time histogram - Hint: Look up hist, distplot, etc.\n",
    "\n",
    "> 5) Create stimulus interval plot - Hint: Look up vspan/hspan and axvspan/axhspan\n",
    "\n",
    "> 6) Combine them using subplots \n",
    "\n",
    "> 7) Look more closely at different intervals by changing the axis limits\n",
    "\n",
    "\n",
    "I urge everyone to use Matplotlib methods for now. This can be done using other packages, but this exercise will give you more confidence in handling everything that we've covered thus far. "
   ]
  },
  {
   "cell_type": "code",
   "execution_count": null,
   "id": "ee1161be-f735-4da1-bcdb-ed9f838d7b02",
   "metadata": {},
   "outputs": [],
   "source": [
    "# Collect your data! \n",
    "# - look at data formats\n",
    "# - read the correct formats in (see methods in Week5 tutorial)\n",
    "# - explore what's in it\n",
    "\n",
    "\n",
    "\n"
   ]
  },
  {
   "cell_type": "markdown",
   "id": "f35d0b07-de4b-42b6-94c2-28589f629367",
   "metadata": {},
   "source": [
    "###  Create LFP time series plot\n",
    "\n",
    "Here is where you will plot the first times series. In general, we can use the Matplotlib (https://matplotlib.org/stable/gallery/index.html) charting library to find the code we need. Our first plot will require minimal effort in transforming the data, just visualizing it. \n",
    "\n",
    "Your exercise is to:\n",
    "\n",
    "> 1) look at the Matplotlib documentation for <i>matplotlib.pyplot.plot()</i> in order to figure out what variables (and their data type) we can use as inputs under <i>parameters</i>,  \n",
    "\n",
    "> 2) find how to get the correct format in Pandas documentation for <i>pandas.DataFrame</i> under <i>attributes</i>,\n",
    "\n",
    "> 3) reformat and store our data variables in the correct format for plotting,\n",
    "\n",
    "> 4) and then adjust properties (figure size, marker size, axis labels, etc) of the plot to get something like the bottom plot from our summary plot. \n",
    "\n",
    "Here we will use <i>plt.plot()</i> for plotting - recall our abbreviation in when we imported the module."
   ]
  },
  {
   "cell_type": "code",
   "execution_count": null,
   "id": "0cf9a447-6c43-4887-a87a-f9c65f8a0f31",
   "metadata": {},
   "outputs": [],
   "source": []
  },
  {
   "cell_type": "markdown",
   "id": "f797ab99-27fb-4dac-a7f3-12cac533d837",
   "metadata": {},
   "source": [
    "### Create raster plot\n",
    "\n",
    "Raster plots are a bit more involved, but should be simple enough. They involve plotting a tick at every spike time. \n",
    "\n",
    "Your exercise is to:\n",
    "> 1. find where spike times are,\n",
    "\n",
    "> 2. reformat data. Should you use a list? An array?,\n",
    "\n",
    "> 3. figure out the layout for the figure.\n"
   ]
  },
  {
   "cell_type": "code",
   "execution_count": null,
   "id": "66a5e66c-44c9-4769-b0b0-334da333c868",
   "metadata": {},
   "outputs": [],
   "source": []
  }
 ],
 "metadata": {
  "kernelspec": {
   "display_name": "Python 3",
   "language": "python",
   "name": "python3"
  },
  "language_info": {
   "codemirror_mode": {
    "name": "ipython",
    "version": 3
   },
   "file_extension": ".py",
   "mimetype": "text/x-python",
   "name": "python",
   "nbconvert_exporter": "python",
   "pygments_lexer": "ipython3",
   "version": "3.9.4"
  }
 },
 "nbformat": 4,
 "nbformat_minor": 5
}
