{
 "cells": [
  {
   "cell_type": "markdown",
   "id": "06038d59-4c73-43c2-9e84-f8fc9fa1c2a6",
   "metadata": {},
   "source": [
    "<center><h1> Introduction to Scientific Packages I (Numpy) </h1></center>\n",
    "\n",
    "\n",
    "> We will cover:\n",
    "> 1. What are Packages and Modules\n",
    "> 2. Importing modules\n",
    "> 3. Basics of Numpy\n",
    ">> - Arrays\n",
    ">> - Functions that create arrays\n",
    ">> - Indexing and Slicing\n",
    ">> - Math operations with arrays (array-wise vs element-wise)\n",
    ">> - More advanced math operations\n",
    ">> - Boolean operations and masking\n",
    ">> - Fancy indexing\n",
    "\n"
   ]
  },
  {
   "cell_type": "markdown",
   "id": "6d5e4d74-f852-4132-881e-10a556aa0e99",
   "metadata": {},
   "source": [
    "## Packages and Modules\n",
    "Python uses \"modules\" or \"packages\" that can consist of libraries of different premade and optimized functions that you can use. The number of functions can be overwhelming but each library also has documentation that you can find at their websites. We will be working with data that I've preprocessed and focusing on loading data, data transformations, and visualization of data for now. We will move to analysis later. This can be handled with a small number of packages that I've included in the next cell.\n",
    "\n",
    "Visual analysis of raw data helps us build an intuition of phenomena that may be there. If we have sufficient domain knowledge, we can direct our deeper analyses based on our intuitions after just looking at the raw data. This also important when working with physiologists who want to see an observed phenomenon first before more abstract analyses.\n",
    "\n",
    "\n",
    "<u>Main modules of interest</u>:\n",
    "> <b>NumPy</b> : Essential functions for scientific programming. Very efficient for manipulating data vectors or \"arrays\". Much like Matlab if you're familiar. This package will be your most widely used package for data science in neuroscience. Most other scientific packages are supported by Numpy for their basic functionality making Numpy a necessary package to be familiar with. (http://www.numpy.org)\n",
    "\n",
    "\n",
    "Essentially modules are used by specifiying a package <i>object</i>'s name (e.g., numpy) then an <i>attribute</i> (e.g, functions like numpy.ones() which makes a 1D vector or n-dimensional matrix). We can shorten function calls by storing an abbreviated module name, for example numpy as np so that we can use np.ones() instead. It's not necessary, but common practice so that your code can be read easily by others."
   ]
  },
  {
   "cell_type": "markdown",
   "id": "a2772a0f-f46c-47ef-8743-82eb5470ea89",
   "metadata": {},
   "source": [
    "## Importing Modules"
   ]
  },
  {
   "cell_type": "code",
   "execution_count": 6,
   "id": "dfb57dd3-7971-4ff8-bcd4-95a6cea28057",
   "metadata": {},
   "outputs": [],
   "source": [
    "# importing the whole package\n",
    "import brain_package\n",
    "import brain_package as bp\n",
    "\n",
    "# importing modules within the package\n",
    "import brain_package.utils as utils\n",
    "from brain_package import utils\n",
    "from brain_package.utils import * # importing all functions within the module\n"
   ]
  },
  {
   "cell_type": "markdown",
   "id": "ce0f444f-9c62-4b0c-8e40-d2b75dd66b7f",
   "metadata": {},
   "source": [
    "> <b>Note:</b> The above serve as examples of importing modules to access the same functions. If the functions that you want are within a submodule (or a submodule of a submodule, etc) then it's easiest to import through dot notation just that specific submodule within the package library."
   ]
  },
  {
   "cell_type": "code",
   "execution_count": 7,
   "id": "c1c27aed-4bd9-43be-863c-eab60930d590",
   "metadata": {},
   "outputs": [
    {
     "data": {
      "text/plain": [
       "['__doc__',\n",
       " '__file__',\n",
       " '__loader__',\n",
       " '__name__',\n",
       " '__package__',\n",
       " '__path__',\n",
       " '__spec__',\n",
       " 'utils']"
      ]
     },
     "execution_count": 7,
     "metadata": {},
     "output_type": "execute_result"
    }
   ],
   "source": [
    "dir(brain_package)"
   ]
  },
  {
   "cell_type": "code",
   "execution_count": 8,
   "id": "1b90f8c2-6064-46b7-852a-8e7c05cf4d69",
   "metadata": {},
   "outputs": [
    {
     "data": {
      "text/plain": [
       "['__doc__',\n",
       " '__file__',\n",
       " '__loader__',\n",
       " '__name__',\n",
       " '__package__',\n",
       " '__path__',\n",
       " '__spec__',\n",
       " 'utils']"
      ]
     },
     "execution_count": 8,
     "metadata": {},
     "output_type": "execute_result"
    }
   ],
   "source": [
    "dir(bp)"
   ]
  },
  {
   "cell_type": "code",
   "execution_count": 9,
   "id": "699d6c27-66e0-45dc-9885-b04004236e38",
   "metadata": {},
   "outputs": [
    {
     "name": "stdout",
     "output_type": "stream",
     "text": [
      "Help on module brain_package.utils in brain_package:\n",
      "\n",
      "NAME\n",
      "    brain_package.utils\n",
      "\n",
      "FUNCTIONS\n",
      "    gauss(x, y, center=(5, 5), sigma=3.5)\n",
      "        Creates a 2-D gaussian.\n",
      "        \n",
      "        INPUT\n",
      "        - x, y (float) = range of xs and ys\n",
      "        - center (tuple/(float,float)) = mean of the gaussian\n",
      "        - sigma (float) = standard deviation of gaussian\n",
      "        \n",
      "        OUTPUT\n",
      "        - (float) = value of the gaussian at (x,y)\n",
      "    \n",
      "    get_spaced_colors(n)\n",
      "        Function used for creating evenly spaced colors for n number of unique stimulus parameters \n",
      "        \n",
      "        INPUT\n",
      "        - n (int/float) = number of colors needed \n",
      "        \n",
      "        OUTPUT\n",
      "        - (list) = list of colors that are uniformly spaced visually\n",
      "\n",
      "FILE\n",
      "    /home/vrhaynes/PythonDataCamp/brain_package/utils.py\n",
      "\n",
      "\n"
     ]
    }
   ],
   "source": [
    "help(utils)"
   ]
  },
  {
   "cell_type": "markdown",
   "id": "e68650a7-111f-449a-a87a-6f1c3bed20bf",
   "metadata": {},
   "source": [
    "> Let's import the modules we need for the rest of this tutorial now."
   ]
  },
  {
   "cell_type": "code",
   "execution_count": 10,
   "id": "eea3e442-11d6-4a61-a575-8737ff362c2d",
   "metadata": {},
   "outputs": [],
   "source": [
    "# Import modules - stylistically, these are kept somewhere near the top of your file and group together\n",
    "import numpy as np\n",
    "\n",
    "import matplotlib.pyplot as plt \n",
    "# the percent sign below is something called Jupyter magic making the Jupyter Notebook interactive\n",
    "# - (In this case, just plotting figures inside the notebook.)\n",
    "%matplotlib inline \n"
   ]
  },
  {
   "cell_type": "markdown",
   "id": "a0c4da1d-84a8-4b5e-a637-67e551d212ee",
   "metadata": {},
   "source": [
    "## Basics of Numpy\n",
    "> Write stuff\n",
    ">\n",
    "> Give a list of all modules in Numpy\n",
    "\n",
    "### What are arrays?\n",
    "***Arrays*** are a very useful concept shared by many programming languages. Arrays are:\n",
    "\n",
    "<ol>\n",
    "<li>Containers that hold many items, all of the same type. \n",
    "<li>Represented by a rectangular structure. Arrays may have any number of dimensions, but each dimension (axis) of the array has a fixed length.\n",
    "</ol>\n",
    "\n",
    "For example:\n",
    "\n",
    "<ul>\n",
    "<li>A 1D array of 10M samples recorded from an electrode that shows electical potential over time\n",
    "\n",
    "<table style='margin: 10px; margin-left: 50px; background-color: #FFF'>\n",
    "<tr><td style=\"background-color: #fff; border: 1px solid #000;\">0.0531</td style=\"background-color: #fff; border: 1px solid #000;\"><td style=\"background-color: #fff; border: 1px solid #000;\">0.0547</td style=\"background-color: #fff; border: 1px solid #000;\"><td style=\"background-color: #fff; border: 1px solid #000;\">0.0522</td style=\"background-color: #fff; border: 1px solid #000;\"><td style=\"background-color: #fff; border: 1px solid #000;\">0.0525</td style=\"background-color: #fff; border: 1px solid #000;\"><td style=\"background-color: #fff; border: 1px solid #000;\">0.0536</td style=\"background-color: #fff; border: 1px solid #000;\"><td style=\"background-color: #fff; border: 1px solid #000;\">0.0531</td style=\"background-color: #fff; border: 1px solid #000;\"><td style=\"background-color: #fff; border: 1px solid #000;\">&nbsp;&nbsp;.&nbsp;&nbsp;&nbsp;.&nbsp;&nbsp;&nbsp;.&nbsp;&nbsp;</td style=\"background-color: #fff; border: 1px solid #000;\"><td style=\"background-color: #fff; border: 1px solid #000;\">0.0530</td style=\"background-color: #fff; border: 1px solid #000;\"></tr>\n",
    "</table>\n",
    "\n",
    "<li>A 5x5 (2D) matrix\n",
    "\n",
    "<table style='margin: 10px; margin-left: 50px'>\n",
    "<tr><td style=\"background-color: #fff; border: 1px solid #000;\">&nbsp;1&nbsp;</td style=\"background-color: #fff; border: 1px solid #000;\"><td style=\"background-color: #fff; border: 1px solid #000;\">&nbsp;0&nbsp;</td style=\"background-color: #fff; border: 1px solid #000;\"><td style=\"background-color: #fff; border: 1px solid #000;\">&nbsp;0&nbsp;</td style=\"background-color: #fff; border: 1px solid #000;\"><td style=\"background-color: #fff; border: 1px solid #000;\">&nbsp;0&nbsp;</td style=\"background-color: #fff; border: 1px solid #000;\"><td style=\"background-color: #fff; border: 1px solid #000;\">&nbsp;0&nbsp;</td style=\"background-color: #fff; border: 1px solid #000;\"></tr>\n",
    "<tr><td style=\"background-color: #fff; border: 1px solid #000;\">&nbsp;0&nbsp;</td style=\"background-color: #fff; border: 1px solid #000;\"><td style=\"background-color: #fff; border: 1px solid #000;\">&nbsp;1&nbsp;</td style=\"background-color: #fff; border: 1px solid #000;\"><td style=\"background-color: #fff; border: 1px solid #000;\">&nbsp;0&nbsp;</td style=\"background-color: #fff; border: 1px solid #000;\"><td style=\"background-color: #fff; border: 1px solid #000;\">&nbsp;0&nbsp;</td style=\"background-color: #fff; border: 1px solid #000;\"><td style=\"background-color: #fff; border: 1px solid #000;\">&nbsp;0&nbsp;</td style=\"background-color: #fff; border: 1px solid #000;\"></tr>\n",
    "<tr><td style=\"background-color: #fff; border: 1px solid #000;\">&nbsp;0&nbsp;</td style=\"background-color: #fff; border: 1px solid #000;\"><td style=\"background-color: #fff; border: 1px solid #000;\">&nbsp;0&nbsp;</td style=\"background-color: #fff; border: 1px solid #000;\"><td style=\"background-color: #fff; border: 1px solid #000;\">&nbsp;1&nbsp;</td style=\"background-color: #fff; border: 1px solid #000;\"><td style=\"background-color: #fff; border: 1px solid #000;\">&nbsp;0&nbsp;</td style=\"background-color: #fff; border: 1px solid #000;\"><td style=\"background-color: #fff; border: 1px solid #000;\">&nbsp;0&nbsp;</td style=\"background-color: #fff; border: 1px solid #000;\"></tr>\n",
    "<tr><td style=\"background-color: #fff; border: 1px solid #000;\">&nbsp;0&nbsp;</td style=\"background-color: #fff; border: 1px solid #000;\"><td style=\"background-color: #fff; border: 1px solid #000;\">&nbsp;0&nbsp;</td style=\"background-color: #fff; border: 1px solid #000;\"><td style=\"background-color: #fff; border: 1px solid #000;\">&nbsp;0&nbsp;</td style=\"background-color: #fff; border: 1px solid #000;\"><td style=\"background-color: #fff; border: 1px solid #000;\">&nbsp;1&nbsp;</td style=\"background-color: #fff; border: 1px solid #000;\"><td style=\"background-color: #fff; border: 1px solid #000;\">&nbsp;0&nbsp;</td style=\"background-color: #fff; border: 1px solid #000;\"></tr>\n",
    "<tr><td style=\"background-color: #fff; border: 1px solid #000;\">&nbsp;0&nbsp;</td style=\"background-color: #fff; border: 1px solid #000;\"><td style=\"background-color: #fff; border: 1px solid #000;\">&nbsp;0&nbsp;</td style=\"background-color: #fff; border: 1px solid #000;\"><td style=\"background-color: #fff; border: 1px solid #000;\">&nbsp;0&nbsp;</td style=\"background-color: #fff; border: 1px solid #000;\"><td style=\"background-color: #fff; border: 1px solid #000;\">&nbsp;0&nbsp;</td style=\"background-color: #fff; border: 1px solid #000;\"><td style=\"background-color: #fff; border: 1px solid #000;\">&nbsp;1&nbsp;</td style=\"background-color: #fff; border: 1px solid #000;\"></tr>\n",
    "</table>"
   ]
  },
  {
   "cell_type": "code",
   "execution_count": 11,
   "id": "d62d9097-2421-4197-a767-67504034f2cb",
   "metadata": {},
   "outputs": [],
   "source": [
    "# we can test the performance with the time module \n",
    "from time import perf_counter # don't worry about this! - you can also import just single functions!!!\n",
    "import random # useful for getting random numbers\n",
    "\n"
   ]
  },
  {
   "cell_type": "code",
   "execution_count": 12,
   "id": "8a8eb610-cbcc-4008-969c-6901966aea13",
   "metadata": {},
   "outputs": [
    {
     "name": "stdout",
     "output_type": "stream",
     "text": [
      "The list array took 0.000359 seconds\n"
     ]
    },
    {
     "data": {
      "text/plain": [
       "[[8, 4, 7, 4, 6, 6, 0, 8, 2, 7, 6, 1],\n",
       " [4, 1, 2, 7, 9, 0, 4, 5, 3, 0, 0, 0],\n",
       " [5, 1, 8, 5, 0, 8, 5, 2, 3, 0, 9, 3],\n",
       " [0, 4, 5, 7, 8, 9, 1, 5, 5, 2, 4, 4],\n",
       " [5, 8, 6, 1, 1, 2, 8, 4, 9, 7, 0, 9],\n",
       " [9, 8, 8, 3, 9, 6, 8, 2, 7, 5, 2, 7],\n",
       " [6, 4, 1, 1, 8, 4, 9, 7, 7, 4, 8, 2],\n",
       " [1, 9, 9, 2, 5, 9, 3, 8, 8, 4, 5, 5],\n",
       " [3, 2, 0, 4, 0, 7, 6, 1, 5, 3, 8, 0],\n",
       " [3, 8, 9, 1, 7, 8, 5, 3, 7, 2, 8, 4]]"
      ]
     },
     "execution_count": 12,
     "metadata": {},
     "output_type": "execute_result"
    }
   ],
   "source": [
    "# Recall that arrays are similar to lists. Lists can have a several elements as a single type\n",
    "# and these can be nested.\n",
    "n_rows = 10\n",
    "n_cols = 12\n",
    "\n",
    "# start timer\n",
    "tic = perf_counter()\n",
    "\n",
    "list_array = []\n",
    "for x in range(n_rows):\n",
    "    row = []\n",
    "    for y in range(n_cols):\n",
    "        row.append(int(10*random.random()))\n",
    "    list_array.append(row)\n",
    "    \n",
    "    \n",
    "# stop timer   \n",
    "toc = perf_counter()\n",
    "print('The list array took %.6f seconds'%(toc-tic))\n",
    "t1 = toc-tic\n",
    "\n",
    "list_array\n",
    "\n"
   ]
  },
  {
   "cell_type": "code",
   "execution_count": 13,
   "id": "b821b027-32cc-49c3-a9c0-d72c09dd19cb",
   "metadata": {},
   "outputs": [
    {
     "ename": "TypeError",
     "evalue": "list indices must be integers or slices, not tuple",
     "output_type": "error",
     "traceback": [
      "\u001b[0;31m---------------------------------------------------------------------------\u001b[0m",
      "\u001b[0;31mTypeError\u001b[0m                                 Traceback (most recent call last)",
      "\u001b[0;32m<ipython-input-13-60322d1437a3>\u001b[0m in \u001b[0;36m<module>\u001b[0;34m\u001b[0m\n\u001b[0;32m----> 1\u001b[0;31m \u001b[0mlist_array\u001b[0m\u001b[0;34m[\u001b[0m\u001b[0;36m2\u001b[0m\u001b[0;34m,\u001b[0m\u001b[0;36m0\u001b[0m\u001b[0;34m]\u001b[0m\u001b[0;34m,\u001b[0m \u001b[0mlist_array\u001b[0m\u001b[0;34m[\u001b[0m\u001b[0;36m0\u001b[0m\u001b[0;34m,\u001b[0m\u001b[0;36m2\u001b[0m\u001b[0;34m]\u001b[0m \u001b[0;31m# this doesn't work\u001b[0m\u001b[0;34m\u001b[0m\u001b[0;34m\u001b[0m\u001b[0m\n\u001b[0m\u001b[1;32m      2\u001b[0m \u001b[0;34m\u001b[0m\u001b[0m\n",
      "\u001b[0;31mTypeError\u001b[0m: list indices must be integers or slices, not tuple"
     ]
    }
   ],
   "source": [
    "list_array[2,0], list_array[0,2] # this doesn't work \n",
    "\n"
   ]
  },
  {
   "cell_type": "code",
   "execution_count": 14,
   "id": "ad80b231-2b14-4c42-bd51-a3355a911014",
   "metadata": {},
   "outputs": [
    {
     "data": {
      "text/plain": [
       "(5, 7)"
      ]
     },
     "execution_count": 14,
     "metadata": {},
     "output_type": "execute_result"
    }
   ],
   "source": [
    "list_array[2][0], list_array[0][2] # which row then which column\n",
    "\n"
   ]
  },
  {
   "cell_type": "code",
   "execution_count": 15,
   "id": "c159d408-0cdd-44d6-b022-0943f7ca2375",
   "metadata": {},
   "outputs": [
    {
     "name": "stdout",
     "output_type": "stream",
     "text": [
      "The awkward array took 0.000381 seconds\n"
     ]
    },
    {
     "data": {
      "text/plain": [
       "[4.4, 4.9, 5.5, 3.5, 5.3, 5.9, 4.9, 4.5, 5.6, 3.4, 5.0, 3.5]"
      ]
     },
     "execution_count": 15,
     "metadata": {},
     "output_type": "execute_result"
    }
   ],
   "source": [
    "# operations on this are even more awkward...\n",
    "tic = perf_counter()\n",
    "means = []\n",
    "for y in range(n_cols):\n",
    "    col = [row[y] for row in list_array]\n",
    "    means.append(sum(col)/float(n_rows)) # this may get confusing\n",
    "\n",
    "\n",
    "toc = perf_counter()\n",
    "print('The awkward array took %.6f seconds'%(toc-tic))\n",
    "t2 = toc-tic\n",
    "\n",
    "means\n",
    "\n"
   ]
  },
  {
   "cell_type": "code",
   "execution_count": 16,
   "id": "0d005477-1748-41c5-937a-b014e32bd177",
   "metadata": {},
   "outputs": [
    {
     "name": "stdout",
     "output_type": "stream",
     "text": [
      "The Numpy array took 0.000569 seconds vs 0.000740 seconds for list array\n"
     ]
    },
    {
     "data": {
      "text/plain": [
       "(array([[3, 3, 0, 2, 0, 8, 4, 3, 4, 6, 5, 7],\n",
       "        [6, 8, 8, 6, 7, 2, 5, 3, 7, 0, 3, 7],\n",
       "        [1, 5, 7, 7, 5, 1, 2, 6, 6, 8, 3, 9],\n",
       "        [4, 2, 2, 2, 3, 1, 8, 4, 9, 7, 5, 0],\n",
       "        [6, 0, 6, 2, 3, 1, 8, 7, 5, 1, 8, 7],\n",
       "        [8, 5, 7, 9, 2, 9, 9, 4, 6, 1, 7, 6],\n",
       "        [2, 2, 8, 9, 5, 2, 2, 1, 5, 7, 1, 8],\n",
       "        [7, 4, 3, 7, 7, 7, 5, 5, 3, 8, 6, 7],\n",
       "        [2, 3, 1, 5, 8, 5, 1, 1, 4, 5, 8, 9],\n",
       "        [1, 9, 0, 8, 2, 1, 7, 1, 5, 8, 0, 3]]),\n",
       " array([4. , 4.1, 4.2, 5.7, 4.2, 3.7, 5.1, 3.5, 5.4, 5.1, 4.6, 6.3]))"
      ]
     },
     "execution_count": 16,
     "metadata": {},
     "output_type": "execute_result"
    }
   ],
   "source": [
    "# Numpy!\n",
    "\n",
    "tic = perf_counter()\n",
    "array = np.random.randint(10,size=(n_rows, n_cols)) # creates a random array of integers with size n_rows x n_cols and maximum value 10\n",
    "means = array.mean(axis=0) # computes mean over the columns (axis 0)\n",
    "\n",
    "toc = perf_counter()\n",
    "print('The Numpy array took %.6f seconds vs %.6f seconds for list array'%(toc-tic,t1+t2)) # this would scale with the size of the array\n",
    "\n",
    "array, means\n",
    "\n"
   ]
  },
  {
   "cell_type": "code",
   "execution_count": 17,
   "id": "7696251b-99bb-4c2d-9c86-5b534b55fe53",
   "metadata": {},
   "outputs": [
    {
     "data": {
      "text/plain": [
       "(2, (10, 12), 120, 8)"
      ]
     },
     "execution_count": 17,
     "metadata": {},
     "output_type": "execute_result"
    }
   ],
   "source": [
    "# arrays have their own instance attributes (they are a class!)\n",
    "array.ndim, array.shape, array.size, array.itemsize # this last one says that each item uses 8 bytes\n",
    "\n"
   ]
  },
  {
   "cell_type": "code",
   "execution_count": 18,
   "id": "f6b204c3-1f5e-4682-92d6-05c5a3e743e1",
   "metadata": {},
   "outputs": [
    {
     "data": {
      "text/plain": [
       "dtype('int64')"
      ]
     },
     "execution_count": 18,
     "metadata": {},
     "output_type": "execute_result"
    }
   ],
   "source": [
    "array.dtype # 64-bit integers\n",
    "\n"
   ]
  },
  {
   "cell_type": "markdown",
   "id": "2fe5e793-1e61-40e8-95c6-d3edb5880aea",
   "metadata": {},
   "source": [
    "> All elements in the array are of the same data type, a 64-bit (8 byte) floating-point number.\n",
    "> \n",
    "> This is the default ***dtype*** in most cases. We may want to change the dtype if we are using large amounts of data and are worried about memory/speed.\n",
    "> \n",
    "> This is a list of the different dtypes, their sizes, the numerical precision, and the range of values they can represent.\n",
    "\n",
    "<table style=\"margin-left: 50px\">\n",
    "<tr><td> dtype  </td><td> bytes     </td><td> precision  </td><td> approx. range       </td></tr>\n",
    "<tr><td>float64 </td><td> 8         </td><td> 16         </td><td> ±10<sup>308</sup>   </td></tr>\n",
    "<tr><td>float32 </td><td> 4         </td><td> 7          </td><td> ±10<sup>38</sup>    </td></tr>\n",
    "<tr><td>int64   </td><td> 8         </td><td> 0          </td><td> ±10<sup>18</sup>    </td></tr>\n",
    "<tr><td>int32   </td><td> 4         </td><td> 0          </td><td> ±10<sup>9</sup>     </td></tr>\n",
    "<tr><td>int16   </td><td> 2         </td><td> 0          </td><td> ±10<sup>4</sup>     </td></tr>\n",
    "<tr><td>uint64  </td><td> 8         </td><td> 0          </td><td> 0 to 10<sup>19</sup></td></tr>\n",
    "<tr><td>uint32  </td><td> 4         </td><td> 0          </td><td> 0 to 10<sup>9</sup> </td></tr>\n",
    "<tr><td>uint16  </td><td> 2         </td><td> 0          </td><td> 0 to 10<sup>4</sup> </td></tr>\n",
    "<tr><td>uint8   </td><td> 1         </td><td> 0          </td><td> 0-255               </td></tr>\n",
    "<tr><td>bool    </td><td> 1         </td><td> 0          </td><td> 0-1                 </td></tr>\n",
    "</table>\n",
    "\n",
    "\n",
    "> All dtypes: https://docs.scipy.org/doc/numpy-1.10.1/user/basics.types.html<br>\n",
    "> All ndarray attributes: https://docs.scipy.org/doc/numpy/reference/generated/numpy.ndarray.html\n",
    "\n",
    "----------------------\n",
    "\n",
    "To convert an array to a different dtype, use the *astype()* method.\n",
    "<div> <!-- NOTE: this div is a workaround for a jupyter HTML export bug --> </div>\n",
    "</div>"
   ]
  },
  {
   "cell_type": "code",
   "execution_count": 19,
   "id": "ac205e71-9a94-442a-a6b8-90cf48c6b551",
   "metadata": {},
   "outputs": [
    {
     "name": "stdout",
     "output_type": "stream",
     "text": [
      "960 bytes > 480 bytes\n"
     ]
    }
   ],
   "source": [
    "# compare a converted type\n",
    "converted_array = array.astype('int32')\n",
    "\n",
    "print(array.size*array.itemsize, 'bytes >', converted_array.size*converted_array.itemsize, 'bytes')\n",
    "\n"
   ]
  },
  {
   "cell_type": "code",
   "execution_count": null,
   "id": "a6979f0d-ea6e-46b9-ab38-7f4db8fa44d2",
   "metadata": {},
   "outputs": [],
   "source": [
    "# check out others with tab completion\n",
    "array.\n",
    "\n"
   ]
  },
  {
   "cell_type": "markdown",
   "id": "8d6ff19c-2ee0-46bf-a0ef-0e62d6742c21",
   "metadata": {},
   "source": [
    "### Functions that create basic arrays\n"
   ]
  },
  {
   "cell_type": "code",
   "execution_count": 20,
   "id": "2c465095-993e-4494-9987-03275fd1c775",
   "metadata": {},
   "outputs": [
    {
     "data": {
      "text/plain": [
       "array([[8, 4, 7, 4, 6, 6, 0, 8, 2, 7, 6, 1],\n",
       "       [4, 1, 2, 7, 9, 0, 4, 5, 3, 0, 0, 0],\n",
       "       [5, 1, 8, 5, 0, 8, 5, 2, 3, 0, 9, 3],\n",
       "       [0, 4, 5, 7, 8, 9, 1, 5, 5, 2, 4, 4],\n",
       "       [5, 8, 6, 1, 1, 2, 8, 4, 9, 7, 0, 9],\n",
       "       [9, 8, 8, 3, 9, 6, 8, 2, 7, 5, 2, 7],\n",
       "       [6, 4, 1, 1, 8, 4, 9, 7, 7, 4, 8, 2],\n",
       "       [1, 9, 9, 2, 5, 9, 3, 8, 8, 4, 5, 5],\n",
       "       [3, 2, 0, 4, 0, 7, 6, 1, 5, 3, 8, 0],\n",
       "       [3, 8, 9, 1, 7, 8, 5, 3, 7, 2, 8, 4]])"
      ]
     },
     "execution_count": 20,
     "metadata": {},
     "output_type": "execute_result"
    }
   ],
   "source": [
    "# Our nested list can be remade into an array\n",
    "list_to_array = np.array(list_array)\n",
    "\n",
    "list_to_array\n",
    "\n"
   ]
  },
  {
   "cell_type": "markdown",
   "id": "55216196-c617-4f54-86b0-e6486a2a5936",
   "metadata": {},
   "source": [
    "<h1></h1>\n",
    "***Exercise 1*** Create an array with shape (2,3,4). Don't use random. Hardcode the structure of the array."
   ]
  },
  {
   "cell_type": "code",
   "execution_count": 25,
   "id": "d957801e-6917-4f14-ab1d-f13478fecb2b",
   "metadata": {},
   "outputs": [
    {
     "name": "stdout",
     "output_type": "stream",
     "text": [
      "[[[ 1  2  3  4]\n",
      "  [ 5  6  7  8]\n",
      "  [ 9 10 11 12]]\n",
      "\n",
      " [[13 14 15 16]\n",
      "  [17 18 19 20]\n",
      "  [21 22 23 24]]]\n",
      "(2, 3, 4)\n"
     ]
    }
   ],
   "source": [
    "dim1 = 2\n",
    "dim2 = 3\n",
    "dim3 = 4\n",
    "\n",
    "# here we have 2 3x4 lists\n",
    "array = np.array([[[1,2,3,4],    # first 3x4 list\n",
    "                   [5,6,7,8],\n",
    "                   [9,10,11,12]],\n",
    "                  [[13,14,15,16], # second 3x4 list\n",
    "                   [17,18,19,20],\n",
    "                   [21,22,23,24]]]\n",
    ")\n",
    "\n",
    "print(array)\n",
    "print(array.shape)\n",
    "\n"
   ]
  },
  {
   "cell_type": "code",
   "execution_count": 26,
   "id": "62f3b3af-fb9a-40a8-8a61-04f50773e180",
   "metadata": {},
   "outputs": [],
   "source": [
    "# creating zeros\n",
    "array1 = np.zeros((2,2),dtype='uint16')\n",
    "\n",
    "# creating ones\n",
    "array2 = np.ones((3,3))\n",
    "\n",
    "# creating zeros with the same shape and type as another array\n",
    "array3 = np.zeros_like(array2)\n",
    "\n",
    "# ... same for ones\n",
    "array4 = np.ones_like(array1)\n",
    "\n"
   ]
  },
  {
   "cell_type": "code",
   "execution_count": 27,
   "id": "c4356443-3627-41d8-aefc-eaba8391286b",
   "metadata": {},
   "outputs": [
    {
     "name": "stdout",
     "output_type": "stream",
     "text": [
      "--1--\n",
      " [[0 0]\n",
      " [0 0]] \n",
      "--2--\n",
      " [[1. 1. 1.]\n",
      " [1. 1. 1.]\n",
      " [1. 1. 1.]] \n",
      "--3--\n",
      " [[0. 0. 0.]\n",
      " [0. 0. 0.]\n",
      " [0. 0. 0.]] \n",
      "--4--\n",
      " [[1 1]\n",
      " [1 1]]\n"
     ]
    }
   ],
   "source": [
    "print('--1--\\n',array1, '\\n--2--\\n',array2, '\\n--3--\\n',array3, '\\n--4--\\n',array4)"
   ]
  },
  {
   "cell_type": "code",
   "execution_count": 28,
   "id": "adb81318-0955-4845-a342-02b67e44f3b5",
   "metadata": {},
   "outputs": [
    {
     "data": {
      "text/plain": [
       "(array([[1, 1],\n",
       "        [1, 1]], dtype=uint16),\n",
       " array([[0., 0., 0.],\n",
       "        [0., 0., 0.],\n",
       "        [0., 0., 0.]]))"
      ]
     },
     "execution_count": 28,
     "metadata": {},
     "output_type": "execute_result"
    }
   ],
   "source": [
    "array4, array3"
   ]
  },
  {
   "cell_type": "markdown",
   "id": "0ee6feb8-5882-49d6-8664-839804499bfa",
   "metadata": {},
   "source": [
    "> Notice type only appears for the array we set it for and the one we \"copied.\""
   ]
  },
  {
   "cell_type": "code",
   "execution_count": 33,
   "id": "dec26b0c-9b2b-4d54-bae4-523723705195",
   "metadata": {},
   "outputs": [
    {
     "data": {
      "text/plain": [
       "(array([0, 1, 2, 3]), array([0, 1, 2, 3]))"
      ]
     },
     "execution_count": 33,
     "metadata": {},
     "output_type": "execute_result"
    }
   ],
   "source": [
    "# Numpy preduces iterables too\n",
    "np.arange(4), np.arange(0,4)\n",
    "\n"
   ]
  },
  {
   "cell_type": "code",
   "execution_count": 30,
   "id": "d4f7d1ec-4807-46ee-8d5b-8daa5e96042e",
   "metadata": {},
   "outputs": [
    {
     "data": {
      "text/plain": [
       "array([4, 5, 6, 7, 8, 9])"
      ]
     },
     "execution_count": 30,
     "metadata": {},
     "output_type": "execute_result"
    }
   ],
   "source": [
    "np.arange(4,10)\n",
    "\n"
   ]
  },
  {
   "cell_type": "markdown",
   "id": "48be9529-c7a1-409e-b753-a3b720298cd2",
   "metadata": {},
   "source": [
    "### Indexing and slicing arrays\n",
    "> Indexing and slicing are two ways of accessing values from arrays. Both are part of the built-in functionality of Python, but they work slightly differently with Numpy."
   ]
  },
  {
   "cell_type": "code",
   "execution_count": 34,
   "id": "07295c15-6177-4e80-8d50-f2f674831cc6",
   "metadata": {},
   "outputs": [],
   "source": [
    "array = np.array([[i for i in range(4)],\n",
    "         [j for j in range(4,8)],\n",
    "         [k for k in range(8,12)]])\n",
    "\n"
   ]
  },
  {
   "cell_type": "code",
   "execution_count": 36,
   "id": "e4e9a763-2727-46b7-b4c1-70900e080f40",
   "metadata": {},
   "outputs": [
    {
     "data": {
      "text/plain": [
       "array([[ 0,  1,  2,  3],\n",
       "       [ 4,  5,  6,  7],\n",
       "       [ 8,  9, 10, 11]])"
      ]
     },
     "execution_count": 36,
     "metadata": {},
     "output_type": "execute_result"
    }
   ],
   "source": [
    "array"
   ]
  },
  {
   "cell_type": "code",
   "execution_count": 35,
   "id": "70ed42d5-0f58-47e0-acd8-8b2521194226",
   "metadata": {},
   "outputs": [
    {
     "data": {
      "text/plain": [
       "(3, 4)"
      ]
     },
     "execution_count": 35,
     "metadata": {},
     "output_type": "execute_result"
    }
   ],
   "source": [
    "array.shape"
   ]
  },
  {
   "cell_type": "markdown",
   "id": "a29c8629-f91b-4acd-b086-725a33904a01",
   "metadata": {},
   "source": [
    "### Indexing"
   ]
  },
  {
   "cell_type": "code",
   "execution_count": 37,
   "id": "80235ca2-40d6-4ea7-a88e-66a336f66f25",
   "metadata": {},
   "outputs": [
    {
     "name": "stdout",
     "output_type": "stream",
     "text": [
      "[[ 0  1  2  3]\n",
      " [ 4  5  6  7]\n",
      " [ 8  9 10 11]]\n",
      "3\n",
      "3\n",
      "[[ 0  1  2 -1]\n",
      " [ 4  5  6  7]\n",
      " [ 8  9 10 11]]\n"
     ]
    }
   ],
   "source": [
    "print(array)\n",
    "\n",
    "# reading a single value, we can provide a common separated list\n",
    "print(array[0,3])\n",
    "\n",
    "# ... or similar to how we would with lists - this is not proper, though!\n",
    "print(array[0][3])\n",
    "\n",
    "# we can also change values in an array\n",
    "array[0,3] = -1\n",
    "print(array)\n",
    "\n"
   ]
  },
  {
   "cell_type": "markdown",
   "id": "e2b08410-b008-4b9e-80be-cd110672c6ab",
   "metadata": {},
   "source": [
    "<h1></h1>\n",
    "\n",
    "***Exercise 2*** Create a 2D array of any size. Using a nested for-loop, add the value 3 to all of the elements in the array. "
   ]
  },
  {
   "cell_type": "code",
   "execution_count": 41,
   "id": "b83a02c3-e4c4-424f-8da9-d7af1459168e",
   "metadata": {},
   "outputs": [
    {
     "name": "stdout",
     "output_type": "stream",
     "text": [
      "[[1. 1.]\n",
      " [1. 1.]]\n",
      "[[4. 4.]\n",
      " [4. 4.]]\n",
      "[[7. 7.]\n",
      " [7. 7.]]\n"
     ]
    }
   ],
   "source": [
    "n_rows = 2\n",
    "n_cols = 2\n",
    "X = np.ones((n_rows,n_cols))\n",
    "print(X)\n",
    "\n",
    "# example 1\n",
    "for i,row in enumerate(X):\n",
    "    for j,item in enumerate(row):\n",
    "        X[i,j] = item+3\n",
    "\n",
    "print(X)\n",
    "\n",
    "# example 2\n",
    "for i in range(n_rows):\n",
    "    for j in range(n_cols):\n",
    "        X[i,j]+=3\n",
    "        \n",
    "print(X)\n",
    "\n",
    "\n"
   ]
  },
  {
   "cell_type": "markdown",
   "id": "1d57117d-eaa2-4a67-85b4-3192ae22bf31",
   "metadata": {},
   "source": [
    "### Slicing\n",
    "Unlike indexing, slicing an array allows to access rectangular subregions of an array. You will be doing this a lot, particularly when wanting to analyze labeled data!\n",
    "\n",
    "When we access a <i>slice</i> from an array, we aren't just pointing to the data stored in memory. We are creating a COPY of the slice. However when we modify it, we are modifying the new instance and the original instance! This is because Python creates a new object instance  which provides a view onto the original data. \n",
    "\n",
    "One major difference between a ***slice*** and an ***index*** is that a slice maintains the dimensionality of the axes, while indices reduces them. \n",
    "\n",
    "<b>NOTE:</b> BEFORE you run the next cell, let's think about it together."
   ]
  },
  {
   "cell_type": "code",
   "execution_count": 45,
   "id": "9a5dfae0-8263-4c20-abdc-3c5ef7ebb02c",
   "metadata": {},
   "outputs": [
    {
     "data": {
      "text/plain": [
       "array([7, 8, 9])"
      ]
     },
     "execution_count": 45,
     "metadata": {},
     "output_type": "execute_result"
    }
   ],
   "source": [
    "X = np.arange(10)\n",
    "X[-3:]"
   ]
  },
  {
   "cell_type": "code",
   "execution_count": 73,
   "id": "e3213e6a-1bc4-44bd-801c-62a49785bf67",
   "metadata": {},
   "outputs": [
    {
     "name": "stdout",
     "output_type": "stream",
     "text": [
      "[[ 0  1  2  3  4  5  6  7  8  9]\n",
      " [10 11 12 13 14 15 16 17 18 19]\n",
      " [20 21 22 23 24 25 26 27 28 29]\n",
      " [30 31 32 33 34 35 36 37 38 39]\n",
      " [40 41 42 43 44 45 46 47 48 49]\n",
      " [50 51 52 53 54 55 56 57 58 59]\n",
      " [60 61 62 63 64 65 66 67 68 69]\n",
      " [70 71 72 73 74 75 76 77 78 79]\n",
      " [80 81 82 83 84 85 86 87 88 89]\n",
      " [90 91 92 93 94 95 96 97 98 99]]\n"
     ]
    }
   ],
   "source": [
    "array = np.arange(100).reshape(10,10)\n",
    "\n",
    "print(array)"
   ]
  },
  {
   "cell_type": "code",
   "execution_count": 74,
   "id": "017e14de-9d0e-4c2f-9f90-989c3099c830",
   "metadata": {},
   "outputs": [
    {
     "name": "stdout",
     "output_type": "stream",
     "text": [
      "[[33 34 35 36]\n",
      " [43 44 45 46]\n",
      " [53 54 55 56]\n",
      " [63 64 65 66]]\n"
     ]
    }
   ],
   "source": [
    "# here is an example of a slice\n",
    "array_sliced = array[3:7,3:7]\n",
    "print(array_sliced)\n",
    "\n"
   ]
  },
  {
   "cell_type": "code",
   "execution_count": 46,
   "id": "aec4f4e2-b615-44ec-a7b2-cf617b94fc3d",
   "metadata": {},
   "outputs": [
    {
     "name": "stdout",
     "output_type": "stream",
     "text": [
      "Slice vs Index \n",
      "--------------\n",
      "[[[2 5 4 4 4 2 1 6 7 4 8 2 6 4 4 3 4 7 4 9]]] [2 5 4 4 4 2 1 6 7 4 8 2 6 4 4 3 4 7 4 9]\n",
      "140092472927888 140092472927120\n",
      "Number of elements: 20 20\n",
      "Lengths: 1 20\n",
      "Shapes: (1, 1, 20) (20,)\n"
     ]
    }
   ],
   "source": [
    "X = np.random.randint(0,10,size=(100,100,50))\n",
    "\n",
    "# we don't want to look at this whole thing. So let's slice and index it.\n",
    "# Here, we want the same item values from the original array.\n",
    "X_slice = X[:1,-1:,:20]\n",
    "X_index = X[0,-1,:20]\n",
    "\n",
    "print('Slice vs Index \\n--------------')\n",
    "print(X_slice,X_index)\n",
    "\n",
    "# Different addresses\n",
    "print(id(X_slice),id(X_index))\n",
    "\n",
    "# These have the same number of elements\n",
    "print('Number of elements:',X_slice.size,X_index.size)\n",
    "\n",
    "# ... different lengths\n",
    "print('Lengths:',len(X_slice),len(X_index))\n",
    "\n",
    "# ... and only one maintains all axes (even if just flattened)\n",
    "print('Shapes:',X_slice.shape,X_index.shape)\n"
   ]
  },
  {
   "cell_type": "markdown",
   "id": "01172349-bc56-4199-a772-1b74b54016c5",
   "metadata": {},
   "source": [
    "> <b>CAUTIONARY NOTE</b> Always know which you're working with! Array operations are sensitive to shape. Let's look at a confusing example."
   ]
  },
  {
   "cell_type": "raw",
   "id": "41badc1a-37ea-4b06-ada2-2556d1e7df36",
   "metadata": {},
   "source": [
    "Y = np.ones((1,1,1))\n",
    "\n",
    "# What happens here...\n",
    "print(Y[0])\n",
    "print(Y[0][0])\n",
    "print(Y[0][0][0])\n",
    "\n",
    "# this is, but looks the same in this ONE specific case\n",
    "print(Y[0,0,0])\n",
    "\n"
   ]
  },
  {
   "cell_type": "code",
   "execution_count": 48,
   "id": "e605dfaa-c873-4a93-9bea-55e9d2330f3d",
   "metadata": {},
   "outputs": [
    {
     "name": "stdout",
     "output_type": "stream",
     "text": [
      "[0 1 2 3 4 5 6 7 8 9]\n",
      "[3 4 5 6]\n",
      "-1\n",
      "[ 0  1  2 -1 -1 -1 -1  7  8  9]\n"
     ]
    }
   ],
   "source": [
    "# can also assign values to slices like when we index\n",
    "array = np.arange(10)\n",
    "print(array)\n",
    "\n",
    "new_slice = array[3:7]\n",
    "print(new_slice)\n",
    "\n",
    "# we need to EXPLICITLY work with the slice, not the variable\n",
    "new_slice = -1\n",
    "print(new_slice)\n",
    "\n",
    "# ...so like this\n",
    "array[3:7] = -1\n",
    "print(array)\n",
    "\n"
   ]
  },
  {
   "cell_type": "code",
   "execution_count": 49,
   "id": "909ca080-1d75-4ca8-9ef7-fd3c78021bfa",
   "metadata": {},
   "outputs": [],
   "source": [
    "new_slice = array[3:7]\n",
    "new_slice[0:3] = -1"
   ]
  },
  {
   "cell_type": "code",
   "execution_count": 51,
   "id": "0d72fb74-99eb-4b17-b9fc-4d9fca6a5f5c",
   "metadata": {},
   "outputs": [
    {
     "data": {
      "text/plain": [
       "array([ 0,  1,  2, -1, -1, -1, -1,  7,  8,  9])"
      ]
     },
     "execution_count": 51,
     "metadata": {},
     "output_type": "execute_result"
    }
   ],
   "source": [
    "array"
   ]
  },
  {
   "cell_type": "markdown",
   "id": "902adf14-fd70-47a4-a054-d0ad0d0910f7",
   "metadata": {},
   "source": [
    "### ... and then there are strides."
   ]
  },
  {
   "cell_type": "code",
   "execution_count": 52,
   "id": "f455f3ae-9808-4cd3-b285-bfc767dfd752",
   "metadata": {},
   "outputs": [
    {
     "name": "stdout",
     "output_type": "stream",
     "text": [
      "X1: [ 0  1  2  3  4  5  6  7  8  9 10]\n",
      "X2: [ 0  2  4  6  8 10]\n",
      "X3: [ 2  4  6  8 10]\n",
      "X4: [0 2 4 6]\n",
      "X5: [ 0  2  4  6  8 10]\n",
      "X6: [ 2  3  4  5  6  7  8  9 10]\n",
      "X7: [ 2  3  4  5  6  7  8  9 10]\n"
     ]
    }
   ],
   "source": [
    "X = np.arange(11)\n",
    "\n",
    "# The basic layout of the stride for numpy arrays is [low:high:stride size]\n",
    "print('X1:',X)\n",
    "print('X2:',X[0:11:2]) # this third index shows every other\n",
    "print('X3:',X[2::2])   # you don't need the upper bound\n",
    "print('X4:',X[:8:2])   # you don't need the lower bound\n",
    "print('X5:',X[::2])    # you don't actually need anything other than the stride size (NOTE: X5<=>X2)\n",
    "print('X6:',X[2::])    # this is the same as the next\n",
    "print('X7:',X[2:])     # ... so default high is the size of the axis and default stride is 1"
   ]
  },
  {
   "cell_type": "markdown",
   "id": "98f533ae-5bee-4724-8e58-2117aa97b732",
   "metadata": {},
   "source": [
    "### Math operations with arrays \n",
    "\n",
    "***\"Array-wise\"***\n",
    "These are your conventional operations you may be familiar with from linear algebra. Multiplying two arrays (with the appropriate dimensions) produces inner and outer products, i.e., another array or a float. To do these, we need to call specific Numpy functions.\n",
    "\n",
    "\n",
    "***Element-wise***\n",
    "These operations apply to each of the elements independently. The operations could be identical or depend on the position within the array.\n",
    "\n",
    "Let's look at our nested for-loop exercise again."
   ]
  },
  {
   "cell_type": "code",
   "execution_count": 53,
   "id": "2f376201-5ebf-439b-af69-a39a1c6c83de",
   "metadata": {},
   "outputs": [
    {
     "name": "stdout",
     "output_type": "stream",
     "text": [
      "[[ 0  1  2  3]\n",
      " [ 4  5  6  7]\n",
      " [ 8  9 10 11]] \n",
      "|->\n",
      "[[ 3  4  5  6]\n",
      " [ 7  8  9 10]\n",
      " [11 12 13 14]] \n",
      "<-|\n",
      "[[ 0  1  2  3]\n",
      " [ 4  5  6  7]\n",
      " [ 8  9 10 11]]\n",
      "[[ 3  4  5  6]\n",
      " [ 7  8  9 10]\n",
      " [11 12 13 14]]\n"
     ]
    }
   ],
   "source": [
    "array = np.array([[i for i in range(4)],\n",
    "         [j for j in range(4,8)],\n",
    "         [k for k in range(8,12)]])\n",
    "\n",
    "print(array,'\\n|->')\n",
    "print(array+3,'\\n<-|') # three is added element-wise\n",
    "print(array)\n",
    "array+=3 # if we want to edit it in-place\n",
    "print(array) \n"
   ]
  },
  {
   "cell_type": "code",
   "execution_count": 56,
   "id": "0f08c2a9-893d-4437-b519-246e6bbbbfc4",
   "metadata": {},
   "outputs": [],
   "source": [
    "# We can add two arrays together\n",
    "array1 = np.arange(-4,1)\n",
    "array2 = np.arange(0,5) # run next cell, then change this\n"
   ]
  },
  {
   "cell_type": "code",
   "execution_count": 57,
   "id": "8535e351-ebfd-4af0-bf62-daf297f0491d",
   "metadata": {},
   "outputs": [
    {
     "data": {
      "text/plain": [
       "array([-4, -2,  0,  2,  4])"
      ]
     },
     "execution_count": 57,
     "metadata": {},
     "output_type": "execute_result"
    }
   ],
   "source": [
    "# this only works if both the arrays have the same shape\n",
    "array1 + array2\n"
   ]
  },
  {
   "cell_type": "markdown",
   "id": "d31f3702-e706-4236-93dd-b70dd2875935",
   "metadata": {},
   "source": [
    "<h1></h1>\n",
    "\n",
    "***Exercise 3*** Create an array that has values that are 1 less than powers of 3 for exponents ranging from 0 to 10.  (The only function you need is numpy.arange!!!)"
   ]
  },
  {
   "cell_type": "code",
   "execution_count": 59,
   "id": "01c0b5cf-cd41-4e88-b10b-d66a962d5b33",
   "metadata": {},
   "outputs": [
    {
     "data": {
      "text/plain": [
       "array([    0,     2,     8,    26,    80,   242,   728,  2186,  6560,\n",
       "       19682, 59048])"
      ]
     },
     "execution_count": 59,
     "metadata": {},
     "output_type": "execute_result"
    }
   ],
   "source": [
    "x = 3**np.arange(0,11)-1\n",
    "\n",
    "x\n"
   ]
  },
  {
   "cell_type": "code",
   "execution_count": 60,
   "id": "1db8a899-0c01-4951-a8f8-f08df8abe372",
   "metadata": {},
   "outputs": [
    {
     "name": "stdout",
     "output_type": "stream",
     "text": [
      "Multiplication: [ 0 -3 -4 -3  0]\n",
      "Division: [       -inf -3.         -1.         -0.33333333  0.        ]\n",
      "Division: [-4.         -1.5        -0.66666667 -0.25        0.        ]\n"
     ]
    },
    {
     "name": "stderr",
     "output_type": "stream",
     "text": [
      "<ipython-input-60-718a53e5f4ba>:5: RuntimeWarning: divide by zero encountered in true_divide\n",
      "  print('Division:',array1/array2)\n"
     ]
    }
   ],
   "source": [
    "# element wise arithmetic works for multiplication as well\n",
    "print('Multiplication:',array1*array2) # NOTE: this is not the dot product\n",
    "\n",
    "# also for division\n",
    "print('Division:',array1/array2)\n",
    "\n",
    "# be careful not to divide by zero\n",
    "array2+=1 \n",
    "print('Division:',array1/array2)\n",
    "\n"
   ]
  },
  {
   "cell_type": "code",
   "execution_count": 62,
   "id": "4d4793c8-3b9a-4c28-9b10-afcc9946a648",
   "metadata": {},
   "outputs": [
    {
     "name": "stdout",
     "output_type": "stream",
     "text": [
      "[-16 -12  -8  -4   0]\n",
      "[0.  0.5 1.  1.5 2. ]\n"
     ]
    }
   ],
   "source": [
    "# These works for a single array, too\n",
    "array1*=2\n",
    "print(array1)\n",
    "\n",
    "# NOTE: /= doesn't actually work for arrays, but does for floats\n",
    "array2 = np.arange(0,5)\n",
    "# array2/=2 \n",
    "array2 = array2/2\n",
    "print(array2)\n"
   ]
  },
  {
   "cell_type": "markdown",
   "id": "7b684461-d819-4528-b5ba-8eaaba8d2208",
   "metadata": {},
   "source": [
    "### More advanced math operations with arrays"
   ]
  },
  {
   "cell_type": "code",
   "execution_count": 63,
   "id": "5f79a239-daa0-4751-b687-f6189a9cd22e",
   "metadata": {},
   "outputs": [
    {
     "name": "stdout",
     "output_type": "stream",
     "text": [
      "mean: 0.12021583740652103\n",
      "std: 2.91980393970234\n",
      "min: -4.914167291449758\n",
      "max: 4.974396680667061\n",
      "median: 0.46745938231627404\n",
      "sum: 12.021583740652103\n",
      "index of max value: 75\n",
      "index of min value 1\n",
      "array with only non-negative values: [3.99274649 0.24938535 3.76553528 3.43046668]\n",
      "increment sizes: [1 1 1 1]\n"
     ]
    }
   ],
   "source": [
    "# this is an array of values from a continuous uniform distribution\n",
    "# between -5 and 5 (i.e., centered at 0)\n",
    "array = 10*np.random.random(size=(10,10))-5\n",
    "\n",
    "# we have basic stats as instance methods\n",
    "print('mean:',array.mean())\n",
    "print('std:',array.std())\n",
    "print('min:',array.min())\n",
    "print('max:',array.max())\n",
    "\n",
    "# we have other math functions\n",
    "print('median:',np.median(array))\n",
    "print('sum:',np.sum(array))\n",
    "print('index of max value:',np.argmax(array))\n",
    "print('index of min value',np.argmin(array))\n",
    "print('array with only non-negative values:',np.abs(array[:4,0]))\n",
    "\n",
    "# NOTE: This one is niche, but useful in neuroscience. Can you think of an example?\n",
    "simple_array = np.arange(5)\n",
    "print('increment sizes:',np.diff(simple_array)) # this one returns an array with elements \n",
    "                             # that are the difference between adjacent elements\n",
    "                             "
   ]
  },
  {
   "cell_type": "code",
   "execution_count": 92,
   "id": "7ba8ee7b-3e0e-4a47-9917-89db08a08939",
   "metadata": {},
   "outputs": [
    {
     "name": "stdout",
     "output_type": "stream",
     "text": [
      "----Using LINSPACE----\n",
      "--For W--\n",
      "The beginning: [0.       0.001001 0.002002 0.003003 0.004004]\n",
      "The end: [0.995996 0.996997 0.997998 0.998999 1.      ]\n",
      "size: 1000\n",
      "\n",
      "--For X--\n",
      "The beginning: [0.    0.001 0.002 0.003 0.004]\n",
      "The end: [0.996 0.997 0.998 0.999 1.   ]\n",
      "size: 1001\n",
      "\n",
      "----Using ARANGE----\n",
      "--For Y--\n",
      "The beginning: [0.    0.001 0.002 0.003 0.004]\n",
      "The end: [0.995 0.996 0.997 0.998 0.999]\n",
      "size: 1000\n",
      "\n",
      "--For Z--\n",
      "The beginning: [0.    0.001 0.002 0.003 0.004]\n",
      "The end: [0.996 0.997 0.998 0.999 1.   ]\n",
      "size: 1001\n"
     ]
    }
   ],
   "source": [
    "# another useful math related function is linspace. If you use matlab this should be familiar to you\n",
    "W = np.linspace(0,1,1000) # returns 1000 uniformly distributed values between 0 and 1 inclusive\n",
    "X = np.linspace(0,1,1001) # returns 1001 uniformly distributed values between 0 and 1 inclusive\n",
    "Y = np.arange(0,1,0.001)  # returns values from 0 to 1 spaced at 0.001\n",
    "Z = np.arange(0,1+0.001,0.001)  # returns values from 0 to 1.001 spaced at 0.001\n",
    "\n",
    "print('----Using LINSPACE----')\n",
    "print('--For W--')\n",
    "print('The beginning:',W[:5])\n",
    "print('The end:',W[-5:]) # the final value matters and is independent\n",
    "print('size:',len(W))\n",
    "\n",
    "print('\\n--For X--')\n",
    "print('The beginning:',X[:5])\n",
    "print('The end:',X[-5:]) # the final value matters and is independent\n",
    "print('size:',len(X))\n",
    "\n",
    "print('\\n----Using ARANGE----')\n",
    "print('--For Y--')\n",
    "print('The beginning:',Y[:5])\n",
    "print('The end:',Y[-5:]) # the final value depends on the step size\n",
    "print('size:',len(Y))\n",
    "\n",
    "print('\\n--For Z--')\n",
    "print('The beginning:',Z[:5])\n",
    "print('The end:',Z[-5:]) # the final value depends on the step size\n",
    "print('size:',len(Z))\n"
   ]
  },
  {
   "cell_type": "markdown",
   "id": "b0c63d67-a01f-4250-be62-c63a3ff4cea8",
   "metadata": {},
   "source": [
    "### Boolean operations and masking\n",
    "\n",
    "> Using boolean operations allows us to set true-false conditions for how we index an array. Numpy has several useful ways of doing this. Let's start with the simplest.\n"
   ]
  },
  {
   "cell_type": "code",
   "execution_count": 66,
   "id": "7dbb25b4-0502-4ffc-b55d-6a0e7d2d84cd",
   "metadata": {},
   "outputs": [
    {
     "name": "stdout",
     "output_type": "stream",
     "text": [
      "[[ True False False  True False]\n",
      " [False False  True False False]\n",
      " [False False  True False False]]\n",
      "(array([0, 0, 1, 2]), array([0, 3, 2, 2]))\n",
      "[[0 0]\n",
      " [0 3]\n",
      " [1 2]\n",
      " [2 2]]\n"
     ]
    }
   ],
   "source": [
    "truth_array = np.array([[True, False, False, True, False],\n",
    "  [False, False, True, False, False],\n",
    "  [False, False, True, False, False]])\n",
    "\n",
    "print(truth_array)\n",
    "print(np.where(truth_array))    # return an array of indices where the condition is True\n",
    "print(np.argwhere(truth_array)) # return an array of indices where the condition is True"
   ]
  },
  {
   "cell_type": "code",
   "execution_count": 67,
   "id": "912f21cb-07c8-4218-bb8a-da3b5ef87871",
   "metadata": {},
   "outputs": [
    {
     "data": {
      "text/plain": [
       "(tuple, numpy.ndarray)"
      ]
     },
     "execution_count": 67,
     "metadata": {},
     "output_type": "execute_result"
    }
   ],
   "source": [
    "# one returns \"x\"s separate from \"y\"s\n",
    "# the other as ordered pairs of \"x\"s and \"y\"s\n",
    "type(np.where(truth_array)),type(np.argwhere(truth_array))"
   ]
  },
  {
   "cell_type": "code",
   "execution_count": 68,
   "id": "34f5d76d-3a0b-4d3a-8d1c-9d32af85948e",
   "metadata": {},
   "outputs": [
    {
     "data": {
      "text/plain": [
       "array([[6],\n",
       "       [7],\n",
       "       [8],\n",
       "       [9]])"
      ]
     },
     "execution_count": 68,
     "metadata": {},
     "output_type": "execute_result"
    }
   ],
   "source": [
    "array = np.arange(10)\n",
    "\n",
    "# this works for mathematical conditions, too\n",
    "np.argwhere(array>5)\n",
    "\n"
   ]
  },
  {
   "cell_type": "markdown",
   "id": "c04cc09a-0657-4806-ad0e-9dd1f45819f7",
   "metadata": {},
   "source": [
    "<h1></h1>\n",
    "\n",
    "***Exercise 4*** Create an \"step\" function array (values are either 0 or 1). Return the indices with values greater than 0."
   ]
  },
  {
   "cell_type": "code",
   "execution_count": 70,
   "id": "2abff2e7-bdfa-4f76-8ded-288366c86ecf",
   "metadata": {},
   "outputs": [
    {
     "name": "stdout",
     "output_type": "stream",
     "text": [
      "[0. 0. 0. 1. 1. 1. 1. 0. 0. 0.]\n"
     ]
    },
    {
     "data": {
      "text/plain": [
       "array([[3],\n",
       "       [4],\n",
       "       [5],\n",
       "       [6]])"
      ]
     },
     "execution_count": 70,
     "metadata": {},
     "output_type": "execute_result"
    }
   ],
   "source": [
    "X = np.zeros(10)\n",
    "X[3:7] = 1\n",
    "\n",
    "print(X)\n",
    "\n",
    "np.argwhere(X>0)\n",
    "\n"
   ]
  },
  {
   "cell_type": "markdown",
   "id": "29109ff5-5eeb-4f92-8337-0cec69dc0e85",
   "metadata": {},
   "source": [
    "### Masking and fancy indexing\n",
    "> A ***mask*** refers to making a boolean condition apart from the array (but defined using the array) then using that obtain a slice of the array. ***Fancy indexing*** refers to obtain  values of the array with explicitly defined indices."
   ]
  },
  {
   "cell_type": "code",
   "execution_count": 71,
   "id": "faca1730-23b0-41db-a38e-db3e4e542158",
   "metadata": {},
   "outputs": [
    {
     "name": "stdout",
     "output_type": "stream",
     "text": [
      "[3]\n",
      "[0 1 5 6 7 8 9]\n",
      "[0 1 0 1 0 1 0 1 0 1]\n",
      "[[0]\n",
      " [2]\n",
      " [4]\n",
      " [6]\n",
      " [8]]\n"
     ]
    }
   ],
   "source": [
    "array = np.arange(10)\n",
    "\n",
    "# we define masks using parentheses and boolean control flow statements\n",
    "mask1 = (array>2) & (array<4) # masking using and\n",
    "mask2 = (array<2) | (array>4) # masking using or\n",
    "mask3 = (array%2)\n",
    "mask4 = np.argwhere(~array%2) # example with negation\n",
    "\n",
    "print(array[mask1])\n",
    "print(array[mask2])\n",
    "print(array[mask3])\n",
    "print(array[mask4]) # notice the shape of this\n",
    "\n"
   ]
  },
  {
   "cell_type": "code",
   "execution_count": null,
   "id": "4cdf493f-acaf-4cf1-b7ae-a5d5ed0a8e4e",
   "metadata": {},
   "outputs": [],
   "source": [
    "# fancy indices can be useful if we don't have \n",
    "# a simple way of defining the index conditions\n",
    "array = array+10 \n",
    "\n",
    "fancy = [1,3,4,5,8]\n",
    "print(array[fancy])"
   ]
  }
 ],
 "metadata": {
  "kernelspec": {
   "display_name": "Python 3",
   "language": "python",
   "name": "python3"
  },
  "language_info": {
   "codemirror_mode": {
    "name": "ipython",
    "version": 3
   },
   "file_extension": ".py",
   "mimetype": "text/x-python",
   "name": "python",
   "nbconvert_exporter": "python",
   "pygments_lexer": "ipython3",
   "version": "3.9.4"
  }
 },
 "nbformat": 4,
 "nbformat_minor": 5
}
