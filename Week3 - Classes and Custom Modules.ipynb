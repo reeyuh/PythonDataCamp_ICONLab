{
 "cells": [
  {
   "cell_type": "markdown",
   "id": "32b6d87a-6436-4b6e-86da-683c3e2beee5",
   "metadata": {},
   "source": [
    "<h1><center>Classes</center></h1>\n",
    "\n",
    "## Overview\n",
    "> Classes serve as a natural extention of the utility of functions and Python objects by packaging these into groups of related properties and actions. Further, these groups of properties and actions can be easily be inherited by other Classes. We were introduced to the native/built-in/primitive Python objects in previous lessons. Here we can think of a Class a standard way of leveraging Python's object-oriented methods toward building new objects. The Class defines the template for the Class. (Think how a list object is a blueprint for combining other Python objects that of mixed type!)\n",
    ">\n",
    "> In this week's lesson, we will create our first simple classes. We will see how Classes serve as templates for creating instances that can vary by pre-defined properties and actions. We will then see how inheritance works how this supports can support the various packages the Python community develops. \n",
    "\n",
    "## Classes\n",
    "> We will look at:\n",
    "> - Defining classes using methods and attributes\n",
    "> - Setting the initial state of class instances\n",
    "> - Understand how inheritance works to build class hierarchies\n",
    "> - Create a simple package containing a class hierarchy as a group (using Git)"
   ]
  },
  {
   "cell_type": "markdown",
   "id": "ebbeaaaf-3a45-4f37-bb54-88f1eee60800",
   "metadata": {},
   "source": [
    "### Defining a Class"
   ]
  },
  {
   "cell_type": "code",
   "execution_count": 5,
   "id": "208a5e19-5927-4a24-9153-09dc06e1e8c9",
   "metadata": {},
   "outputs": [],
   "source": [
    "# this follows a similar structure as functions\n",
    "class OurFirstClass: #<- notice how parentheses are missing. Also, enerally classes follow camel case \n",
    "    pass"
   ]
  },
  {
   "cell_type": "code",
   "execution_count": 6,
   "id": "044779f2-c7d2-451b-bc12-a0483d23d6d6",
   "metadata": {},
   "outputs": [
    {
     "data": {
      "text/plain": [
       "(__main__.OurFirstClass,\n",
       " <__main__.OurFirstClass at 0x7f31ac6e4460>,\n",
       " <__main__.OurFirstClass at 0x7f31ac6e4550>)"
      ]
     },
     "execution_count": 6,
     "metadata": {},
     "output_type": "execute_result"
    }
   ],
   "source": [
    "OurFirstClass, OurFirstClass(), OurFirstClass() # parantheses are included to reference the actual object."
   ]
  },
  {
   "cell_type": "markdown",
   "id": "e4595d2b-125e-4335-9038-053d5d5a362c",
   "metadata": {},
   "source": [
    "> Notice the difference in address (last part inside the <..>). Each call of the class gets its own memory."
   ]
  },
  {
   "cell_type": "markdown",
   "id": "f073edf3-89ff-4c2b-8658-32dd22af04e5",
   "metadata": {},
   "source": [
    "Classes have two types of properties: <i>methods</i> and <i>attributes</i>. \n",
    "\n",
    "> Generally, we want our classes to DO something. These actions, or what the class does, are known as <i>methods</i>. The most important method is the initialization method. This is the method that will contain all the properties we want the class to have upon initialization, i.e., creating the first class instance. So we also want our classes to HAVE something, the relevant data to class, and these are called <i>attributes</i>.\n"
   ]
  },
  {
   "cell_type": "markdown",
   "id": "d3372376-e09f-44b3-9d7e-14915b27067a",
   "metadata": {},
   "source": [
    "### Self, the initial state and attributes"
   ]
  },
  {
   "cell_type": "markdown",
   "id": "69db813b-55e9-4f3c-81b5-b57b6f71fe68",
   "metadata": {},
   "source": [
    "The first thing we want our class to DO is initialize itself with meaningful data provided by the user. Let's create a class method and assume we're creating a class that will allow us to access certain properties about data, i.e., metadata, that we can store in the class later. "
   ]
  },
  {
   "cell_type": "code",
   "execution_count": 7,
   "id": "8338b6b0-a605-451b-b493-458c7d50e9c5",
   "metadata": {},
   "outputs": [],
   "source": [
    "class DataCache:\n",
    "    \n",
    "    # this is a method that defines what's needed for the initial state\n",
    "    def __init__(self,file_dir,experimenter,description):\n",
    "        \n",
    "        # these are our attributes\n",
    "        self.experimenter = experimenter  # contains the name of the person who collected the data\n",
    "        self.file_dir = file_dir          # contains the file path (/path/to/file/) to the data\n",
    "        self.description = description    # contains a brief description of the data"
   ]
  },
  {
   "cell_type": "code",
   "execution_count": 8,
   "id": "6f58cdde-f4c3-4e32-8409-3917fc99ee87",
   "metadata": {},
   "outputs": [
    {
     "ename": "TypeError",
     "evalue": "__init__() missing 3 required positional arguments: 'file_dir', 'experimenter', and 'description'",
     "output_type": "error",
     "traceback": [
      "\u001b[0;31m---------------------------------------------------------------------------\u001b[0m",
      "\u001b[0;31mTypeError\u001b[0m                                 Traceback (most recent call last)",
      "\u001b[0;32m<ipython-input-8-381bbb5dfc7a>\u001b[0m in \u001b[0;36m<module>\u001b[0;34m\u001b[0m\n\u001b[1;32m      1\u001b[0m \u001b[0;31m# let's use it...\u001b[0m\u001b[0;34m\u001b[0m\u001b[0;34m\u001b[0m\u001b[0;34m\u001b[0m\u001b[0m\n\u001b[0;32m----> 2\u001b[0;31m \u001b[0mDataCache\u001b[0m\u001b[0;34m(\u001b[0m\u001b[0;34m)\u001b[0m \u001b[0;31m# (None,None,None)\u001b[0m\u001b[0;34m\u001b[0m\u001b[0;34m\u001b[0m\u001b[0m\n\u001b[0m",
      "\u001b[0;31mTypeError\u001b[0m: __init__() missing 3 required positional arguments: 'file_dir', 'experimenter', and 'description'"
     ]
    }
   ],
   "source": [
    "# let's use it...\n",
    "DataCache() # (None,None,None)"
   ]
  },
  {
   "cell_type": "markdown",
   "id": "3d60e35b-ac79-4744-8d32-6182886301a2",
   "metadata": {},
   "source": [
    "> Put your name, the current directory, and some words describing the type of data you typically work with. Notice that we aren't forcing any particular data type for these properties.\n"
   ]
  },
  {
   "cell_type": "code",
   "execution_count": 9,
   "id": "2c82eee6-1f7e-4f1d-b328-c6281ca27bfd",
   "metadata": {},
   "outputs": [],
   "source": [
    "my_name = ''\n",
    "path_to_data = ''\n",
    "what_data = 'Contains...' # replace the ellipsis\n",
    "\n",
    "# this is our first assigned instance!\n",
    "dc = DataCache(path_to_data,my_name,what_data)\n",
    "\n"
   ]
  },
  {
   "cell_type": "code",
   "execution_count": null,
   "id": "a53dbdb5-e29e-4896-8bb2-09a4cbf3b227",
   "metadata": {},
   "outputs": [],
   "source": [
    "dc.  # use tab completion to investigate the DataCache class. What does it say?\n",
    "\n"
   ]
  },
  {
   "cell_type": "markdown",
   "id": "d5e78045-91cd-4efd-8f1e-e0da69dc48c9",
   "metadata": {},
   "source": [
    "The above class uses what is known as <b>instance attributes</b>. Instance attributes are specific to the instantiated version of the class object. As a rule of thumb, we want our instance attributes"
   ]
  },
  {
   "cell_type": "markdown",
   "id": "33e05bac-eb97-4c37-b2ea-91c181632b14",
   "metadata": {},
   "source": [
    "### Instances and instance methods\n",
    "> Above we ceated an instance for our first DataCache object. We can create multiple instances using the same DataCache instance. These are known as <b>class instances</b>. Let's check out how they would differ if we defined multiple class instances."
   ]
  },
  {
   "cell_type": "code",
   "execution_count": 10,
   "id": "1c5c32e2-6e29-4853-be8f-229ca69e9696",
   "metadata": {},
   "outputs": [],
   "source": [
    "vergil_data = DataCache(path_to_data, #<- synatically, this reads the same as having it on one line, but \n",
    "                        \"Vergil\",     #   but this is way easier to read as classes get more complex\n",
    "                        \"Contains extracellular electrophysiological recordings from single cells\")\n",
    "\n",
    "# this is the same as above\n",
    "my_data = DataCache(my_name,path_to_data,what_data)\n",
    "\n"
   ]
  },
  {
   "cell_type": "code",
   "execution_count": 11,
   "id": "dab48aae-6e9b-4f54-b396-d36599caea9a",
   "metadata": {},
   "outputs": [
    {
     "data": {
      "text/plain": [
       "(<__main__.DataCache at 0x7f31ac6e31f0>,\n",
       " <__main__.DataCache at 0x7f31ac6e4d90>)"
      ]
     },
     "execution_count": 11,
     "metadata": {},
     "output_type": "execute_result"
    }
   ],
   "source": [
    "vergil_data, my_data\n",
    "\n"
   ]
  },
  {
   "cell_type": "code",
   "execution_count": 12,
   "id": "f4c8f0f8-5064-4c00-93b7-10afefb31e21",
   "metadata": {},
   "outputs": [
    {
     "data": {
      "text/plain": [
       "('Vergil', '')"
      ]
     },
     "execution_count": 12,
     "metadata": {},
     "output_type": "execute_result"
    }
   ],
   "source": [
    "vergil_data.experimenter, my_data.experimenter\n",
    "\n"
   ]
  },
  {
   "cell_type": "markdown",
   "id": "6c02e159-55a9-42ab-a205-805c51be046c",
   "metadata": {},
   "source": [
    "#### There are two types of attributes\n",
    "We have already defined instance attributes. The second type of attribute is the <b>class attribute</b>.\n",
    "> The difference:\n",
    "> - instance attributes are things we expect to change between instances.\n",
    "> - class attributes are things we expect to not change between instances, i.e., properties of the class itself.\n",
    "\n",
    "Let's assume we know the software we're writing is only going to be used within our lab which will never move between universities. "
   ]
  },
  {
   "cell_type": "code",
   "execution_count": 13,
   "id": "34d4fb6b-4f7a-4350-a5a1-41c6d808778f",
   "metadata": {},
   "outputs": [],
   "source": [
    "class DataCache:\n",
    "    \n",
    "    # these are our CLASS attributes\n",
    "    lab = 'Laboratory for Informatics and Computation in Open Neuroscience (ICON)'\n",
    "    university = 'Arizona State University (ASU)'\n",
    "\n",
    "    def __init__(self,file_dir,experimenter,description,recording_date=None):\n",
    "        \n",
    "        # these are our INSTANCE attributes\n",
    "        self.experimenter = experimenter  # contains the name of the person who collected the data\n",
    "        self.file_dir = file_dir          # contains the file path (/path/to/file/) to the data\n",
    "        self.description = description    # contains a brief description of the data\n",
    "        self.recording_date = recording_date # contains the date of the experiment\n",
    "        \n",
    "        "
   ]
  },
  {
   "cell_type": "code",
   "execution_count": 14,
   "id": "a63cd56a-57a2-4d10-8caa-9b306d57fe1d",
   "metadata": {},
   "outputs": [],
   "source": [
    "# this is the same as above but added date\n",
    "my_data = DataCache(my_name,path_to_data,what_data,'07:23:2021')\n",
    "\n"
   ]
  },
  {
   "cell_type": "code",
   "execution_count": null,
   "id": "3def0258-31db-411d-af4e-5d5cf19aada9",
   "metadata": {},
   "outputs": [],
   "source": [
    "# test out the tab completion again\n",
    "my_data."
   ]
  },
  {
   "cell_type": "markdown",
   "id": "3e2479cf-364c-4af2-8dc2-aa2609af004f",
   "metadata": {},
   "source": [
    "> What if we need to change something in the class? Do we need to remake it from scratch? NO! Let's say you notice that the date of a recording was logged with the wrong year. \n"
   ]
  },
  {
   "cell_type": "code",
   "execution_count": 15,
   "id": "6f3cf200-d3cf-4516-a595-b4b55c7e1fa6",
   "metadata": {},
   "outputs": [
    {
     "data": {
      "text/plain": [
       "'07:23:2021'"
      ]
     },
     "execution_count": 15,
     "metadata": {},
     "output_type": "execute_result"
    }
   ],
   "source": [
    "my_data.recording_date"
   ]
  },
  {
   "cell_type": "code",
   "execution_count": 16,
   "id": "42567676-d116-45e0-baa7-7132b491d8dd",
   "metadata": {},
   "outputs": [
    {
     "name": "stdout",
     "output_type": "stream",
     "text": [
      "06:23:2021\n"
     ]
    }
   ],
   "source": [
    "correct_date = '06:23:2021'\n",
    "my_data.recording_date = correct_date # change the date to today's date\n",
    "\n",
    "print(my_data.recording_date) # fixed <-- this can also be done with class instances. "
   ]
  },
  {
   "cell_type": "markdown",
   "id": "3e410b68-fdca-4bab-8d09-6d8d96cfe498",
   "metadata": {},
   "source": [
    "> Classes also should have <b>instance methods</b>. These are actions we want our class instance to do at particular time. Usually, these are functions that we wouldn't want to call right away or only call under certain conditions. \n",
    ">\n",
    "> The most obvious actions we would want our DataCache to perform would be to load data or download data. "
   ]
  },
  {
   "cell_type": "code",
   "execution_count": 17,
   "id": "ff7f4b00-f9ef-4724-bf43-68f02dca8a1b",
   "metadata": {},
   "outputs": [],
   "source": [
    "class DataCache:\n",
    "    \n",
    "    # these are our CLASS attributes\n",
    "    lab = 'Laboratory for Informatics and Computation in Open Neuroscience (ICON)'\n",
    "    university = 'Arizona State University (ASU)'\n",
    "\n",
    "    def __init__(self,file_dir,experimenter,description,recording_date=None):\n",
    "        \n",
    "        # these are our INSTANCE attributes\n",
    "        self.experimenter = experimenter  # contains the name of the person who collected the data\n",
    "        self.file_dir = file_dir          # contains the file path (/path/to/file/) to the data\n",
    "        self.description = description    # contains a brief description of the data\n",
    "        self.recording_date = recording_date # contains the date of the experiment\n",
    "    \n",
    "    # this is our instance method\n",
    "    def get_data(self,filename,download=False):\n",
    "        \n",
    "        if not download:\n",
    "            print(\"Loading data: %s\"%filename)\n",
    "            f = self.file_dir + '/' + filename\n",
    "            \n",
    "            # replace next line with read data function\n",
    "            self.data = f # we would actually need to load the data, but we will get to that in the future\n",
    "        else:\n",
    "            print('Downloading data: %s'%filename)\n",
    "            self.data = self.download_data(filename)\n",
    "        \n",
    "    \n",
    "    def download_data(self,f):\n",
    "        # make http request for data\n",
    "        return f \n",
    "        \n",
    "        "
   ]
  },
  {
   "cell_type": "code",
   "execution_count": 21,
   "id": "22af9601-31a0-4bf4-bca2-a3cd70d03f45",
   "metadata": {
    "tags": []
   },
   "outputs": [
    {
     "name": "stdout",
     "output_type": "stream",
     "text": [
      "Downloading data: my-data-file.csv\n"
     ]
    }
   ],
   "source": [
    "# my_data = DataCache(my_name,\n",
    "#                     path_to_data,\n",
    "#                     what_data,\n",
    "#                     correct_date)\n",
    "\n",
    "# Recall packing arguments from last week...\n",
    "args = {'experimenter':my_name,\n",
    "        'file_dir':path_to_data,\n",
    "        'description':what_data,\n",
    "        'recording_date':correct_date}\n",
    "\n",
    "# ...it works for Classes, too.\n",
    "my_data = DataCache(**args)\n",
    "\n",
    "\n",
    "my_data.get_data(filename='my-data-file.csv',\n",
    "                download=True)"
   ]
  },
  {
   "cell_type": "markdown",
   "id": "95fc4e89-6efc-4ae1-a7f1-8c41376ac44b",
   "metadata": {},
   "source": [
    "### Inheritance and Class Hierarchies\n",
    "\n",
    "> At the lowest level, <i>inheritance</i> refers to the relationship between a <i>Base</i> class and a class built to extend yet include the properties of the base class.\n",
    ">\n",
    "> Multiple <i>Derived</i> classes can contain the base class object without limit. There are a few ways of describing these relationships.\n",
    ">\n",
    "> <u>Types of class inheritance relationships</u>\n",
    ">\n",
    "> > (A) Base = Parent = Superclass\n",
    "> > \n",
    "> > (B)  Derived = Child = Subclass = Subtype\n",
    "> \n",
    "> Here, classes of type B inherit or extend classes of type A. \n",
    ">\n",
    "> <b>Note:</b> We are only covering inheritance relationships for classes in Python this week. This is not the only type of relational structure we can use with classes, but it's the simplest to understand and implement. We will cover another relational structure when we've figured out this one. "
   ]
  },
  {
   "cell_type": "code",
   "execution_count": 18,
   "id": "6b899e29-bd58-4672-9165-27bea86bad66",
   "metadata": {},
   "outputs": [],
   "source": [
    "# all of these are children of the DataCache Class\n",
    "class SUA(DataCache):\n",
    "    pass\n",
    "\n",
    "class LFP(DataCache):\n",
    "    pass\n",
    "\n",
    "class CalciumImaging(DataCache):\n",
    "    pass\n",
    "\n",
    "class BOLD(DataCache):\n",
    "    pass\n",
    "\n",
    "class EEG(DataCache):\n",
    "    pass"
   ]
  },
  {
   "cell_type": "code",
   "execution_count": null,
   "id": "8b263808-e219-4662-ac1d-b9896aad016b",
   "metadata": {},
   "outputs": [],
   "source": [
    "# try tab completion again\n",
    "CalciumImaging. # Derived class have something special!"
   ]
  },
  {
   "cell_type": "markdown",
   "id": "a2fd0fbe-7de0-47be-8b79-10e1765c1a0b",
   "metadata": {},
   "source": [
    "> Derived classes are given an additional property not defined by the user. It's known as the ***method resolution order*** or ***mro*** method. This returns a list of types in their inheritance order. "
   ]
  },
  {
   "cell_type": "code",
   "execution_count": 19,
   "id": "828b80a1-42d5-40e7-8b2a-e1f910e65d4d",
   "metadata": {},
   "outputs": [
    {
     "data": {
      "text/plain": [
       "[__main__.CalciumImaging, __main__.DataCache, object]"
      ]
     },
     "execution_count": 19,
     "metadata": {},
     "output_type": "execute_result"
    }
   ],
   "source": [
    "CalciumImaging.mro() # child, parent, built-in object"
   ]
  },
  {
   "cell_type": "code",
   "execution_count": 23,
   "id": "ac809e3f-2522-4129-888c-9447f30bb48f",
   "metadata": {},
   "outputs": [
    {
     "data": {
      "text/plain": [
       "[__main__.WholeBrainImaging,\n",
       " __main__.CalciumImaging,\n",
       " __main__.DataCache,\n",
       " object]"
      ]
     },
     "execution_count": 23,
     "metadata": {},
     "output_type": "execute_result"
    }
   ],
   "source": [
    "# let's go one step further in our hierarchy\n",
    "class WholeBrainImaging(CalciumImaging):\n",
    "    pass\n",
    "\n",
    "WholeBrainImaging.mro()"
   ]
  },
  {
   "cell_type": "code",
   "execution_count": null,
   "id": "ab9fed49-f15b-47d7-ab22-7737752ec4d1",
   "metadata": {},
   "outputs": [],
   "source": [
    "print(dir(WholeBrainImaging)) # now we have a directory list contaiing \n",
    "                              # all properties from child to grandparent (to object)"
   ]
  },
  {
   "cell_type": "markdown",
   "id": "239b7ca3-3db6-4535-b674-42753aa7a859",
   "metadata": {},
   "source": [
    "> We can see that the WholeBrainImaging subclass has the original class attributes and instance methods as the base class DataCache. This doesn't include instance attributes, though! \n",
    ">\n",
    "> The remaining items in the list with the __ (double underscores) are known as <i>Python descriptors</i>. These are native to Python and used in every instance of creating any Python object. They are useful in some special cases but not something we have to worry too much about.\n",
    ">\n",
    "> These are inherited from object and is implicit in the defining a class."
   ]
  },
  {
   "cell_type": "code",
   "execution_count": null,
   "id": "87f0c0fa-a7ba-4113-a8d4-02d4728ebf3b",
   "metadata": {},
   "outputs": [],
   "source": [
    "# this is equivalent to ...\n",
    "class BaseClass(object): \n",
    "    pass \n",
    "\n",
    "# ... this\n",
    "class BaseClass:\n",
    "    pass"
   ]
  },
  {
   "cell_type": "code",
   "execution_count": null,
   "id": "80d9f820-6d21-41fd-92b0-a40d307ae585",
   "metadata": {},
   "outputs": [],
   "source": [
    "type(object) # \"is of an arbitrary type\" where type itself \n",
    "             # is a kind of Python data structure"
   ]
  },
  {
   "cell_type": "code",
   "execution_count": null,
   "id": "8dc918bb-a9b7-4d81-916a-356e38f9275f",
   "metadata": {},
   "outputs": [],
   "source": [
    "print(dir(object))"
   ]
  },
  {
   "cell_type": "markdown",
   "id": "9f909ca2-0041-4367-80b8-4c1819a4fc5e",
   "metadata": {},
   "source": [
    "> If you want to go deeper, though...\n",
    "> See [Python Descriptors](https://realpython.com/python-descriptors/) at RealPython.\n",
    "\n",
    "#### Multiple inheritance\n",
    "> We can also inherit properties from multiple base classes! "
   ]
  },
  {
   "cell_type": "code",
   "execution_count": 22,
   "id": "43d90d6d-5535-41f2-956c-57cb6a035727",
   "metadata": {},
   "outputs": [
    {
     "ename": "TypeError",
     "evalue": "__init__() missing 1 required positional argument: 'description'",
     "output_type": "error",
     "traceback": [
      "\u001b[0;31m---------------------------------------------------------------------------\u001b[0m",
      "\u001b[0;31mTypeError\u001b[0m                                 Traceback (most recent call last)",
      "\u001b[0;32m<ipython-input-22-4fff2ca4cce4>\u001b[0m in \u001b[0;36m<module>\u001b[0;34m\u001b[0m\n\u001b[1;32m      4\u001b[0m \u001b[0;34m\u001b[0m\u001b[0m\n\u001b[1;32m      5\u001b[0m \u001b[0;34m\u001b[0m\u001b[0m\n\u001b[0;32m----> 6\u001b[0;31m \u001b[0mExtracellularEphys\u001b[0m\u001b[0;34m(\u001b[0m\u001b[0mSUA\u001b[0m\u001b[0;34m,\u001b[0m\u001b[0mLFP\u001b[0m\u001b[0;34m)\u001b[0m\u001b[0;34m.\u001b[0m\u001b[0mmro\u001b[0m\u001b[0;34m(\u001b[0m\u001b[0;34m)\u001b[0m\u001b[0;34m\u001b[0m\u001b[0;34m\u001b[0m\u001b[0m\n\u001b[0m",
      "\u001b[0;31mTypeError\u001b[0m: __init__() missing 1 required positional argument: 'description'"
     ]
    }
   ],
   "source": [
    "class ExtracellularEphys(SUA,LFP):\n",
    "    pass\n",
    "\n",
    "\n",
    "\n",
    "ExtracellularEphys(SUA,LFP,).mro()"
   ]
  },
  {
   "cell_type": "markdown",
   "id": "9e073318-73a6-4141-8dc4-c3b15cbc53a8",
   "metadata": {},
   "source": [
    "## Group Exercise"
   ]
  },
  {
   "cell_type": "markdown",
   "id": "b537e95f-b182-486b-9cad-296087c3c5f0",
   "metadata": {},
   "source": [
    "### Let's make our first package!\n",
    "\n",
    "We will be covering specific packages and their modules in the next few weeks. This week let's just say packages and modules follow this relationship:\n",
    "> ***Packages > Modules > Classes > Attributes and Methods***\n",
    "\n",
    "In other words, *Packages* are libraries of *Modules* which contain a hierarchy of *Classes* that give us a collection of specialized *Attributes* and *Methods* to accomplish a coherent set of tasks. "
   ]
  },
  {
   "cell_type": "markdown",
   "id": "c8c5d3a1-4d55-4fc9-9102-b562d29a6119",
   "metadata": {},
   "source": [
    "**Exercise 1** \n",
    "> (1) Collectively define a hierarchy of classes which groups together properties we might care about at multiple levels of the brain. \n",
    ">\n",
    "> (2) Assign each class in the hierarchy a set of properties we would expect to find in a template for that class. \n",
    ">\n",
    "> (3) Define what inheritance relationships we should expect between classes.\n",
    "> - Note what we can accomplish with simple inheritance relationships and what we can't.\n",
    "> \n",
    "> (4) Create a separate Python script containing these classes that we can use to import the classes as a package!"
   ]
  },
  {
   "cell_type": "code",
   "execution_count": null,
   "id": "2775d8d8-0293-4b7e-9443-9c5a6c53baca",
   "metadata": {},
   "outputs": [],
   "source": []
  }
 ],
 "metadata": {
  "kernelspec": {
   "display_name": "Python 3",
   "language": "python",
   "name": "python3"
  },
  "language_info": {
   "codemirror_mode": {
    "name": "ipython",
    "version": 3
   },
   "file_extension": ".py",
   "mimetype": "text/x-python",
   "name": "python",
   "nbconvert_exporter": "python",
   "pygments_lexer": "ipython3",
   "version": "3.9.4"
  }
 },
 "nbformat": 4,
 "nbformat_minor": 5
}
