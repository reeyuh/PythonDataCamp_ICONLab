{
 "cells": [
  {
   "cell_type": "markdown",
   "id": "4227f2e6-9a89-4481-b96a-93f4776cd772",
   "metadata": {},
   "source": [
    "<center><h1>User-Defined Functions</h1></center>\n",
    "\n",
    "## Overview\n",
    "> In order to appreciate the flexibility and functionality of Python, it is important to understand how <i>Packages</i> are created. Python packages are composed of two primary components: <i>Functions</i> and <i>Classes</i>. Broadly speaking...\n",
    "> - Functions consist of code useful for performing repetitive tasks for a specific application. \n",
    "> - Classes allow us to build a hierarchy of easiliy referenced functions that all support a larger goal that require frequently used repetitive tasks. \n",
    "> - Finally, packages define a coherent set of broad goals which can be broken down into multiple classes and their associated functions. \n",
    "> \n",
    "> In this week's lesson, we will discuss user-defined functions. As stated above, these are the building blocks of Classes and eventually Packages. This is imporant before illustrating how two standard Python packages can be used to solve broad goals before we move onto more data science packages. \n",
    ">\n",
    "> **Looking ahead...**\n",
    "> Next week we will go over Classes and work together to build our own custom package. The following week, you will be introduced to two foundational packages. You will do most of your initial Python software development with these two packages as most other packages use these two packages. The first package is called <b>Numpy</b> which supports basic numerical operations commonly needed in linear algebra applications, and <b>Matplotlib</b> which supports the most basic visualizations of numerical data stuctures supported by Numpy. This will be the end of your introduction to the world of Python. Following that, we will use be using Python for more data-related applications.\n",
    ">\n",
    "> Other packages scientific packages such as Scipy and Pandas leverage these two core packages to fulfill their specific applications so starting here is a natural way of extending our skills toward using more advanced and specific packages."
   ]
  },
  {
   "cell_type": "markdown",
   "id": "c86cd445-f66d-482a-8db0-eb06c892310c",
   "metadata": {},
   "source": [
    "<h2>Functions</h2>\n",
    "\n",
    "> Here,  we will look at:\n",
    "> + Defining functions,\n",
    "> + Passing arguments to functions,\n",
    "> + Returning values from functions,\n",
    "> + Understanding namespaces and variable scope, and\n",
    "> + Using inner and outer functions.\n",
    ">\n",
    "\n",
    "#### What is a function, though?\n",
    "> A <b>function</b> is a self-contained code block that <i>encapsulates</i> a specific task or group of related tasks. Functions take <b>arguments</b> that users pass to functions. Functions can <b>return</b> values, but they don't have to!\n",
    ">\n",
    "\n",
    "#### Other useful terms\n",
    "> <b>Encapsulation</b> refers to the behavior of code blocks to hide code or variables from other code blocks. Where specific variables are visible to code is referred as the variable's <b>scope</b>. So outside of the variable's scope, the variable is inaccessible to code. <b>Namespaces</b> are spaces of Python objects and their names that are constrained to a specific scope. \n"
   ]
  },
  {
   "cell_type": "code",
   "execution_count": null,
   "id": "f540798e-cf88-42a0-b6c1-cd151604d5cc",
   "metadata": {},
   "outputs": [],
   "source": [
    "# here's an example of GLOBAL SCOPE and the BUILT-IN NAMESPACE\n",
    "print(dir(__builtins__)) # built-ins are the native Python objects we discussed last week"
   ]
  },
  {
   "cell_type": "markdown",
   "id": "f374526d-6bb3-4276-a86f-fcadc35d974e",
   "metadata": {},
   "source": [
    "> The above is the built-in namespace and what is printed is a list containing strings. These are effectively the keys to to a dictionary that have Python objects as their values. These can be functions, classes, etc. "
   ]
  },
  {
   "cell_type": "code",
   "execution_count": null,
   "id": "65351f2b-6d4f-4cda-a709-9078d338e79c",
   "metadata": {},
   "outputs": [],
   "source": [
    "str, iter, property, bytearray, id"
   ]
  },
  {
   "cell_type": "code",
   "execution_count": null,
   "id": "6334a0f9-9566-4a60-a589-913bd3fe0c08",
   "metadata": {},
   "outputs": [],
   "source": [
    "type(globals()) # see this dictionary contains the above built-ins"
   ]
  },
  {
   "cell_type": "code",
   "execution_count": null,
   "id": "9dbada51-19f0-4e3f-8c5d-1992e22b2d0a",
   "metadata": {},
   "outputs": [],
   "source": [
    "print(globals())"
   ]
  },
  {
   "cell_type": "markdown",
   "id": "0aee880f-c869-4fdc-bccc-d201f70f6244",
   "metadata": {},
   "source": [
    "### Defining a function"
   ]
  },
  {
   "cell_type": "code",
   "execution_count": null,
   "id": "24a22ec4-f7b7-402b-9d6a-206ee237b440",
   "metadata": {},
   "outputs": [],
   "source": [
    "# the simplest function that you can define\n",
    "def f():    #<- this line \"defines\" the function named \"f\" with no arguments\n",
    "    pass    #<- this line simply does nothing"
   ]
  },
  {
   "cell_type": "code",
   "execution_count": null,
   "id": "52dbcd4c-08d2-41b2-91a7-75ae188a4d30",
   "metadata": {},
   "outputs": [],
   "source": [
    "# here's somthing more meaningful\n",
    "def is_in_interval(x,a,b):\n",
    "    \n",
    "    # find if var x is in interval [a,b]\n",
    "    if (x>=a) and (x<=b):\n",
    "        return True # this is our return statement and designates the output of our function\n",
    "                    # anything defined after a return statement is never seen by the Python interpretter\n",
    "    else:\n",
    "        return False"
   ]
  },
  {
   "cell_type": "code",
   "execution_count": null,
   "id": "993ba9de-0280-4e76-b788-8faf24e48f26",
   "metadata": {},
   "outputs": [],
   "source": [
    "a = 12\n",
    "b = 15\n",
    "\n",
    "# we can use functions for the repetitive tasks\n",
    "for x in range(25):\n",
    "    if is_in_interval(x,a,b):\n",
    "        print(x,'is in interval')\n",
    "        \n",
    "# functions can  sometimes be used in obscure places like list comprehension\n",
    "print('\\nThese are in the interval:',[x for x in range(25) if is_in_interval(x,a,b)])"
   ]
  },
  {
   "cell_type": "markdown",
   "id": "1351f81b-3d1b-4b4b-9d3b-0ba18c754ab6",
   "metadata": {},
   "source": [
    "### Inner and outer functions differ in scope\n",
    "> Let's look at differences in variable scope by creating <b>inner</b> and <b>outer</b> functions."
   ]
  },
  {
   "cell_type": "markdown",
   "id": "e25441f1-afc0-4eb4-bd28-3e55c54e39a3",
   "metadata": {},
   "source": [
    "\n",
    "#### The LEGB Rule of Python Scopes\n",
    "The order in which the Python interpretter interprets variables is the following:\n",
    "> 1. <b>L</b>ocal = the interpreter looks within the current scope for the first assignment of a variable.\n",
    ">\n",
    "> 2. <b>E</b>nclosing = if it isn't in the local scope, it will search within the enclosing scope if the function is within another function.\n",
    ">\n",
    "> 3. <b>G</b>lobal = if not in the enclosing scope, it will look in the global scope. \n",
    ">\n",
    "> 4. <b>B</b>uilt-in = if not in any of the above, it will look in the built-in scope.\n",
    "\n",
    "***NOTE:*** This rule applies different between mutable and immutable objects. You must explicitly tell the interpretter to take from the global scope if using immutable objects. Immutable objects can not be editted, but their values can be used. Immutable objects can be editted and values reassigned implicitly. I will get to what this means. \n",
    "+ WARNING: This is critical!! If you aren't paying attention to scope and whether objects are immutable/mutable, you will wind up changing data you may not want to change!"
   ]
  },
  {
   "cell_type": "code",
   "execution_count": null,
   "id": "d479adff-9dc3-41db-9a37-b146ed0e0cbf",
   "metadata": {},
   "outputs": [],
   "source": [
    "x = 1 # x is outside of the function, this is in the GLOBAL scope\n",
    "\n",
    "def outer_func(y): \n",
    "    y = y+1\n",
    "    \n",
    "    def inner_func(z):\n",
    "        \n",
    "        return z+1\n",
    "    \n",
    "    y = inner_func(y)\n",
    "    \n",
    "    return y\n",
    "\n",
    "outer_func(x) # remember this value\n",
    "    "
   ]
  },
  {
   "cell_type": "code",
   "execution_count": null,
   "id": "e400bbb6-857a-4e4b-abdb-744f7b3854c3",
   "metadata": {},
   "outputs": [],
   "source": [
    "x = 1 # x is outside of the function\n",
    "\n",
    "def outer_func(): # let's remove the argument 'x'\n",
    "    x = x+1 # x can't be seen unless it is passed in as an argument\n",
    "    \n",
    "    def inner_func(x): \n",
    "        \n",
    "        return x+1\n",
    "    \n",
    "    x = inner_func(x)\n",
    "    \n",
    "    return x\n",
    "\n",
    "outer_func()\n",
    "    "
   ]
  },
  {
   "cell_type": "markdown",
   "id": "30d49156-3745-4571-8ef0-c53be99e98c0",
   "metadata": {},
   "source": [
    "> This error means we are trying to use something that exists, but is not locally assigned a value. "
   ]
  },
  {
   "cell_type": "code",
   "execution_count": null,
   "id": "8e3cfa81-4455-481d-8df7-a6740082cc19",
   "metadata": {},
   "outputs": [],
   "source": [
    "del x # delete x from the namespace\n",
    "\n",
    "def outer_func(): # let's remove the argument 'x'\n",
    "    x = 1 # let's define x inside the outer function\n",
    "    \n",
    "    x = x+1 # x can't be seen unless it is passed in as an argument\n",
    "    \n",
    "    def inner_func(x): \n",
    "        \n",
    "        return x+1\n",
    "    \n",
    "    x = inner_func(x)\n",
    "    \n",
    "    return x\n",
    "\n",
    "\n",
    "x = x+1 # doesn't exist after the function either\n",
    "\n",
    "outer_func()\n",
    "    "
   ]
  },
  {
   "cell_type": "markdown",
   "id": "42017c15-671f-49a2-92de-0cf4a2a7bffc",
   "metadata": {},
   "source": [
    "> Notice this a different error. x is never instantiated despite functions using x being before line 16. \n",
    "> \n",
    "> Despite x not being an argument of the inner function, it has access to the namespace of the outer function (BUT NOT GLOBAL)!"
   ]
  },
  {
   "cell_type": "code",
   "execution_count": null,
   "id": "40076bd9-6f2e-4d46-b706-987fa47a0bde",
   "metadata": {},
   "outputs": [],
   "source": [
    "x = 1\n",
    "\n",
    "def outer_func(x): \n",
    "    \n",
    "    x+=1\n",
    "    \n",
    "    def inner_func(): # let's remove the argument 'x' from the inner function\n",
    "        print('inner',locals()) # we can check local scope\n",
    "        return x+1\n",
    "    \n",
    "    x = inner_func()\n",
    "    \n",
    "    print('outer',locals())\n",
    "    return x\n",
    "\n",
    "print(outer_func(x)) # the right value!\n",
    "print(x) # just because our functions use the variable name \"x\" doesn't mean it's the same x in the global scope\n",
    "    "
   ]
  },
  {
   "cell_type": "code",
   "execution_count": null,
   "id": "02218ee3-2e3f-4b04-8be1-a0d7cfc7f56d",
   "metadata": {},
   "outputs": [],
   "source": [
    "id(x), id(outer_func(x)),  id(x)==id(outer_func(x)) # the id function tells us the unique identifier of variables"
   ]
  },
  {
   "cell_type": "markdown",
   "id": "298417d4-47cb-4084-b2ad-50519cd8f000",
   "metadata": {},
   "source": [
    "> It is also important to note that just because something is called x or y, doesn't mean that they are the same variables. "
   ]
  },
  {
   "cell_type": "code",
   "execution_count": null,
   "id": "dc414981-2600-44e0-9ec2-3d87bd7e62d3",
   "metadata": {},
   "outputs": [],
   "source": [
    "x = 1\n",
    "\n",
    "def outer_func(): \n",
    "    global x # let's take x from the global scope\n",
    "    x = x+1\n",
    "    \n",
    "    def inner_func(): \n",
    "        print(locals())\n",
    "        return x+1\n",
    "    \n",
    "    x = inner_func()\n",
    "    \n",
    "    print(locals()) # x doesn't exist locally!\n",
    "    return x\n",
    "\n",
    "print(outer_func())\n",
    "print(x) # we now reassigned the value of our original x\n",
    "    "
   ]
  },
  {
   "cell_type": "code",
   "execution_count": null,
   "id": "c265b3c0-2820-4ed9-b092-ff7ce6a5d012",
   "metadata": {},
   "outputs": [],
   "source": [
    "# still unique identifiers, though!\n",
    "id(x), id(outer_func()),  id(x)==id(outer_func()) "
   ]
  },
  {
   "cell_type": "code",
   "execution_count": null,
   "id": "a7d642fd-c66b-48ed-88b3-8682d7ceddf1",
   "metadata": {},
   "outputs": [],
   "source": [
    "# now let's look at the code giving the LocalUnboundError with a mutable example\n",
    "x = [1] # x is outside of the function\n",
    "\n",
    "print('0',id(x))\n",
    "def outer_func(): # let's remove the argument 'x'\n",
    "    x[0] = x[0]+1 # x can be seen here because it is a list! \n",
    "    \n",
    "    def inner_func(x): \n",
    "        print('1',id(x))\n",
    "        return x+1\n",
    "    \n",
    "    x[0] = inner_func(x[0])\n",
    "    print('2',id(x))\n",
    "    \n",
    "    # look no return statement ;)\n",
    "    \n",
    "\n",
    "print(outer_func())\n",
    "print('3',id(x)) \n",
    "print(x) # now it works, so be careful!"
   ]
  },
  {
   "cell_type": "markdown",
   "id": "b670cbb9-99d1-4c3b-9f19-31c2c1940adf",
   "metadata": {},
   "source": [
    "#### Why are the IDs the same?\n",
    "> + When we were pass an argument in that is immutable, this is what we call <b>pass-by-value</b>. This allows us to use the same variable name and assign it the same value, but maintain separate Python instances (with same name, same value, unique identifiers). For mutable objects, we call this <b>pass-by-reference</b>. This means we are passing a reference or pointer to the Python instance (same name, same value, same identifier)."
   ]
  },
  {
   "cell_type": "markdown",
   "id": "2e53f3f7-96c6-42ec-9594-7cf1699c46ee",
   "metadata": {},
   "source": [
    "#### Differences in arguments\n",
    "There are three types of keyword arguments: \n",
    "    1. Positional\n",
    "    2. Keyword\n",
    "    3. Default\n",
    "\n",
    "> <b>Positional</b> arguments require the order to be as defined in the function arguments. <b>Keyword</b> need to agree with the arugment names, but not their order. We can assign <b>default</b> values for one or more arguments. Generally, we might use an argument to define a parameter that functions use, but sometimes we want to change that function manually. \n",
    ">\n",
    "> There is also an \"order of operations\" for arguments which is positional arguments before keyword arguments (before default arguments, kinda)."
   ]
  },
  {
   "cell_type": "code",
   "execution_count": null,
   "id": "e3d4642a-ddf3-4f60-8b0d-bf5ce0f6f566",
   "metadata": {},
   "outputs": [],
   "source": [
    "def add_numbers(x,y=10): # assigned arguments must come after unassigned ones\n",
    "    return x+y\n",
    "    \n",
    "z = 1\n",
    "\n",
    "# there are different ways of using this function\n",
    "print(add_numbers(z))        # positional + default - name doesn't matter\n",
    "print(add_numbers(z,10))     # all positional - order matters, not names\n",
    "print(add_numbers(z,y=1))    # positional + keyword - order and names matter for keywords\n",
    "print(add_numbers(x=1))      # keyword + default - same as above\n",
    "print(add_numbers(x=1,y=1))  # all key word - names matter, not order\n",
    "print(add_numbers(y=1,x=1))  # --- we can switch keyword positions if they are assigned\n",
    "\n",
    "# print(add_numbers(x=1,y)) # this doesn't work"
   ]
  },
  {
   "cell_type": "markdown",
   "id": "2a2ec274-0126-4fcc-a53d-b180923fe431",
   "metadata": {},
   "source": [
    "> We can also <b>pack</b> and <b>unpack</b> arguments in mutiple ways depending on whether we want to use dictionaries, lists, or tuples!\n",
    ">\n",
    "> <b>Packing</b> is a means of grouping arguments together in a way that is appropriate for functions to use. We use asterisks (single or double) to let the Python interpretter know that the argument is packed.\n",
    "\n"
   ]
  },
  {
   "cell_type": "code",
   "execution_count": null,
   "id": "a71f7710-7208-4d82-b9e6-d63f996002d2",
   "metadata": {},
   "outputs": [],
   "source": [
    "# pack stuff\n",
    "args1 = (30,25) # order matters\n",
    "args2 = [30,25] # order matters\n",
    "args3 = {'x':30,'y':25} # order doesn't matter, but names do\n",
    "args4 = {'y':25,'x':30} # same...\n",
    "\n",
    "print(add_numbers(*args1))\n",
    "print(add_numbers(*args2))\n",
    "print(add_numbers(**args3)) # double asterisks here\n",
    "print(add_numbers(*args3)) # single asterisks + packed dict objects takes the keys as the inputs... this is not what we want"
   ]
  },
  {
   "cell_type": "markdown",
   "id": "77bbc9e7-952d-4b1c-8708-ed9780a6b6b9",
   "metadata": {},
   "source": [
    "#### Final house keeping for functions\n",
    "> Another useful feature of Python is is the built-in functionality for documentation for user-defined code!\n",
    "> \n",
    "> In order to be helpful to others (and ourselves), we want to be able to recall what a function does. We can give details about a function by using triple quotes after the defining a function.\n",
    ">\n",
    "> Let's return to the \"is_in_interval\" function."
   ]
  },
  {
   "cell_type": "code",
   "execution_count": null,
   "id": "a0903995-dacc-475d-bf9e-cfce5ade0a0f",
   "metadata": {},
   "outputs": [],
   "source": [
    "def is_in_interval(x,a,b):\n",
    "    '''\n",
    "        This function test whether x is in the interval [a,b].\n",
    "        INPUT:\n",
    "            x - (int/float) value to be tested\n",
    "            a - (int/float) value of lower bound\n",
    "            b - (int/float) value of upper bound\n",
    "        OUTPUT:\n",
    "            (bool) Truth value of whether x is in interval [a,b]\n",
    "    '''\n",
    "    \n",
    "    # find if var x is in interval [a,b]\n",
    "    if (x>=a) and (x<=b):\n",
    "        return True \n",
    "    else:\n",
    "        return False\n",
    "    \n",
    "help(is_in_interval)"
   ]
  },
  {
   "cell_type": "code",
   "execution_count": null,
   "id": "c9ecfd9b-1ccf-498f-b3d8-49695fd7febd",
   "metadata": {},
   "outputs": [],
   "source": [
    "help(isinstance) # works for built-in functions too"
   ]
  },
  {
   "cell_type": "markdown",
   "id": "b578c670-4e3c-4f8e-8fed-6dd0a0476f95",
   "metadata": {},
   "source": [
    "# Exercises"
   ]
  },
  {
   "cell_type": "markdown",
   "id": "7dcdec2f-8476-4eae-9b19-661c962d3a8a",
   "metadata": {},
   "source": [
    "**Exercise 1** Write a function to 'flatten' a nested list.  Can you do this with a list comprehension?  (Caution:  The answer for a list comprehension is very simple but can be quite tricky to work out.)\n",
    "\n",
    "\n",
    "```\n",
    "    [['a','b'],['c','d']] -> ['a','b','c','d']\n",
    "```\n"
   ]
  },
  {
   "cell_type": "code",
   "execution_count": null,
   "id": "209e8806-8e31-4043-890e-92e36a4fa045",
   "metadata": {},
   "outputs": [],
   "source": [
    "def flatten_list():\n",
    "    pass\n",
    "\n",
    "\n",
    "\n",
    "\n",
    "\n"
   ]
  },
  {
   "cell_type": "markdown",
   "id": "6f6ccb00-a70c-4bac-8387-d6e36bf30d8a",
   "metadata": {},
   "source": [
    "**Exercise 2** Write a function to create a string consisting of a single character repeated <code>100</code> times."
   ]
  },
  {
   "cell_type": "code",
   "execution_count": null,
   "id": "0a01e6d8-ef67-4f42-b5c8-17651fbd338e",
   "metadata": {},
   "outputs": [],
   "source": [
    "def repeat_character():\n",
    "    pass\n",
    "\n",
    "\n",
    "\n",
    "\n"
   ]
  },
  {
   "cell_type": "markdown",
   "id": "9b6ff2b9-1d7d-4722-9cb9-5a12941d6580",
   "metadata": {},
   "source": [
    "**Exercise 3**  Write a function that will compute the sum of all numbers less than X that are divisible by either y or z (say 3 or 5). "
   ]
  },
  {
   "cell_type": "code",
   "execution_count": null,
   "id": "7e69837d-54e5-4682-922a-854a6d38bbcf",
   "metadata": {},
   "outputs": [],
   "source": [
    "def weird_sum():\n",
    "    pass\n",
    "\n",
    "\n",
    "\n",
    "\n"
   ]
  },
  {
   "cell_type": "markdown",
   "id": "0dcea764-e9b0-433e-bfd6-8fe1ecd45d4e",
   "metadata": {},
   "source": [
    "**Exercise 4:**  Write a function that tests whether a string is a palindrome.\n",
    "\n",
    "\n",
    "```\n",
    "      \"0908090\" ->  True\n",
    "      \"212555655533\" -> False\n",
    "      \"212555655533\" -> False\n",
    "      \"Doc, note: I dissent. A fast never prevents a fatness. I diet on cod\" -> True\n",
    "```"
   ]
  },
  {
   "cell_type": "code",
   "execution_count": null,
   "id": "49279c74-189e-4801-921a-4fbe42fc4eb5",
   "metadata": {},
   "outputs": [],
   "source": [
    "def is_palindrome():\n",
    "    pass\n",
    "\n",
    "\n",
    "\n",
    "\n"
   ]
  },
  {
   "cell_type": "markdown",
   "id": "7998e46e-907e-4b95-82b1-56aeeff851a6",
   "metadata": {},
   "source": [
    "**Exercise 5**  Write a function to determine whether an integer is prime.  (Hint:  a number X is prime if it has no divisors other than 1 or itself.  This means that there will be no integers smaller than X that divide it evenly, i.e. there will be no number y &lt; X such that X%y==0.)\n",
    "\n",
    "```\n",
    "    is_prime(9) -> False\n",
    "    is_prime(11) -> True\n",
    "```"
   ]
  },
  {
   "cell_type": "code",
   "execution_count": null,
   "id": "94af82e6-088e-4bfd-b75b-63080cef5a76",
   "metadata": {},
   "outputs": [],
   "source": [
    "def is_prime():\n",
    "    pass\n",
    "\n",
    "\n",
    "\n",
    "\n"
   ]
  },
  {
   "cell_type": "markdown",
   "id": "43ebe95a-2b03-462c-8df8-5b964a9a76d2",
   "metadata": {},
   "source": [
    "**Exercise 6** Write a function that returns a list of all prime numbers less than an input value X."
   ]
  },
  {
   "cell_type": "code",
   "execution_count": null,
   "id": "ba0b36a0-c22c-4a98-adbf-afad05ed95cc",
   "metadata": {},
   "outputs": [],
   "source": [
    "def primes_less_than():\n",
    "    pass\n",
    "\n",
    "\n",
    "\n",
    "\n"
   ]
  }
 ],
 "metadata": {
  "kernelspec": {
   "display_name": "Python 3",
   "language": "python",
   "name": "python3"
  },
  "language_info": {
   "codemirror_mode": {
    "name": "ipython",
    "version": 3
   },
   "file_extension": ".py",
   "mimetype": "text/x-python",
   "name": "python",
   "nbconvert_exporter": "python",
   "pygments_lexer": "ipython3",
   "version": "3.9.4"
  }
 },
 "nbformat": 4,
 "nbformat_minor": 5
}
