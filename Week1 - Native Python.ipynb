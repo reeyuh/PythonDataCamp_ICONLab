{
 "cells": [
  {
   "cell_type": "markdown",
   "id": "06516c0f-7f99-47c6-9b4d-34ffa2959673",
   "metadata": {},
   "source": [
    "<center><h1>Week 1 - Native Python</h1></center>"
   ]
  },
  {
   "cell_type": "markdown",
   "id": "fecb0e85-a5b4-4fa2-b56a-2979b79959c2",
   "metadata": {},
   "source": [
    "## What is Python?\n",
    "\n",
    "1. Python is a general purpose programming langauge.\n",
    "2. Python is an interpreted programming language.\n",
    "3. Python is a community.\n",
    "4. Python is an open-source programming languauge.\n",
    "\n",
    "### What are some helpful resources?\n",
    "+ [Documentation](https://docs.python.org) - Python Docs\n",
    "+ [Technical Details](https://realpython.com) - \"Real\" Python\n",
    "+ [Tutorials](https://learnpython.org) - Learn Python\n",
    "+ [How-To's](https://www.geeksforgeeks.org/python-programming-language/) - Geeks for Geeks\n",
    "+ [Forum Discussions](https://stackexchange.com) - Stack Exchange\n",
    "\n"
   ]
  },
  {
   "cell_type": "code",
   "execution_count": 1,
   "id": "c6cc73c3-931e-49f4-967f-40ed2a46ed8f",
   "metadata": {},
   "outputs": [
    {
     "name": "stdout",
     "output_type": "stream",
     "text": [
      "The Zen of Python, by Tim Peters\n",
      "\n",
      "Beautiful is better than ugly.\n",
      "Explicit is better than implicit.\n",
      "Simple is better than complex.\n",
      "Complex is better than complicated.\n",
      "Flat is better than nested.\n",
      "Sparse is better than dense.\n",
      "Readability counts.\n",
      "Special cases aren't special enough to break the rules.\n",
      "Although practicality beats purity.\n",
      "Errors should never pass silently.\n",
      "Unless explicitly silenced.\n",
      "In the face of ambiguity, refuse the temptation to guess.\n",
      "There should be one-- and preferably only one --obvious way to do it.\n",
      "Although that way may not be obvious at first unless you're Dutch.\n",
      "Now is better than never.\n",
      "Although never is often better than *right* now.\n",
      "If the implementation is hard to explain, it's a bad idea.\n",
      "If the implementation is easy to explain, it may be a good idea.\n",
      "Namespaces are one honking great idea -- let's do more of those!\n"
     ]
    }
   ],
   "source": [
    "# The Zen of Python\n",
    "import this # Great idea! But not always the case for the Python \"standard library\"..."
   ]
  },
  {
   "cell_type": "markdown",
   "id": "a19850af-7418-4731-b2fe-5e47e082d3a6",
   "metadata": {},
   "source": [
    "## Native Data Structures\n",
    "\n",
    "Python objects consist of: 1) address, 2) variable name, 3) chunk memory, and 4) type.\n",
    "\n",
    "Data structures organized Python objects into a particular organization with distinct properties and these structures have to follow specific rules of interaction.\n",
    "\n",
    "Some data structures native to Python are:\n",
    "> + Stings = str\n",
    "> + Integers = int\n",
    "> + Floats = float\n",
    "> + Lists = list\n",
    "> + Dictionaries = dict\n",
    "> + Tuples = tuple\n",
    "\n",
    "### Mutability of data structures\n",
    "A data structure is considered <i>mutable</i> if the memory allocated to it is not fixed. In other words, the memory can be increased or decreased based on the programmers needs. <i>Immutable</i> data structures are fixed or have constant memory allocation. Since their memory can not be changed, you need to create a new Python object if you need more memory.\n",
    "\n",
    "Mutable types: lists, dictionaries\n",
    "\n",
    "Immutable types: strings, integers, floats, tuples\n",
    "\n",
    "### Mixed vs Non-Mixed data stuctures\n",
    "Some data structures can store multiple types of Python objects. These are mixed type. Non-mixed types can only store one type. \n",
    "\n",
    "Mixed: lists, tuples, dicts\n",
    "\n",
    "Non-Mixed: strings, integers, floats"
   ]
  },
  {
   "cell_type": "code",
   "execution_count": null,
   "id": "44032a4e-67d7-43c2-be8b-a0f72b80b2fe",
   "metadata": {},
   "outputs": [],
   "source": [
    "int \n",
    "float\n",
    "dict\n",
    "tuple\n",
    "list "
   ]
  },
  {
   "cell_type": "code",
   "execution_count": 5,
   "id": "4a61d4ce-9ce9-47e7-84fa-11074c90ca98",
   "metadata": {},
   "outputs": [
    {
     "name": "stdout",
     "output_type": "stream",
     "text": [
      "String: hello\n",
      "Float: 10.00\n",
      "Integer: 20\n"
     ]
    }
   ],
   "source": [
    "# change this code\n",
    "mystring = 'hello' # \"there's a bunch of strings\"\n",
    "myfloat = 10. # 0.2=.2\n",
    "myint = 20 # 2 != 2.\n",
    "\n",
    "# testing code\n",
    "if mystring == \"hello\":\n",
    "    print(\"String: %s\" % mystring)\n",
    "if isinstance(myfloat, float) and myfloat == 10.0:\n",
    "    print(\"Float: %.2f\" % myfloat)\n",
    "if isinstance(myint, int) and myint == 20:\n",
    "    print(\"Integer: %d\" % myint)\n",
    "    \n",
    "    "
   ]
  },
  {
   "cell_type": "code",
   "execution_count": 8,
   "id": "031133ff-8833-4fbe-96c1-13ed9ffcf92c",
   "metadata": {},
   "outputs": [
    {
     "data": {
      "text/plain": [
       "{'x': 1, 2.0: []}"
      ]
     },
     "execution_count": 8,
     "metadata": {},
     "output_type": "execute_result"
    }
   ],
   "source": [
    "# mixed types\n",
    "['str',1,0.5,{},(1,4)] # list\n",
    "('str',1) # tuple\n",
    "{'x': 1, \n",
    " 2.:[]} # dict -- keys can be strings, integers, or floats (non-mixed + immutable types)\n",
    "        # -- values can be any type"
   ]
  },
  {
   "cell_type": "code",
   "execution_count": 11,
   "id": "c2bcf16a-e907-4ca4-a44d-8d69555c3eac",
   "metadata": {},
   "outputs": [
    {
     "name": "stdout",
     "output_type": "stream",
     "text": [
      "i is 0 at this step\n",
      "i is 0 at this step\n",
      "x is not 2 \n",
      "\n",
      "i is 1 at this step\n",
      "i is 1 at this step\n",
      "x is 2 \n",
      "\n",
      "i is 2 at this step\n",
      "i is 2 at this step\n",
      "x is not 2 \n",
      "\n"
     ]
    }
   ],
   "source": [
    "# ---- Notice indentation ----\n",
    "x = [1,2,3] # Define list\n",
    "for i in range(0,3): # Loop through list\n",
    "    print(\"i is\",i,'at this step') # Print what index we are on\n",
    "    print(\"i is %s at this step\"%i)\n",
    "    if x[i] == 2:\n",
    "        print(\"x is\", x[i], \"\\n\") # Print what our x is if it is not 2\n",
    "    else:\n",
    "        print(\"x is not 2\", \"\\n\") \n",
    "        \n",
    "        "
   ]
  },
  {
   "cell_type": "code",
   "execution_count": 16,
   "id": "5e5b7d92-ba0b-4b98-ad9c-c0486921f295",
   "metadata": {},
   "outputs": [
    {
     "name": "stdout",
     "output_type": "stream",
     "text": [
      "1 maps to x\n",
      "2 maps to y\n",
      "3 maps to z\n",
      "\n",
      "\n",
      "1 maps to x\n",
      "2 maps to y\n",
      "3 maps to z\n"
     ]
    }
   ],
   "source": [
    "myDict = {1 : 'x',\n",
    "          2 : 'y',\n",
    "          3 : 'z'}\n",
    "\n",
    "for key, val in myDict.items(): # items() makes iterable with output a tuple\n",
    "    print(key,'maps to',val)\n",
    "    \n",
    "print('\\n')\n",
    "for key in myDict.keys():\n",
    "    print(key,'maps to',myDict[key])\n",
    "        \n",
    "        "
   ]
  },
  {
   "cell_type": "markdown",
   "id": "73276f25-929c-4043-a766-87a3db43dc24",
   "metadata": {},
   "source": [
    "## Python Objects"
   ]
  },
  {
   "cell_type": "code",
   "execution_count": 19,
   "id": "14274d69-8bd7-4655-82b4-f31a416fb1bf",
   "metadata": {},
   "outputs": [
    {
     "data": {
      "text/plain": [
       "True"
      ]
     },
     "execution_count": 19,
     "metadata": {},
     "output_type": "execute_result"
    }
   ],
   "source": [
    "type(x)\n",
    "\n",
    "type(x) == list"
   ]
  },
  {
   "cell_type": "code",
   "execution_count": 20,
   "id": "ab752c16-51d6-42b6-a4a6-29587b481997",
   "metadata": {},
   "outputs": [
    {
     "data": {
      "text/plain": [
       "True"
      ]
     },
     "execution_count": 20,
     "metadata": {},
     "output_type": "execute_result"
    }
   ],
   "source": [
    "isinstance(x,object)\n",
    "\n"
   ]
  },
  {
   "cell_type": "code",
   "execution_count": 21,
   "id": "b14b65cb-e5d0-4ff6-ba43-dbbaedbb7abb",
   "metadata": {},
   "outputs": [
    {
     "data": {
      "text/plain": [
       "int"
      ]
     },
     "execution_count": 21,
     "metadata": {},
     "output_type": "execute_result"
    }
   ],
   "source": [
    "type(1)\n",
    "\n"
   ]
  },
  {
   "cell_type": "code",
   "execution_count": 22,
   "id": "69fd296b-5639-4068-8ccd-de3a393df489",
   "metadata": {},
   "outputs": [
    {
     "data": {
      "text/plain": [
       "True"
      ]
     },
     "execution_count": 22,
     "metadata": {},
     "output_type": "execute_result"
    }
   ],
   "source": [
    "isinstance(1,object)\n",
    "\n"
   ]
  },
  {
   "cell_type": "markdown",
   "id": "05886f4d-8524-43a1-8406-ddd766217b88",
   "metadata": {},
   "source": [
    "With lists, we can do multiple operations that you would expect being possible. "
   ]
  },
  {
   "cell_type": "code",
   "execution_count": 24,
   "id": "a0a94382-789d-41f5-a2cb-3ac81280ede4",
   "metadata": {},
   "outputs": [],
   "source": [
    "x. # tab completion, example: clear()"
   ]
  },
  {
   "cell_type": "code",
   "execution_count": 25,
   "id": "d33b18de-92cd-40b6-9fea-03920ab02d00",
   "metadata": {},
   "outputs": [
    {
     "data": {
      "text/plain": [
       "[]"
      ]
     },
     "execution_count": 25,
     "metadata": {},
     "output_type": "execute_result"
    }
   ],
   "source": [
    "x"
   ]
  },
  {
   "cell_type": "code",
   "execution_count": 26,
   "id": "118d9cef-b280-4423-ab0c-8990a5d705d8",
   "metadata": {},
   "outputs": [
    {
     "name": "stdout",
     "output_type": "stream",
     "text": [
      "[15, 12]\n",
      "[15]\n",
      "[12, 12, 15]\n",
      "0\n",
      "[15, 12, 12]\n",
      "[12, 12, 15]\n"
     ]
    }
   ],
   "source": [
    "listExample = []\n",
    "listExample.append(15) # Adds 15 to the end of our list\n",
    "listExample.append(12) # Adds 12 to the end of our list\n",
    "print(listExample)\n",
    "listExample.pop() # Pops out our last entry\n",
    "print(listExample)\n",
    "listExample.insert(0,12) # Inserts 12 into the 0th element\n",
    "listExample.insert(1,12) # Inserts 12 into the 1st element\n",
    "print(listExample)\n",
    "print(listExample.index(12)) # Gives index for 12 (Note: It only gives you the first index it finds)\n",
    "listExample.reverse() # Reverses the list\n",
    "print(listExample)\n",
    "listExample.sort() # Sorts list\n",
    "print(listExample)"
   ]
  },
  {
   "cell_type": "markdown",
   "id": "636314a1-7486-4124-8a64-67901364a8b7",
   "metadata": {},
   "source": [
    "Dictionaries are very similar to lists but instead of having indices, we have keys and we can access a specific part of our dictionary with a key:"
   ]
  },
  {
   "cell_type": "code",
   "execution_count": 29,
   "id": "54e82941-0a88-43c7-a387-e25fd69e36f2",
   "metadata": {},
   "outputs": [
    {
     "name": "stdout",
     "output_type": "stream",
     "text": [
      "{'Phoenix': 11, 'Tucson': 111, 'California': 638}\n",
      "Phoenix is 11 miles away from Tempe\n",
      "Tucson is 111 miles away from Tempe\n",
      "California is 638 miles away from Tempe\n",
      "{'Phoenix': 11, 'Tucson': 111}\n",
      "{'Phoenix': 11, 'Tucson': 111, 'Nevada': 574}\n"
     ]
    }
   ],
   "source": [
    "dist = { # In miles\n",
    "    \"Phoenix\" : 11,\n",
    "    \"Tucson\" : 111,\n",
    "    \"California\" : 638\n",
    "}\n",
    "print(dist)\n",
    "\n",
    "# ---- Iterate over dict ----\n",
    "for place,miles in dist.items():\n",
    "    print(\"%s is %d miles away from Tempe\" % (place,miles))\n",
    "    \n",
    "dist.pop(\"California\")# Remove an entry\n",
    "print(dist)\n",
    "dist[\"Nevada\"] = 574 # Add an entry\n",
    "# dist.update({\"Nevada\":574})\n",
    "print(dist)"
   ]
  },
  {
   "cell_type": "markdown",
   "id": "402b6fdf-5c4d-4a4c-b0e1-736e1ad92b8c",
   "metadata": {},
   "source": [
    "## Native Functions/Operators\n",
    "\n",
    "As you would expect, simple math operators are the same as most languages:"
   ]
  },
  {
   "cell_type": "code",
   "execution_count": 31,
   "id": "02fce5f2-6db2-463d-a8d1-f0556ebb7099",
   "metadata": {},
   "outputs": [
    {
     "name": "stdout",
     "output_type": "stream",
     "text": [
      "2\n",
      "0\n",
      "0.5\n",
      "0\n",
      "8\n",
      "6\n",
      "1\n"
     ]
    }
   ],
   "source": [
    "print(1 + 1) # Addition\n",
    "print(1 - 1) # Subtraction\n",
    "print(1/2) # float Division\n",
    "print(1//2) # integer Division\n",
    "print(2**3) # Power\n",
    "print(2*3) # Multiplication\n",
    "print(15%2) # Modulo"
   ]
  },
  {
   "cell_type": "markdown",
   "id": "6d3fa637-ddbd-4895-bff4-189258a74c16",
   "metadata": {},
   "source": [
    "We can also use very intuitive operators on strings:"
   ]
  },
  {
   "cell_type": "code",
   "execution_count": 33,
   "id": "1754dfd1-0e33-44f6-bb47-0dfdf0789b3f",
   "metadata": {},
   "outputs": [
    {
     "name": "stdout",
     "output_type": "stream",
     "text": [
      "Hello World\n",
      "Hello Hello Hello \n",
      "6\n",
      "Hello World\n",
      "Hello World\n",
      "Hello, I am 12 years old and heres a float 24.000002\n",
      "I can truncate my floats like this 24.00\n",
      "2\n",
      "ll\n",
      "Hlo\n",
      "eo\n",
      "HELLO \n",
      "hello \n",
      "['Hello', 'World']\n",
      "True\n",
      "False\n",
      "True\n"
     ]
    }
   ],
   "source": [
    "# ---- Operators with strings\n",
    "\n",
    "hi = \"Hello \"\n",
    "wrld = \"World\"\n",
    "print(hi + wrld) # Concatinate strings with +\n",
    "print(hi * 3) # Repeat strings with *\n",
    "\n",
    "# ---- We can also manipulate strings with several functions ----\n",
    "\n",
    "print(len(hi)) # See how many characters our string has\n",
    "print(\"Hello %s\" % wrld) # Insert string world into %s\n",
    "print(\"%s%s\" % (hi,wrld)) # Insert multiple strings\n",
    "intgr = 12\n",
    "fl = 24.000002\n",
    "print(\"Hello, I am %d years old and heres a float %f\" % (intgr, fl)) # Insert integers with %d and floats with %f\n",
    "print(\"I can truncate my floats like this %.02f\" % fl) # Only 2 digits to the right of our decimal\n",
    "\n",
    "# ---- Built in functions for strings ----\n",
    "\n",
    "print(hi.count('l')) # Count how many l's we have in the string\n",
    "print(hi[2:4]) # Slice strings (This will give you index 2 and 3 of 'Hello ' or the 2 l's)\n",
    "print(hi[0:6:2]) # We can also skip every other character\n",
    "print(hi[1:6:3]) # Or more if we desire6\n",
    "print(hi.upper()) # We can make everything upper case\n",
    "print(hi.lower()) # Or lower\n",
    "print((hi + wrld).split(' ')) # Split \"Hello World\" by the space\n",
    "print(hi.startswith('H')) # See if it starts with something\n",
    "print(hi.endswith('a;lksdas;lkd')) # See if it ends with something\n",
    "print('l' in hi)"
   ]
  },
  {
   "cell_type": "code",
   "execution_count": 34,
   "id": "a639259a-bdd2-4d35-b081-dbfa27ac8f59",
   "metadata": {},
   "outputs": [
    {
     "ename": "TypeError",
     "evalue": "'str' object does not support item assignment",
     "output_type": "error",
     "traceback": [
      "\u001b[0;31m---------------------------------------------------------------------------\u001b[0m",
      "\u001b[0;31mTypeError\u001b[0m                                 Traceback (most recent call last)",
      "\u001b[0;32m<ipython-input-34-66017d45d244>\u001b[0m in \u001b[0;36m<module>\u001b[0;34m\u001b[0m\n\u001b[0;32m----> 1\u001b[0;31m \u001b[0mhi\u001b[0m\u001b[0;34m[\u001b[0m\u001b[0;36m1\u001b[0m\u001b[0;34m]\u001b[0m \u001b[0;34m=\u001b[0m \u001b[0;34m'x'\u001b[0m\u001b[0;34m\u001b[0m\u001b[0;34m\u001b[0m\u001b[0m\n\u001b[0m",
      "\u001b[0;31mTypeError\u001b[0m: 'str' object does not support item assignment"
     ]
    }
   ],
   "source": [
    "hi[1] = 'x' # so string indices do not work like list indices"
   ]
  },
  {
   "cell_type": "markdown",
   "id": "dcd29d84-bd06-4624-8f91-08e25add6b81",
   "metadata": {},
   "source": [
    "## Control Flow\n",
    "\n",
    "Control flow refers to native Python functionality that controls the flow of how code is interpretted. This includes things we are familiar with: for loops, while loops, boolean conditions (if-else statements), etc. Many of the control sequences use common English language instead of mathematical operations such as \"in\" for is an element of and \"is\" for = (is equal to)."
   ]
  },
  {
   "cell_type": "code",
   "execution_count": 36,
   "id": "9e40f33e-86ef-408b-91c3-3ee23392df02",
   "metadata": {},
   "outputs": [
    {
     "name": "stdout",
     "output_type": "stream",
     "text": [
      "True\n",
      "False\n",
      "True\n",
      "False\n",
      "Your name is Nick, Bob, or John\n",
      "x contains 1\n"
     ]
    },
    {
     "name": "stderr",
     "output_type": "stream",
     "text": [
      "<>:8: SyntaxWarning: \"is\" with a literal. Did you mean \"==\"?\n",
      "<>:8: SyntaxWarning: \"is\" with a literal. Did you mean \"==\"?\n",
      "<ipython-input-36-ddfe687c7b8a>:8: SyntaxWarning: \"is\" with a literal. Did you mean \"==\"?\n",
      "  print(z is 1) # (True)\n"
     ]
    }
   ],
   "source": [
    "x = [1,2,3]\n",
    "y = [1,2,3] \n",
    "# x = y # this maps x and y to the same address, does not create new x\n",
    "print(x == y) # Matches values (True)\n",
    "print(x is y) # Matches instances (False)\n",
    "\n",
    "z = 1\n",
    "print(z is 1) # (True)\n",
    "\n",
    "bl = True\n",
    "print(not bl) # The not operator (False)\n",
    "\n",
    "# if not bl:\n",
    "\n",
    "name = \"Nick\"\n",
    "if name in [\"Nick\", \"Bob\", \"John\"]: # Can check if a string is in a list\n",
    "    print(\"Your name is Nick, Bob, or John\")\n",
    "    \n",
    "if 1 in x: # Same with numbers\n",
    "    print(\"x contains 1\")"
   ]
  },
  {
   "cell_type": "markdown",
   "id": "45479506-8b1e-4b44-b41a-50148b6c44d1",
   "metadata": {},
   "source": [
    "<u>Note</u>: The above will flag a SyntaxWarning for Python 3.8+"
   ]
  },
  {
   "cell_type": "markdown",
   "id": "21c12ad3-3a60-4984-aab0-122d83a27e0e",
   "metadata": {},
   "source": [
    "Some control flows allow us to interact with other control flows (such as loops) if we need to. These include: pass, continue, and break.\n",
    "\n",
    "> + pass - just interpret the next line (this is often used as a space filler for User-defined functions and classes - more on these next week!)\n",
    "> + break - this exits the control flow it is found in\n",
    "> + continue - this exits the current <i>iteration</i> of the control flow to move to the next one. Works like a \"skip\" for the lines below it (PAY ATTENTION TO WHITE SPACE!)"
   ]
  },
  {
   "cell_type": "code",
   "execution_count": 37,
   "id": "1c3aa68c-b6d2-4609-9afb-27a526295890",
   "metadata": {},
   "outputs": [
    {
     "name": "stdout",
     "output_type": "stream",
     "text": [
      "0\n",
      "1\n",
      "2\n",
      "3\n",
      "4\n",
      "\n",
      "\n",
      "1\n",
      "2\n",
      "3\n",
      "4\n",
      "\n",
      "\n",
      "1\n",
      "3\n",
      "5\n",
      "7\n",
      "9\n",
      "11\n",
      "13\n",
      "15\n",
      "17\n",
      "19\n"
     ]
    }
   ],
   "source": [
    "i = 0\n",
    "\n",
    "while i < 5: # Simple while loop using a counter\n",
    "    print(i)\n",
    "    i += 1 # i = i + 2\n",
    "    pass\n",
    "print(\"\\n\")   \n",
    "\n",
    "\n",
    "i = 0\n",
    "while True: # Another way to do the same thing using break\n",
    "    i += 1\n",
    "    if i > 4:\n",
    "        break\n",
    "    print(i)    \n",
    "print(\"\\n\") \n",
    "\n",
    "# \"range\" is another type of control sequence useful for creating an \"iterable\" of integers that we might want to use\n",
    "# -- think of it as a temporary \"list\" of integers ONLY meant to iterate over\n",
    "for i in range(20): # Print odd numbers using continue \n",
    "    if i % 2 == 0:\n",
    "        continue # If we are an even number we go to the top\n",
    "        \n",
    "        print('This will not print') # see identation\n",
    "    print(i)"
   ]
  },
  {
   "cell_type": "code",
   "execution_count": 38,
   "id": "14c03668-4811-4f4c-9630-46b70de148d1",
   "metadata": {},
   "outputs": [
    {
     "data": {
      "text/plain": [
       "([0, 1, 2, 3, 4, 5, 6, 7, 8, 9, 10, 11, 12, 13, 14, 15, 16, 17, 18, 19],\n",
       " [0, 1, 2, 3, 4, 5, 6, 7, 8, 9, 10, 11, 12, 13, 14, 15, 16, 17, 18, 19])"
      ]
     },
     "execution_count": 38,
     "metadata": {},
     "output_type": "execute_result"
    }
   ],
   "source": [
    "x = [i for i in range(20)] # list comprehension\n",
    "\n",
    "y = []\n",
    "for i in range(20):\n",
    "    y.append(i)\n",
    "    \n",
    "x, y"
   ]
  },
  {
   "cell_type": "markdown",
   "id": "6c0ae7de-b4ad-423b-a4f0-e747aec0ad5d",
   "metadata": {},
   "source": [
    "## Exercises"
   ]
  },
  {
   "cell_type": "markdown",
   "id": "87464d69-ff45-48f5-a344-e40e96e99550",
   "metadata": {},
   "source": [
    "<b> Exercise 1: Create a control flow that constructs a list of containing only the first 10 powers of 3.</b>\n"
   ]
  },
  {
   "cell_type": "markdown",
   "id": "68ce70c3-a66c-4fc5-b167-4328ba2ae049",
   "metadata": {},
   "source": []
  }
 ],
 "metadata": {
  "kernelspec": {
   "display_name": "Python 3",
   "language": "python",
   "name": "python3"
  },
  "language_info": {
   "codemirror_mode": {
    "name": "ipython",
    "version": 3
   },
   "file_extension": ".py",
   "mimetype": "text/x-python",
   "name": "python",
   "nbconvert_exporter": "python",
   "pygments_lexer": "ipython3",
   "version": "3.9.4"
  }
 },
 "nbformat": 4,
 "nbformat_minor": 5
}
