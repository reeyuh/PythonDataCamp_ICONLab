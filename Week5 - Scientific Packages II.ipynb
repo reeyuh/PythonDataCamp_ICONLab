{
 "cells": [
  {
   "cell_type": "markdown",
   "id": "29bc2634-b44b-44db-ab5e-4aa52d8b7b1f",
   "metadata": {},
   "source": [
    "<h1><center>Introduction to Scientific Packages II (Matplotlib and Pandas)</center></h1>\n",
    "\n",
    "> 1. Basics of Matplotlib\n",
    ">> - The basic plot\n",
    ">> - Subplots and Axis elements\n",
    ">> - GridSpec\n",
    ">> - Some examples of decorating your figure\n",
    "> 2. Basics of Pandas\n",
    ">> - The Series and DataFrame classes\n",
    ">> - Filtering by columns and rows\n",
    ">> - I/O functions\n",
    ">> - Looking at data\n",
    ">> - Summarizing data\n",
    ">> - GroupBy for exploring data\n",
    "\n",
    "\n",
    "\n",
    "<u>Main modules of interest:</u>\n",
    "> <b>Matplotlib</b> : High-quality 2D charting library that has functions taking data arrays as inputs and returning figures. Also, allows us to focus on visual effects like colors or spacing an an abstract level. (https://matplotlib.org)\n",
    ">\n",
    "> <b>Pandas</b> : Used for data analysis and making tabular data structures with mixed data types (DataFrames). Organizes everything visually into tables which can be useful if you get lost in what's stored where. (This will only be used behind the scenes in this lesson, https://pandas.pydata.org)\n",
    "\n",
    "<u>List of other included modules</u>:\n",
    "> <b>OS</b> : Standard input-output functions for accessing and saving files on your operating system. (https://docs.python.org/3/library/os.html)\n"
   ]
  },
  {
   "cell_type": "markdown",
   "id": "0ed7ad83-aedd-45fc-b79f-d901d8594224",
   "metadata": {},
   "source": [
    "## Import modules"
   ]
  },
  {
   "cell_type": "code",
   "execution_count": 1,
   "id": "4304f678-c18c-42fe-bec8-f76bc3c1d606",
   "metadata": {},
   "outputs": [],
   "source": [
    "# data handling module\n",
    "import pandas as pd\n",
    "import numpy as np\n",
    "\n",
    "# data viz module\n",
    "import matplotlib.pyplot as plt \n",
    "# the percent sign below is something called Jupyter magic making the Jupyter Notebook interactive\n",
    "# - (In this case, just plotting figures inside the notebook.)\n",
    "%matplotlib inline \n",
    "\n",
    "# I/O + system module\n",
    "import os"
   ]
  },
  {
   "cell_type": "markdown",
   "id": "062ec150-a40b-4151-8a9e-da01f7ffdd6f",
   "metadata": {},
   "source": [
    "## Basics of Matplotlib\n",
    "\n",
    "Matplotlib is built around two Python objects:\n",
    "+ Figure objects\n",
    "+ Axes objects\n",
    "\n",
    "\n",
    "These two classes are your bread-and-butter interfaces to the plotting <i>backends</i>. <i>Backends</i> deal with how the plots are rendered into the different image formats (.jpg, .svg, .pdf, .png, etc). You don't need to do anything with the backends for the most part - just know that we structure the figure layout with Python code, and the backend renders it into an image that could be <i>rasterized</i> (made up of pixel dots with different properties), <i>vectorized</i> (expressed as scalable vectors having multiple layers to the image), etc.\n",
    "\n",
    "They also have very similar functionality and interact with each other. You will be using both constantly throughout the entire data science workflow - from exploring data to designing more elaborate and informative figures for publications/presentations.\n",
    "\n",
    "> <b>Note</b>: There are a number of visualization packages. Some examples include: <b>Matplotlib</b>, <b>Seaborn</b>, <b>Bokeh</b>, and <b>Plotly</b>.\n",
    "> \n",
    "> All packages are typically built around <b>Matplotlib</b>\n",
    "\n",
    "**Pros:**\n",
    "<ul> \n",
    "<li>Huge amount of functionality/options. (There are >70,000 lines of code associated with this library.)\n",
    "<li>Works with numpy arrays and python lists.\n",
    "<li>Comes with many prepackaged Python distros (anaconda, WinPython, etc.).\n",
    "<li>Easily saves plots to raster (.png, .bmp, etc.) and vector (.svg, .pdf, etc.) formats.\n",
    "<li>Has an excellent set of examples for coming up with figure layouts (with code) at http://matplotlib.org/gallery.\n",
    "<li>Shares many syntactic conventions with Matlab.\n",
    "</ul>\n",
    "\n",
    "\n",
    "**Cons:**\n",
    "<ul>\n",
    "<li>Slow for rapidly updating plots.\n",
    "<li>3D plotting support is not great.\n",
    "<li>Documentation is not always useful (it's actually very extensive, but often out-of-date or lacking in up-to-date examples)\n",
    "<li>Essentially has two primary interfaces.  One is intended to be close to Matlab, the other is object oriented.  You will find examples that assume one or the other, but rarely the one you are after. \n",
    "    - There actually several interfaces that work with several backends.\n",
    "<li>Shares many syntactic conventions with Matlab.\n",
    "</ul>"
   ]
  },
  {
   "cell_type": "markdown",
   "id": "70666426-b3c3-410c-9bae-8e4fc49524d2",
   "metadata": {},
   "source": [
    "### The basic plot using the Figure Class"
   ]
  },
  {
   "cell_type": "code",
   "execution_count": 2,
   "id": "ea4b4040-e918-4025-ae96-bba1299b3bbd",
   "metadata": {},
   "outputs": [
    {
     "name": "stdout",
     "output_type": "stream",
     "text": [
      "Help on function figure in module matplotlib.pyplot:\n",
      "\n",
      "figure(num=None, figsize=None, dpi=None, facecolor=None, edgecolor=None, frameon=True, FigureClass=<class 'matplotlib.figure.Figure'>, clear=False, **kwargs)\n",
      "    Create a new figure, or activate an existing figure.\n",
      "    \n",
      "    Parameters\n",
      "    ----------\n",
      "    num : int or str, optional\n",
      "        A unique identifier for the figure.\n",
      "    \n",
      "        If a figure with that identifier already exists, this figure is made\n",
      "        active and returned. An integer refers to the ``Figure.number``\n",
      "        attribute, a string refers to the figure label.\n",
      "    \n",
      "        If there is no figure with the identifier or *num* is not given, a new\n",
      "        figure is created, made active and returned.  If *num* is an int, it\n",
      "        will be used for the ``Figure.number`` attribute, otherwise, an\n",
      "        auto-generated integer value is used (starting at 1 and incremented\n",
      "        for each new figure). If *num* is a string, the figure label and the\n",
      "        window title is set to this value.\n",
      "    \n",
      "    figsize : (float, float), default: :rc:`figure.figsize`\n",
      "        Width, height in inches.\n",
      "    \n",
      "    dpi : float, default: :rc:`figure.dpi`\n",
      "        The resolution of the figure in dots-per-inch.\n",
      "    \n",
      "    facecolor : color, default: :rc:`figure.facecolor`\n",
      "        The background color.\n",
      "    \n",
      "    edgecolor : color, default: :rc:`figure.edgecolor`\n",
      "        The border color.\n",
      "    \n",
      "    frameon : bool, default: True\n",
      "        If False, suppress drawing the figure frame.\n",
      "    \n",
      "    FigureClass : subclass of `~matplotlib.figure.Figure`\n",
      "        Optionally use a custom `.Figure` instance.\n",
      "    \n",
      "    clear : bool, default: False\n",
      "        If True and the figure already exists, then it is cleared.\n",
      "    \n",
      "    tight_layout : bool or dict, default: :rc:`figure.autolayout`\n",
      "        If ``False`` use *subplotpars*. If ``True`` adjust subplot\n",
      "        parameters using `.tight_layout` with default padding.\n",
      "        When providing a dict containing the keys ``pad``, ``w_pad``,\n",
      "        ``h_pad``, and ``rect``, the default `.tight_layout` paddings\n",
      "        will be overridden.\n",
      "    \n",
      "    constrained_layout : bool, default: :rc:`figure.constrained_layout.use`\n",
      "        If ``True`` use constrained layout to adjust positioning of plot\n",
      "        elements.  Like ``tight_layout``, but designed to be more\n",
      "        flexible.  See\n",
      "        :doc:`/tutorials/intermediate/constrainedlayout_guide`\n",
      "        for examples.  (Note: does not work with `add_subplot` or\n",
      "        `~.pyplot.subplot2grid`.)\n",
      "    \n",
      "    \n",
      "    **kwargs : optional\n",
      "        See `~.matplotlib.figure.Figure` for other possible arguments.\n",
      "    \n",
      "    Returns\n",
      "    -------\n",
      "    `~matplotlib.figure.Figure`\n",
      "        The `.Figure` instance returned will also be passed to\n",
      "        new_figure_manager in the backends, which allows to hook custom\n",
      "        `.Figure` classes into the pyplot interface. Additional kwargs will be\n",
      "        passed to the `.Figure` init function.\n",
      "    \n",
      "    Notes\n",
      "    -----\n",
      "    If you are creating many figures, make sure you explicitly call\n",
      "    `.pyplot.close` on the figures you are not using, because this will\n",
      "    enable pyplot to properly clean up the memory.\n",
      "    \n",
      "    `~matplotlib.rcParams` defines the default values, which can be modified\n",
      "    in the matplotlibrc file.\n",
      "\n"
     ]
    }
   ],
   "source": [
    "help(plt.figure)"
   ]
  },
  {
   "cell_type": "code",
   "execution_count": 3,
   "id": "d1b8cede-e9e8-4aac-aee8-087c05fb0413",
   "metadata": {},
   "outputs": [
    {
     "data": {
      "text/plain": [
       "<Figure size 432x288 with 0 Axes>"
      ]
     },
     "metadata": {},
     "output_type": "display_data"
    }
   ],
   "source": [
    "# This is our interface\n",
    "fig = plt.figure() # the \"basic plot\" is class instance with a size and Axes attributes associated with it\n",
    "\n"
   ]
  },
  {
   "cell_type": "code",
   "execution_count": 4,
   "id": "1d7e56e6-57d2-4a87-a060-3ff9e802dc84",
   "metadata": {},
   "outputs": [
    {
     "data": {
      "text/plain": [
       "matplotlib.figure.Figure"
      ]
     },
     "execution_count": 4,
     "metadata": {},
     "output_type": "execute_result"
    }
   ],
   "source": [
    "type(fig) # this type is handled by the new_figure_manager behind the scenes so that w \n",
    "\n"
   ]
  },
  {
   "cell_type": "code",
   "execution_count": 5,
   "id": "6cf0e074-3325-4bb4-b6c0-d05cd91868c7",
   "metadata": {},
   "outputs": [
    {
     "data": {
      "text/plain": [
       "[<matplotlib.lines.Line2D at 0x7fed64479810>]"
      ]
     },
     "execution_count": 5,
     "metadata": {},
     "output_type": "execute_result"
    },
    {
     "data": {
      "image/png": "[encoded data removed]",
      "text/plain": [
       "<Figure size 432x288 with 1 Axes>"
      ]
     },
     "metadata": {
      "needs_background": "light"
     },
     "output_type": "display_data"
    }
   ],
   "source": [
    "# let's look at some \"data\" \n",
    "fake_data = np.random.random(1000)\n",
    "\n",
    "# we create a Figure instance\n",
    "fig = plt.figure()\n",
    "\n",
    "# we then call the plot method\n",
    "plt.plot(fake_data) "
   ]
  },
  {
   "cell_type": "markdown",
   "id": "5f50f2d0-18f6-4ef9-b6ac-48d0e70bf9d1",
   "metadata": {},
   "source": [
    "Notice that the \"plot\" method creates a 2D \"line\" plot. This line plot could be a timeseries, i.e., an time-ordered sequence of values, but can also be anything we want to be plotted using a line plot. One example could be plotting the curve of reconstruction errors for machine-learning models as we vary learning parameters."
   ]
  },
  {
   "cell_type": "code",
   "execution_count": 6,
   "id": "6de2ec74-201b-40ba-9d93-bb24776bba41",
   "metadata": {},
   "outputs": [
    {
     "data": {
      "image/png": "[encoded data removed]",
      "text/plain": [
       "<Figure size 432x288 with 1 Axes>"
      ]
     },
     "metadata": {
      "needs_background": "light"
     },
     "output_type": "display_data"
    }
   ],
   "source": [
    "# can also clean our cell output by adding a semi-colon to \n",
    "# the end of the last line of the cell. These can get messy \n",
    "# the more elements are involved in the last line.\n",
    "plt.plot(fake_data);\n"
   ]
  },
  {
   "cell_type": "markdown",
   "id": "4f2485bd-f7dc-4c35-a67e-ed01c9aa9994",
   "metadata": {},
   "source": [
    "> <b>Note</b>: Generally, we want to tell the interpreter when to render the final plot. This is done with matplotlib.pyplot.show(). However, since we're using a Jupyter Notebook and used Jupyter \"magic\" to render plots in-line, we aren't here. This should be done (in conjuction to \"closing\" plots via matplotlib.pyplot.close() ...) when you are running code in scripts"
   ]
  },
  {
   "cell_type": "code",
   "execution_count": 7,
   "id": "f3c063b5-089c-499d-a452-1f57a8d40b04",
   "metadata": {},
   "outputs": [
    {
     "data": {
      "image/png": "[encoded data removed]",
      "text/plain": [
       "<Figure size 432x288 with 1 Axes>"
      ]
     },
     "execution_count": 7,
     "metadata": {},
     "output_type": "execute_result"
    }
   ],
   "source": [
    "# ... the bare minimum of the Figure instance\n",
    "fig # WHAT HAPPENED TO THE AXES??"
   ]
  },
  {
   "cell_type": "markdown",
   "id": "6d5b2ac4-d4f3-43dc-b9ce-53f8ec028c00",
   "metadata": {},
   "source": [
    "## The Anatomy of a Figure\n",
    "\n",
    "See figures folder."
   ]
  },
  {
   "cell_type": "markdown",
   "id": "d71f6433-bb00-43e7-b70e-bb710ab1d45f",
   "metadata": {},
   "source": [
    "### The Axes Class and Subplots"
   ]
  },
  {
   "cell_type": "code",
   "execution_count": 8,
   "id": "8f5846c0-f960-44b5-a8ca-b604b0e1a32d",
   "metadata": {},
   "outputs": [
    {
     "data": {
      "image/png": "[encoded data removed]",
      "text/plain": [
       "<Figure size 432x288 with 1 Axes>"
      ]
     },
     "metadata": {
      "needs_background": "light"
     },
     "output_type": "display_data"
    }
   ],
   "source": [
    "# subplots creates the entire layout and gives us access to the Axes of Figure\n",
    "fig, ax = plt.subplots() # <- returns a tuple\n",
    "\n"
   ]
  },
  {
   "cell_type": "code",
   "execution_count": 9,
   "id": "13e5c025-bb7b-480c-8861-f6f67569ceae",
   "metadata": {},
   "outputs": [
    {
     "data": {
      "text/plain": [
       "(<AxesSubplot:>, matplotlib.axes._subplots.AxesSubplot)"
      ]
     },
     "execution_count": 9,
     "metadata": {},
     "output_type": "execute_result"
    }
   ],
   "source": [
    "ax, type(ax)"
   ]
  },
  {
   "cell_type": "code",
   "execution_count": 10,
   "id": "1656c8e9-ad3e-4bee-85cc-84fec3b285a7",
   "metadata": {},
   "outputs": [
    {
     "data": {
      "text/plain": [
       "[<matplotlib.lines.Line2D at 0x7fed6384bc10>]"
      ]
     },
     "execution_count": 10,
     "metadata": {},
     "output_type": "execute_result"
    },
    {
     "data": {
      "image/png": "[encoded data removed]",
      "text/plain": [
       "<Figure size 432x288 with 1 Axes>"
      ]
     },
     "metadata": {
      "needs_background": "light"
     },
     "output_type": "display_data"
    }
   ],
   "source": [
    "# we can essentially do the same thing as before\n",
    "fig, ax = plt.subplots()\n",
    "\n",
    "ax.plot(fake_data) # here we work directly with the Axes "
   ]
  },
  {
   "cell_type": "code",
   "execution_count": 11,
   "id": "09501283-50d5-4344-8eef-d5112210c560",
   "metadata": {},
   "outputs": [
    {
     "data": {
      "image/png": "[encoded data removed]",
      "text/plain": [
       "<Figure size 432x288 with 9 Axes>"
      ]
     },
     "metadata": {
      "needs_background": "light"
     },
     "output_type": "display_data"
    }
   ],
   "source": [
    "# How are multiple axes stored?\n",
    "fig, axs = plt.subplots(nrows=3,ncols=3)\n",
    "\n"
   ]
  },
  {
   "cell_type": "code",
   "execution_count": 12,
   "id": "9abef720-b326-453a-b328-6c9f0c334ead",
   "metadata": {},
   "outputs": [
    {
     "data": {
      "text/plain": [
       "numpy.ndarray"
      ]
     },
     "execution_count": 12,
     "metadata": {},
     "output_type": "execute_result"
    }
   ],
   "source": [
    "type(axs) # as a numpy array\n",
    "\n"
   ]
  },
  {
   "cell_type": "code",
   "execution_count": 13,
   "id": "89c59f10-5d95-41ca-bb03-f440ebad5bca",
   "metadata": {},
   "outputs": [
    {
     "data": {
      "text/plain": [
       "(array([[<AxesSubplot:>, <AxesSubplot:>, <AxesSubplot:>],\n",
       "        [<AxesSubplot:>, <AxesSubplot:>, <AxesSubplot:>],\n",
       "        [<AxesSubplot:>, <AxesSubplot:>, <AxesSubplot:>]], dtype=object),\n",
       " (3, 3))"
      ]
     },
     "execution_count": 13,
     "metadata": {},
     "output_type": "execute_result"
    }
   ],
   "source": [
    "# Axes object is a... of shape...?\n",
    "axs, axs.shape\n",
    "\n"
   ]
  },
  {
   "cell_type": "code",
   "execution_count": 14,
   "id": "a6dcd59e-ded0-4ebc-b2a7-80503d7ebb58",
   "metadata": {},
   "outputs": [
    {
     "name": "stdout",
     "output_type": "stream",
     "text": [
      "AxesSubplot(0.398529,0.657941;0.227941x0.222059)\n"
     ]
    }
   ],
   "source": [
    "# ... and can be indexed like any other array\n",
    "print(axs[0,1]) # note the address\n",
    "\n"
   ]
  },
  {
   "cell_type": "code",
   "execution_count": 15,
   "id": "90604f50-5c35-45fc-8ab2-2049a9521581",
   "metadata": {},
   "outputs": [
    {
     "name": "stdout",
     "output_type": "stream",
     "text": [
      "AxesSubplot(0.398529,0.125;0.227941x0.222059)\n"
     ]
    }
   ],
   "source": [
    "print(axs[2,1]) # third row, second col\n",
    "\n"
   ]
  },
  {
   "cell_type": "markdown",
   "id": "396b56e2-c54c-466e-be0b-434ddbcf138b",
   "metadata": {},
   "source": [
    "> <b>Note</b>: Generally, I like to collapse the 2D grid to use with non-nested for loops when I need to plot several subplots. This is a preference, and not necessarily universal."
   ]
  },
  {
   "cell_type": "code",
   "execution_count": 16,
   "id": "0902b7e6-f529-482c-943f-20d6659ed2cf",
   "metadata": {},
   "outputs": [
    {
     "data": {
      "image/png": "[encoded data removed]",
      "text/plain": [
       "<Figure size 432x288 with 9 Axes>"
      ]
     },
     "metadata": {
      "needs_background": "light"
     },
     "output_type": "display_data"
    }
   ],
   "source": [
    "# example of collapsing using Numpy\n",
    "fig, axs = plt.subplots(3,3,\n",
    "                       constrained_layout=True) # changes spacing\n",
    "# numpy.array function\n",
    "axs = axs.ravel() # unwraps the 3x3 array into a 1x9 array\n",
    "\n",
    "axs[4].plot(fake_data); # == axs[1,0]"
   ]
  },
  {
   "cell_type": "markdown",
   "id": "8cafa261-7f35-42b5-9daf-1fa4ccebb371",
   "metadata": {},
   "source": [
    "> Alternatively, you can use axs.flatten() for a similar effect."
   ]
  },
  {
   "cell_type": "markdown",
   "id": "22789539-1036-4516-9f1a-0602c46f1185",
   "metadata": {},
   "source": [
    "### GridSpec\n",
    "> The GridSpec class gives us more control over the placement and span of each of the subplots\n",
    ">\n",
    "> If you need even MORE control, look into the <b>mpl_toolkits</b> Python library. Example. AxesGrid can give you even more control"
   ]
  },
  {
   "cell_type": "code",
   "execution_count": 17,
   "id": "46d4b8ff-bfc6-46cd-b539-1f278d132d61",
   "metadata": {},
   "outputs": [],
   "source": [
    "from matplotlib.gridspec import GridSpec"
   ]
  },
  {
   "cell_type": "code",
   "execution_count": 18,
   "id": "66c64359-9527-4a40-9740-f123d9a9cd46",
   "metadata": {},
   "outputs": [],
   "source": [
    "gs = GridSpec(nrows=3,ncols=3)"
   ]
  },
  {
   "cell_type": "code",
   "execution_count": 19,
   "id": "b61230d0-b20d-4c18-8428-54b56edb981d",
   "metadata": {},
   "outputs": [
    {
     "data": {
      "text/plain": [
       "(matplotlib.gridspec.GridSpec, GridSpec(3, 3))"
      ]
     },
     "execution_count": 19,
     "metadata": {},
     "output_type": "execute_result"
    }
   ],
   "source": [
    "type(gs), gs"
   ]
  },
  {
   "cell_type": "code",
   "execution_count": 20,
   "id": "dbb4bbf5-91af-46c6-ba11-97a7039a2d4b",
   "metadata": {},
   "outputs": [
    {
     "data": {
      "image/png": "[encoded data removed]",
      "text/plain": [
       "<Figure size 432x288 with 3 Axes>"
      ]
     },
     "metadata": {
      "needs_background": "light"
     },
     "output_type": "display_data"
    }
   ],
   "source": [
    "# the main power of grid spec is scaling the subplots\n",
    "fig = plt.figure()\n",
    "\n",
    "# Create grispec object and define each subplot\n",
    "gs = GridSpec(2, 2) # 2 x 2 is the shape\n",
    "\n",
    "# We can create each axis here\n",
    "ax0 = plt.subplot(gs[0, 0]) # Top left corner\n",
    "ax1 = plt.subplot(gs[0, 1]) # Top right corner\n",
    "ax2 = plt.subplot(gs[1, :]) # Bottom, span entire width\n",
    "\n",
    "plt.tight_layout();"
   ]
  },
  {
   "cell_type": "markdown",
   "id": "9748fc92-7fb7-43fc-933b-4e8ae14e5fa9",
   "metadata": {},
   "source": [
    "Let's just make a figure and dissect the pieces to it. Matplotlib is definitely one of those packages you'll have to explore. The first Data Exercise should be very helpful for this! "
   ]
  },
  {
   "cell_type": "code",
   "execution_count": 23,
   "id": "b3b0e588-1a9d-49b2-8c49-83bb1a32fff9",
   "metadata": {},
   "outputs": [
    {
     "data": {
      "image/png": "[encoded data removed]",
      "text/plain": [
       "<Figure size 864x288 with 3 Axes>"
      ]
     },
     "metadata": {
      "needs_background": "light"
     },
     "output_type": "display_data"
    }
   ],
   "source": [
    "# Create and empty figure - DON'T SPECIFY ANY SHAPE DETAILS ABOUT THE FIGURE\n",
    "fig = plt.figure(figsize=(12,4)) # figsize sets the width by the height\n",
    "\n",
    "# Create grispec object and define each subplot - a different method\n",
    "ncols, nrows = 2,2\n",
    "spec = fig.add_gridspec(ncols=ncols, nrows=nrows, # we use the attribute method to create it\n",
    "                figure=fig) # here we tell grid spec what figure it belongs to\n",
    "\n",
    "# let's add some colors, too\n",
    "colors = [['r','orange'],['y']] # frequently used colors are specified using strings\n",
    "                                # and some can be specified using shorthand single characters \n",
    "\n",
    "# Now we directly add the subplots\n",
    "for ax_j in range(ncols):\n",
    "        ax = fig.add_subplot(spec[0,ax_j])\n",
    "\n",
    "        \n",
    "        ax.plot(fake_data,\n",
    "                color=colors[0][ax_j],\n",
    "                \n",
    "                # we're just going to throw in some example changes here\n",
    "                marker='o', # adding circles to the lines\n",
    "                alpha=0.2 # changes the opacity (values between 0 and 1)\n",
    "                )\n",
    "        \n",
    "        # we can decorate specific axes\n",
    "        ax.set_xlabel('X-axis')\n",
    "        ax.set_xlim([0,1000])\n",
    "        \n",
    "        if ax_j==0:\n",
    "            ax.set_ylabel('Y-axis',size='xx-large')\n",
    "            \n",
    "        \n",
    "        ax.set_title('The Same Fake Data')\n",
    "            \n",
    "        ax.set_yticks([0,0.5,1.0])\n",
    "        ax.set_yticklabels(['0','1/2','1'])\n",
    "        \n",
    "# bottom row       \n",
    "ax_bot = fig.add_subplot(spec[1,:])\n",
    "ax_bot.plot(fake_data,\n",
    "                color=colors[1][0],\n",
    "                \n",
    "                # we're just going to throw in some example changes here\n",
    "                marker='o', # adding circles to the lines\n",
    "                alpha=0.2 # changes the opacity (values between 0 and 1)\n",
    "                )\n",
    "\n",
    "ax_bot.set_xlabel('X-axis')\n",
    "ax_bot.set_yticks([0,0.5,1.0,1.5,2])\n",
    "ax_bot.set_yticklabels(['0','1/2','1','3/2','2'])\n",
    "ax_bot.set_ylim(top=2.05) \n",
    "\n",
    "        \n",
    "        \n",
    "plt.suptitle('A Somewhat Elaborate Plot')\n",
    "\n",
    "\n",
    "plt.tight_layout(); # similar to \"constrained_layout\""
   ]
  },
  {
   "cell_type": "markdown",
   "id": "924281b3-1007-4b23-b49b-4b9a889da985",
   "metadata": {},
   "source": [
    "## Basic of Pandas\n",
    "\n",
    "<b>Pandas</b> is a Python library for high-level data structures and data manipulation.\n",
    "\n",
    "This includes:\n",
    "> + loading/saving data\n",
    "> + filtering, selecting, grouping functions\n",
    "> + basic data exploration\n",
    "> + plotting and visualization\n",
    "\n",
    "Pandas is built around two data structures: \n",
    "> + Series objects, and \n",
    "> + DataFrame objects\n",
    "\n",
    "Pandas is just not Zen (https://twitter.com/tymwol/status/1390281948564701184). So we will really just take a very brief glimpse at its functionality. You'll discover your own way of working with Pandas, though."
   ]
  },
  {
   "cell_type": "markdown",
   "id": "bbc141f6-cebc-4c53-aac8-6834f2964b63",
   "metadata": {},
   "source": [
    "### The Series and DataFrame"
   ]
  },
  {
   "cell_type": "code",
   "execution_count": 24,
   "id": "01039332-018d-4a94-878f-81a2b0d8c848",
   "metadata": {},
   "outputs": [
    {
     "data": {
      "text/html": [
       "<div>\n",
       "<style scoped>\n",
       "    .dataframe tbody tr th:only-of-type {\n",
       "        vertical-align: middle;\n",
       "    }\n",
       "\n",
       "    .dataframe tbody tr th {\n",
       "        vertical-align: top;\n",
       "    }\n",
       "\n",
       "    .dataframe thead th {\n",
       "        text-align: right;\n",
       "    }\n",
       "</style>\n",
       "<table border=\"1\" class=\"dataframe\">\n",
       "  <thead>\n",
       "    <tr style=\"text-align: right;\">\n",
       "      <th></th>\n",
       "      <th>order</th>\n",
       "      <th>alphabet</th>\n",
       "    </tr>\n",
       "  </thead>\n",
       "  <tbody>\n",
       "    <tr>\n",
       "      <th>0</th>\n",
       "      <td>0</td>\n",
       "      <td>a</td>\n",
       "    </tr>\n",
       "    <tr>\n",
       "      <th>1</th>\n",
       "      <td>1</td>\n",
       "      <td>b</td>\n",
       "    </tr>\n",
       "    <tr>\n",
       "      <th>2</th>\n",
       "      <td>2</td>\n",
       "      <td>c</td>\n",
       "    </tr>\n",
       "    <tr>\n",
       "      <th>3</th>\n",
       "      <td>23</td>\n",
       "      <td>x</td>\n",
       "    </tr>\n",
       "    <tr>\n",
       "      <th>4</th>\n",
       "      <td>24</td>\n",
       "      <td>y</td>\n",
       "    </tr>\n",
       "    <tr>\n",
       "      <th>5</th>\n",
       "      <td>25</td>\n",
       "      <td>z</td>\n",
       "    </tr>\n",
       "  </tbody>\n",
       "</table>\n",
       "</div>"
      ],
      "text/plain": [
       "   order alphabet\n",
       "0      0        a\n",
       "1      1        b\n",
       "2      2        c\n",
       "3     23        x\n",
       "4     24        y\n",
       "5     25        z"
      ]
     },
     "execution_count": 24,
     "metadata": {},
     "output_type": "execute_result"
    }
   ],
   "source": [
    "example = {'order' : [0,1,2,23,24,25],\n",
    "           'alphabet' : ['a','b','c','x','y','z']}\n",
    "\n",
    "df = pd.DataFrame(example) # notice that D and F are capitalize\n",
    "\n",
    "df"
   ]
  },
  {
   "cell_type": "code",
   "execution_count": 25,
   "id": "dbe70806-6ac8-4b73-8a1f-cb668bc2f180",
   "metadata": {},
   "outputs": [
    {
     "data": {
      "text/plain": [
       "RangeIndex(start=0, stop=6, step=1)"
      ]
     },
     "execution_count": 25,
     "metadata": {},
     "output_type": "execute_result"
    }
   ],
   "source": [
    "df.index # [0,6) by 1"
   ]
  },
  {
   "cell_type": "code",
   "execution_count": 26,
   "id": "af999294-0126-4353-aabf-c9d562540b38",
   "metadata": {},
   "outputs": [
    {
     "data": {
      "text/plain": [
       "Index(['order', 'alphabet'], dtype='object')"
      ]
     },
     "execution_count": 26,
     "metadata": {},
     "output_type": "execute_result"
    }
   ],
   "source": [
    "df.columns # column is essentially a list so can have mixed built-in types, \n",
    "        #  here we just have strings"
   ]
  },
  {
   "cell_type": "markdown",
   "id": "0225871f-be81-4876-bf58-c36e7519370a",
   "metadata": {},
   "source": [
    "### Filtering by columns"
   ]
  },
  {
   "cell_type": "code",
   "execution_count": 27,
   "id": "d76b8d04-cd5e-4a05-8c9f-3c91cbf3b4cc",
   "metadata": {},
   "outputs": [
    {
     "name": "stdout",
     "output_type": "stream",
     "text": [
      "0     0\n",
      "1     1\n",
      "2     2\n",
      "3    23\n",
      "4    24\n",
      "5    25\n",
      "Name: order, dtype: int64\n",
      "Type = <class 'pandas.core.series.Series'>\n"
     ]
    }
   ],
   "source": [
    "# we can select columns\n",
    "print(df['order'])\n",
    "\n",
    "print('Type =',type(df.order)) # every column in a DataFrame is a Series"
   ]
  },
  {
   "cell_type": "code",
   "execution_count": 28,
   "id": "58b5a853-73e1-4c1f-ac03-9d7174a0b93c",
   "metadata": {},
   "outputs": [
    {
     "data": {
      "text/plain": [
       "[0, 1, 2, 23, 24, 25]"
      ]
     },
     "execution_count": 28,
     "metadata": {},
     "output_type": "execute_result"
    }
   ],
   "source": [
    "example['order']\n",
    "\n"
   ]
  },
  {
   "cell_type": "code",
   "execution_count": 29,
   "id": "698d10bf-c27c-4577-ad87-ab028e8e7d26",
   "metadata": {},
   "outputs": [
    {
     "data": {
      "text/plain": [
       "0     0\n",
       "1     1\n",
       "2     2\n",
       "3    23\n",
       "4    24\n",
       "5    25\n",
       "dtype: int64"
      ]
     },
     "execution_count": 29,
     "metadata": {},
     "output_type": "execute_result"
    }
   ],
   "source": [
    "series = pd.Series(example['order'])\n",
    "\n",
    "series # this is the same as above, but has \n",
    "       # no Name associated with it"
   ]
  },
  {
   "cell_type": "markdown",
   "id": "301cc956-b872-49bd-95df-6167ebb7a5de",
   "metadata": {},
   "source": [
    "### Columns (and rows) can be Numpy arrays or Lists depending on needs"
   ]
  },
  {
   "cell_type": "code",
   "execution_count": 30,
   "id": "e119de9b-bd48-4c54-9477-8a54fe027c84",
   "metadata": {},
   "outputs": [
    {
     "data": {
      "text/plain": [
       "array([ 0,  1,  2, 23, 24, 25])"
      ]
     },
     "execution_count": 30,
     "metadata": {},
     "output_type": "execute_result"
    }
   ],
   "source": [
    "np.array(df['order'])# using Numpy for casting\n"
   ]
  },
  {
   "cell_type": "code",
   "execution_count": 31,
   "id": "e2506446-2170-458a-8b75-cdb20b399593",
   "metadata": {},
   "outputs": [
    {
     "data": {
      "text/plain": [
       "array([ 0,  1,  2, 23, 24, 25])"
      ]
     },
     "execution_count": 31,
     "metadata": {},
     "output_type": "execute_result"
    }
   ],
   "source": [
    "df['order'].values # second is Pandas function and preferred\n",
    "\n"
   ]
  },
  {
   "cell_type": "code",
   "execution_count": 32,
   "id": "a6fb2a72-77c9-4484-b2c5-2b8e1ae66866",
   "metadata": {},
   "outputs": [
    {
     "data": {
      "text/plain": [
       "['a', 'b', 'c', 'x', 'y', 'z']"
      ]
     },
     "execution_count": 32,
     "metadata": {},
     "output_type": "execute_result"
    }
   ],
   "source": [
    "list(df['alphabet']) # using built-in function for casting\n",
    "\n"
   ]
  },
  {
   "cell_type": "code",
   "execution_count": 33,
   "id": "ec8892a3-109c-467c-a0b9-e0ccb8909932",
   "metadata": {},
   "outputs": [
    {
     "data": {
      "text/plain": [
       "['a', 'b', 'c', 'x', 'y', 'z']"
      ]
     },
     "execution_count": 33,
     "metadata": {},
     "output_type": "execute_result"
    }
   ],
   "source": [
    "df['alphabet'].tolist() # using Pandas\n",
    "\n"
   ]
  },
  {
   "cell_type": "markdown",
   "id": "ddbd024f-df7b-4dbc-a132-95e4bf7e730c",
   "metadata": {},
   "source": [
    "### Filtering rows"
   ]
  },
  {
   "cell_type": "code",
   "execution_count": 34,
   "id": "f867d880-68b0-48c6-9656-c7fd5ec675b6",
   "metadata": {},
   "outputs": [
    {
     "data": {
      "text/plain": [
       "order       1\n",
       "alphabet    b\n",
       "Name: 1, dtype: object"
      ]
     },
     "execution_count": 34,
     "metadata": {},
     "output_type": "execute_result"
    }
   ],
   "source": [
    "# we can also select rows\n",
    "df.loc[1] # returns row values for row with index LABELED as 1\n"
   ]
  },
  {
   "cell_type": "code",
   "execution_count": 35,
   "id": "a9b22435-856b-4da4-88a3-b3c0b0e1bf2a",
   "metadata": {},
   "outputs": [
    {
     "data": {
      "text/plain": [
       "order       1\n",
       "alphabet    b\n",
       "Name: 1, dtype: object"
      ]
     },
     "execution_count": 35,
     "metadata": {},
     "output_type": "execute_result"
    }
   ],
   "source": [
    "df.iloc[1] # returns row values for row in index POSITION 1\n"
   ]
  },
  {
   "cell_type": "code",
   "execution_count": 36,
   "id": "3ea1d8f0-af77-40a1-ba5a-89463ea8137c",
   "metadata": {},
   "outputs": [
    {
     "data": {
      "text/html": [
       "<div>\n",
       "<style scoped>\n",
       "    .dataframe tbody tr th:only-of-type {\n",
       "        vertical-align: middle;\n",
       "    }\n",
       "\n",
       "    .dataframe tbody tr th {\n",
       "        vertical-align: top;\n",
       "    }\n",
       "\n",
       "    .dataframe thead th {\n",
       "        text-align: right;\n",
       "    }\n",
       "</style>\n",
       "<table border=\"1\" class=\"dataframe\">\n",
       "  <thead>\n",
       "    <tr style=\"text-align: right;\">\n",
       "      <th></th>\n",
       "      <th>order</th>\n",
       "      <th>alphabet</th>\n",
       "    </tr>\n",
       "  </thead>\n",
       "  <tbody>\n",
       "    <tr>\n",
       "      <th>1</th>\n",
       "      <td>1</td>\n",
       "      <td>b</td>\n",
       "    </tr>\n",
       "  </tbody>\n",
       "</table>\n",
       "</div>"
      ],
      "text/plain": [
       "   order alphabet\n",
       "1      1        b"
      ]
     },
     "execution_count": 36,
     "metadata": {},
     "output_type": "execute_result"
    }
   ],
   "source": [
    "df[df.index==1] # this one returns a view into the DataFrame\n",
    "                # for any and ALL indices satisfy this\n",
    "\n"
   ]
  },
  {
   "cell_type": "markdown",
   "id": "70ac7463-e312-43ce-b8bf-686b3d009ab9",
   "metadata": {},
   "source": [
    "### Selecting values"
   ]
  },
  {
   "cell_type": "code",
   "execution_count": 37,
   "id": "08af7718-290d-41a9-b196-19efc28ee265",
   "metadata": {},
   "outputs": [
    {
     "data": {
      "text/plain": [
       "('a', 'a', 'a')"
      ]
     },
     "execution_count": 37,
     "metadata": {},
     "output_type": "execute_result"
    }
   ],
   "source": [
    "df['alphabet'][0], df['alphabet'].iloc[0], df['alphabet'].loc[0]\n"
   ]
  },
  {
   "cell_type": "markdown",
   "id": "f6feeea7-1ec7-4468-b5ed-76221ae23213",
   "metadata": {},
   "source": [
    "### Loading data\n",
    "\n",
    "There are methods for reading several different data formats"
   ]
  },
  {
   "cell_type": "code",
   "execution_count": 38,
   "id": "ef3ee0a5-eca3-4bf7-9ca5-55d95799568d",
   "metadata": {},
   "outputs": [
    {
     "name": "stdout",
     "output_type": "stream",
     "text": [
      "['BooleanDtype', 'Categorical', 'CategoricalDtype', 'CategoricalIndex', 'DataFrame', 'DateOffset', 'DatetimeIndex', 'DatetimeTZDtype', 'ExcelFile', 'ExcelWriter', 'Float64Index', 'Grouper', 'HDFStore', 'Index', 'IndexSlice', 'Int16Dtype', 'Int32Dtype', 'Int64Dtype', 'Int64Index', 'Int8Dtype', 'Interval', 'IntervalDtype', 'IntervalIndex', 'MultiIndex', 'NA', 'NaT', 'NamedAgg', 'Period', 'PeriodDtype', 'PeriodIndex', 'RangeIndex', 'Series', 'SparseDtype', 'StringDtype', 'Timedelta', 'TimedeltaIndex', 'Timestamp', 'UInt16Dtype', 'UInt32Dtype', 'UInt64Dtype', 'UInt64Index', 'UInt8Dtype', '__builtins__', '__cached__', '__doc__', '__docformat__', '__file__', '__getattr__', '__git_version__', '__loader__', '__name__', '__package__', '__path__', '__spec__', '__version__', '_config', '_hashtable', '_is_numpy_dev', '_lib', '_libs', '_np_version_under1p16', '_np_version_under1p17', '_np_version_under1p18', '_testing', '_tslib', '_typing', '_version', 'api', 'array', 'arrays', 'bdate_range', 'compat', 'concat', 'core', 'crosstab', 'cut', 'date_range', 'describe_option', 'errors', 'eval', 'factorize', 'get_dummies', 'get_option', 'infer_freq', 'interval_range', 'io', 'isna', 'isnull', 'json_normalize', 'lreshape', 'melt', 'merge', 'merge_asof', 'merge_ordered', 'notna', 'notnull', 'offsets', 'option_context', 'options', 'pandas', 'period_range', 'pivot', 'pivot_table', 'plotting', 'qcut', 'read_clipboard', 'read_csv', 'read_excel', 'read_feather', 'read_fwf', 'read_gbq', 'read_hdf', 'read_html', 'read_json', 'read_orc', 'read_parquet', 'read_pickle', 'read_sas', 'read_spss', 'read_sql', 'read_sql_query', 'read_sql_table', 'read_stata', 'read_table', 'reset_option', 'set_eng_float_format', 'set_option', 'show_versions', 'test', 'testing', 'timedelta_range', 'to_datetime', 'to_numeric', 'to_pickle', 'to_timedelta', 'tseries', 'unique', 'util', 'value_counts', 'wide_to_long']\n"
     ]
    }
   ],
   "source": [
    "print(dir(pd)) # recall dir gives us everything in the namespace \n"
   ]
  },
  {
   "cell_type": "code",
   "execution_count": 39,
   "id": "a52afd7e-99b5-458a-8b6e-4befd5a07b16",
   "metadata": {},
   "outputs": [
    {
     "name": "stdout",
     "output_type": "stream",
     "text": [
      "read_clipboard\n",
      "read_csv\n",
      "read_excel\n",
      "read_feather\n",
      "read_fwf\n",
      "read_gbq\n",
      "read_hdf\n",
      "read_html\n",
      "read_json\n",
      "read_orc\n",
      "read_parquet\n",
      "read_pickle\n",
      "read_sas\n",
      "read_spss\n",
      "read_sql\n",
      "read_sql_query\n",
      "read_sql_table\n",
      "read_stata\n",
      "read_table\n"
     ]
    }
   ],
   "source": [
    "# Examples of loading\n",
    "load_list = [x for x in dir(pd) if 'read' in x]\n",
    "\n",
    "for method in load_list:\n",
    "    print(method)\n",
    "\n"
   ]
  },
  {
   "cell_type": "markdown",
   "id": "b31140be-cd4a-42da-8042-e6393e764c1c",
   "metadata": {},
   "source": [
    "### Reading a specific file"
   ]
  },
  {
   "cell_type": "code",
   "execution_count": 40,
   "id": "3e530715-a6ed-43b5-8aeb-616e84023f14",
   "metadata": {},
   "outputs": [
    {
     "name": "stdout",
     "output_type": "stream",
     "text": [
      "/home/vrhaynes/PythonDataCamp/exercise_data/pokemon_alopez247.csv\n"
     ]
    }
   ],
   "source": [
    "path_to_dir = os.getcwd() # get the current working directory (cwd)\n",
    "path_to_data = 'exercise_data'\n",
    "filename = 'pokemon_alopez247.csv'\n",
    "\n",
    "# join paths \n",
    "f = os.path.join(path_to_dir,path_to_data,filename)\n",
    "\n",
    "print(f)\n",
    "\n"
   ]
  },
  {
   "cell_type": "code",
   "execution_count": 41,
   "id": "d434a097-6726-4f4b-a356-70a7a9a24d5e",
   "metadata": {},
   "outputs": [
    {
     "name": "stdout",
     "output_type": "stream",
     "text": [
      "Help on function read_csv in module pandas.io.parsers:\n",
      "\n",
      "read_csv(filepath_or_buffer: Union[str, pathlib.Path, IO[~AnyStr]], sep=',', delimiter=None, header='infer', names=None, index_col=None, usecols=None, squeeze=False, prefix=None, mangle_dupe_cols=True, dtype=None, engine=None, converters=None, true_values=None, false_values=None, skipinitialspace=False, skiprows=None, skipfooter=0, nrows=None, na_values=None, keep_default_na=True, na_filter=True, verbose=False, skip_blank_lines=True, parse_dates=False, infer_datetime_format=False, keep_date_col=False, date_parser=None, dayfirst=False, cache_dates=True, iterator=False, chunksize=None, compression='infer', thousands=None, decimal: str = '.', lineterminator=None, quotechar='\"', quoting=0, doublequote=True, escapechar=None, comment=None, encoding=None, dialect=None, error_bad_lines=True, warn_bad_lines=True, delim_whitespace=False, low_memory=True, memory_map=False, float_precision=None)\n",
      "    Read a comma-separated values (csv) file into DataFrame.\n",
      "    \n",
      "    Also supports optionally iterating or breaking of the file\n",
      "    into chunks.\n",
      "    \n",
      "    Additional help can be found in the online docs for\n",
      "    `IO Tools <https://pandas.pydata.org/pandas-docs/stable/user_guide/io.html>`_.\n",
      "    \n",
      "    Parameters\n",
      "    ----------\n",
      "    filepath_or_buffer : str, path object or file-like object\n",
      "        Any valid string path is acceptable. The string could be a URL. Valid\n",
      "        URL schemes include http, ftp, s3, gs, and file. For file URLs, a host is\n",
      "        expected. A local file could be: file://localhost/path/to/table.csv.\n",
      "    \n",
      "        If you want to pass in a path object, pandas accepts any ``os.PathLike``.\n",
      "    \n",
      "        By file-like object, we refer to objects with a ``read()`` method, such as\n",
      "        a file handler (e.g. via builtin ``open`` function) or ``StringIO``.\n",
      "    sep : str, default ','\n",
      "        Delimiter to use. If sep is None, the C engine cannot automatically detect\n",
      "        the separator, but the Python parsing engine can, meaning the latter will\n",
      "        be used and automatically detect the separator by Python's builtin sniffer\n",
      "        tool, ``csv.Sniffer``. In addition, separators longer than 1 character and\n",
      "        different from ``'\\s+'`` will be interpreted as regular expressions and\n",
      "        will also force the use of the Python parsing engine. Note that regex\n",
      "        delimiters are prone to ignoring quoted data. Regex example: ``'\\r\\t'``.\n",
      "    delimiter : str, default ``None``\n",
      "        Alias for sep.\n",
      "    header : int, list of int, default 'infer'\n",
      "        Row number(s) to use as the column names, and the start of the\n",
      "        data.  Default behavior is to infer the column names: if no names\n",
      "        are passed the behavior is identical to ``header=0`` and column\n",
      "        names are inferred from the first line of the file, if column\n",
      "        names are passed explicitly then the behavior is identical to\n",
      "        ``header=None``. Explicitly pass ``header=0`` to be able to\n",
      "        replace existing names. The header can be a list of integers that\n",
      "        specify row locations for a multi-index on the columns\n",
      "        e.g. [0,1,3]. Intervening rows that are not specified will be\n",
      "        skipped (e.g. 2 in this example is skipped). Note that this\n",
      "        parameter ignores commented lines and empty lines if\n",
      "        ``skip_blank_lines=True``, so ``header=0`` denotes the first line of\n",
      "        data rather than the first line of the file.\n",
      "    names : array-like, optional\n",
      "        List of column names to use. If the file contains a header row,\n",
      "        then you should explicitly pass ``header=0`` to override the column names.\n",
      "        Duplicates in this list are not allowed.\n",
      "    index_col : int, str, sequence of int / str, or False, default ``None``\n",
      "      Column(s) to use as the row labels of the ``DataFrame``, either given as\n",
      "      string name or column index. If a sequence of int / str is given, a\n",
      "      MultiIndex is used.\n",
      "    \n",
      "      Note: ``index_col=False`` can be used to force pandas to *not* use the first\n",
      "      column as the index, e.g. when you have a malformed file with delimiters at\n",
      "      the end of each line.\n",
      "    usecols : list-like or callable, optional\n",
      "        Return a subset of the columns. If list-like, all elements must either\n",
      "        be positional (i.e. integer indices into the document columns) or strings\n",
      "        that correspond to column names provided either by the user in `names` or\n",
      "        inferred from the document header row(s). For example, a valid list-like\n",
      "        `usecols` parameter would be ``[0, 1, 2]`` or ``['foo', 'bar', 'baz']``.\n",
      "        Element order is ignored, so ``usecols=[0, 1]`` is the same as ``[1, 0]``.\n",
      "        To instantiate a DataFrame from ``data`` with element order preserved use\n",
      "        ``pd.read_csv(data, usecols=['foo', 'bar'])[['foo', 'bar']]`` for columns\n",
      "        in ``['foo', 'bar']`` order or\n",
      "        ``pd.read_csv(data, usecols=['foo', 'bar'])[['bar', 'foo']]``\n",
      "        for ``['bar', 'foo']`` order.\n",
      "    \n",
      "        If callable, the callable function will be evaluated against the column\n",
      "        names, returning names where the callable function evaluates to True. An\n",
      "        example of a valid callable argument would be ``lambda x: x.upper() in\n",
      "        ['AAA', 'BBB', 'DDD']``. Using this parameter results in much faster\n",
      "        parsing time and lower memory usage.\n",
      "    squeeze : bool, default False\n",
      "        If the parsed data only contains one column then return a Series.\n",
      "    prefix : str, optional\n",
      "        Prefix to add to column numbers when no header, e.g. 'X' for X0, X1, ...\n",
      "    mangle_dupe_cols : bool, default True\n",
      "        Duplicate columns will be specified as 'X', 'X.1', ...'X.N', rather than\n",
      "        'X'...'X'. Passing in False will cause data to be overwritten if there\n",
      "        are duplicate names in the columns.\n",
      "    dtype : Type name or dict of column -> type, optional\n",
      "        Data type for data or columns. E.g. {'a': np.float64, 'b': np.int32,\n",
      "        'c': 'Int64'}\n",
      "        Use `str` or `object` together with suitable `na_values` settings\n",
      "        to preserve and not interpret dtype.\n",
      "        If converters are specified, they will be applied INSTEAD\n",
      "        of dtype conversion.\n",
      "    engine : {'c', 'python'}, optional\n",
      "        Parser engine to use. The C engine is faster while the python engine is\n",
      "        currently more feature-complete.\n",
      "    converters : dict, optional\n",
      "        Dict of functions for converting values in certain columns. Keys can either\n",
      "        be integers or column labels.\n",
      "    true_values : list, optional\n",
      "        Values to consider as True.\n",
      "    false_values : list, optional\n",
      "        Values to consider as False.\n",
      "    skipinitialspace : bool, default False\n",
      "        Skip spaces after delimiter.\n",
      "    skiprows : list-like, int or callable, optional\n",
      "        Line numbers to skip (0-indexed) or number of lines to skip (int)\n",
      "        at the start of the file.\n",
      "    \n",
      "        If callable, the callable function will be evaluated against the row\n",
      "        indices, returning True if the row should be skipped and False otherwise.\n",
      "        An example of a valid callable argument would be ``lambda x: x in [0, 2]``.\n",
      "    skipfooter : int, default 0\n",
      "        Number of lines at bottom of file to skip (Unsupported with engine='c').\n",
      "    nrows : int, optional\n",
      "        Number of rows of file to read. Useful for reading pieces of large files.\n",
      "    na_values : scalar, str, list-like, or dict, optional\n",
      "        Additional strings to recognize as NA/NaN. If dict passed, specific\n",
      "        per-column NA values.  By default the following values are interpreted as\n",
      "        NaN: '', '#N/A', '#N/A N/A', '#NA', '-1.#IND', '-1.#QNAN', '-NaN', '-nan',\n",
      "        '1.#IND', '1.#QNAN', '<NA>', 'N/A', 'NA', 'NULL', 'NaN', 'n/a',\n",
      "        'nan', 'null'.\n",
      "    keep_default_na : bool, default True\n",
      "        Whether or not to include the default NaN values when parsing the data.\n",
      "        Depending on whether `na_values` is passed in, the behavior is as follows:\n",
      "    \n",
      "        * If `keep_default_na` is True, and `na_values` are specified, `na_values`\n",
      "          is appended to the default NaN values used for parsing.\n",
      "        * If `keep_default_na` is True, and `na_values` are not specified, only\n",
      "          the default NaN values are used for parsing.\n",
      "        * If `keep_default_na` is False, and `na_values` are specified, only\n",
      "          the NaN values specified `na_values` are used for parsing.\n",
      "        * If `keep_default_na` is False, and `na_values` are not specified, no\n",
      "          strings will be parsed as NaN.\n",
      "    \n",
      "        Note that if `na_filter` is passed in as False, the `keep_default_na` and\n",
      "        `na_values` parameters will be ignored.\n",
      "    na_filter : bool, default True\n",
      "        Detect missing value markers (empty strings and the value of na_values). In\n",
      "        data without any NAs, passing na_filter=False can improve the performance\n",
      "        of reading a large file.\n",
      "    verbose : bool, default False\n",
      "        Indicate number of NA values placed in non-numeric columns.\n",
      "    skip_blank_lines : bool, default True\n",
      "        If True, skip over blank lines rather than interpreting as NaN values.\n",
      "    parse_dates : bool or list of int or names or list of lists or dict, default False\n",
      "        The behavior is as follows:\n",
      "    \n",
      "        * boolean. If True -> try parsing the index.\n",
      "        * list of int or names. e.g. If [1, 2, 3] -> try parsing columns 1, 2, 3\n",
      "          each as a separate date column.\n",
      "        * list of lists. e.g.  If [[1, 3]] -> combine columns 1 and 3 and parse as\n",
      "          a single date column.\n",
      "        * dict, e.g. {'foo' : [1, 3]} -> parse columns 1, 3 as date and call\n",
      "          result 'foo'\n",
      "    \n",
      "        If a column or index cannot be represented as an array of datetimes,\n",
      "        say because of an unparseable value or a mixture of timezones, the column\n",
      "        or index will be returned unaltered as an object data type. For\n",
      "        non-standard datetime parsing, use ``pd.to_datetime`` after\n",
      "        ``pd.read_csv``. To parse an index or column with a mixture of timezones,\n",
      "        specify ``date_parser`` to be a partially-applied\n",
      "        :func:`pandas.to_datetime` with ``utc=True``. See\n",
      "        :ref:`io.csv.mixed_timezones` for more.\n",
      "    \n",
      "        Note: A fast-path exists for iso8601-formatted dates.\n",
      "    infer_datetime_format : bool, default False\n",
      "        If True and `parse_dates` is enabled, pandas will attempt to infer the\n",
      "        format of the datetime strings in the columns, and if it can be inferred,\n",
      "        switch to a faster method of parsing them. In some cases this can increase\n",
      "        the parsing speed by 5-10x.\n",
      "    keep_date_col : bool, default False\n",
      "        If True and `parse_dates` specifies combining multiple columns then\n",
      "        keep the original columns.\n",
      "    date_parser : function, optional\n",
      "        Function to use for converting a sequence of string columns to an array of\n",
      "        datetime instances. The default uses ``dateutil.parser.parser`` to do the\n",
      "        conversion. Pandas will try to call `date_parser` in three different ways,\n",
      "        advancing to the next if an exception occurs: 1) Pass one or more arrays\n",
      "        (as defined by `parse_dates`) as arguments; 2) concatenate (row-wise) the\n",
      "        string values from the columns defined by `parse_dates` into a single array\n",
      "        and pass that; and 3) call `date_parser` once for each row using one or\n",
      "        more strings (corresponding to the columns defined by `parse_dates`) as\n",
      "        arguments.\n",
      "    dayfirst : bool, default False\n",
      "        DD/MM format dates, international and European format.\n",
      "    cache_dates : bool, default True\n",
      "        If True, use a cache of unique, converted dates to apply the datetime\n",
      "        conversion. May produce significant speed-up when parsing duplicate\n",
      "        date strings, especially ones with timezone offsets.\n",
      "    \n",
      "        .. versionadded:: 0.25.0\n",
      "    iterator : bool, default False\n",
      "        Return TextFileReader object for iteration or getting chunks with\n",
      "        ``get_chunk()``.\n",
      "    chunksize : int, optional\n",
      "        Return TextFileReader object for iteration.\n",
      "        See the `IO Tools docs\n",
      "        <https://pandas.pydata.org/pandas-docs/stable/io.html#io-chunking>`_\n",
      "        for more information on ``iterator`` and ``chunksize``.\n",
      "    compression : {'infer', 'gzip', 'bz2', 'zip', 'xz', None}, default 'infer'\n",
      "        For on-the-fly decompression of on-disk data. If 'infer' and\n",
      "        `filepath_or_buffer` is path-like, then detect compression from the\n",
      "        following extensions: '.gz', '.bz2', '.zip', or '.xz' (otherwise no\n",
      "        decompression). If using 'zip', the ZIP file must contain only one data\n",
      "        file to be read in. Set to None for no decompression.\n",
      "    thousands : str, optional\n",
      "        Thousands separator.\n",
      "    decimal : str, default '.'\n",
      "        Character to recognize as decimal point (e.g. use ',' for European data).\n",
      "    lineterminator : str (length 1), optional\n",
      "        Character to break file into lines. Only valid with C parser.\n",
      "    quotechar : str (length 1), optional\n",
      "        The character used to denote the start and end of a quoted item. Quoted\n",
      "        items can include the delimiter and it will be ignored.\n",
      "    quoting : int or csv.QUOTE_* instance, default 0\n",
      "        Control field quoting behavior per ``csv.QUOTE_*`` constants. Use one of\n",
      "        QUOTE_MINIMAL (0), QUOTE_ALL (1), QUOTE_NONNUMERIC (2) or QUOTE_NONE (3).\n",
      "    doublequote : bool, default ``True``\n",
      "       When quotechar is specified and quoting is not ``QUOTE_NONE``, indicate\n",
      "       whether or not to interpret two consecutive quotechar elements INSIDE a\n",
      "       field as a single ``quotechar`` element.\n",
      "    escapechar : str (length 1), optional\n",
      "        One-character string used to escape other characters.\n",
      "    comment : str, optional\n",
      "        Indicates remainder of line should not be parsed. If found at the beginning\n",
      "        of a line, the line will be ignored altogether. This parameter must be a\n",
      "        single character. Like empty lines (as long as ``skip_blank_lines=True``),\n",
      "        fully commented lines are ignored by the parameter `header` but not by\n",
      "        `skiprows`. For example, if ``comment='#'``, parsing\n",
      "        ``#empty\\na,b,c\\n1,2,3`` with ``header=0`` will result in 'a,b,c' being\n",
      "        treated as the header.\n",
      "    encoding : str, optional\n",
      "        Encoding to use for UTF when reading/writing (ex. 'utf-8'). `List of Python\n",
      "        standard encodings\n",
      "        <https://docs.python.org/3/library/codecs.html#standard-encodings>`_ .\n",
      "    dialect : str or csv.Dialect, optional\n",
      "        If provided, this parameter will override values (default or not) for the\n",
      "        following parameters: `delimiter`, `doublequote`, `escapechar`,\n",
      "        `skipinitialspace`, `quotechar`, and `quoting`. If it is necessary to\n",
      "        override values, a ParserWarning will be issued. See csv.Dialect\n",
      "        documentation for more details.\n",
      "    error_bad_lines : bool, default True\n",
      "        Lines with too many fields (e.g. a csv line with too many commas) will by\n",
      "        default cause an exception to be raised, and no DataFrame will be returned.\n",
      "        If False, then these \"bad lines\" will dropped from the DataFrame that is\n",
      "        returned.\n",
      "    warn_bad_lines : bool, default True\n",
      "        If error_bad_lines is False, and warn_bad_lines is True, a warning for each\n",
      "        \"bad line\" will be output.\n",
      "    delim_whitespace : bool, default False\n",
      "        Specifies whether or not whitespace (e.g. ``' '`` or ``'    '``) will be\n",
      "        used as the sep. Equivalent to setting ``sep='\\s+'``. If this option\n",
      "        is set to True, nothing should be passed in for the ``delimiter``\n",
      "        parameter.\n",
      "    low_memory : bool, default True\n",
      "        Internally process the file in chunks, resulting in lower memory use\n",
      "        while parsing, but possibly mixed type inference.  To ensure no mixed\n",
      "        types either set False, or specify the type with the `dtype` parameter.\n",
      "        Note that the entire file is read into a single DataFrame regardless,\n",
      "        use the `chunksize` or `iterator` parameter to return the data in chunks.\n",
      "        (Only valid with C parser).\n",
      "    memory_map : bool, default False\n",
      "        If a filepath is provided for `filepath_or_buffer`, map the file object\n",
      "        directly onto memory and access the data directly from there. Using this\n",
      "        option can improve performance because there is no longer any I/O overhead.\n",
      "    float_precision : str, optional\n",
      "        Specifies which converter the C engine should use for floating-point\n",
      "        values. The options are `None` for the ordinary converter,\n",
      "        `high` for the high-precision converter, and `round_trip` for the\n",
      "        round-trip converter.\n",
      "    \n",
      "    Returns\n",
      "    -------\n",
      "    DataFrame or TextParser\n",
      "        A comma-separated values (csv) file is returned as two-dimensional\n",
      "        data structure with labeled axes.\n",
      "    \n",
      "    See Also\n",
      "    --------\n",
      "    DataFrame.to_csv : Write DataFrame to a comma-separated values (csv) file.\n",
      "    read_csv : Read a comma-separated values (csv) file into DataFrame.\n",
      "    read_fwf : Read a table of fixed-width formatted lines into DataFrame.\n",
      "    \n",
      "    Examples\n",
      "    --------\n",
      "    >>> pd.read_csv('data.csv')  # doctest: +SKIP\n",
      "\n"
     ]
    }
   ],
   "source": [
    "help(pd.read_csv)\n",
    "\n"
   ]
  },
  {
   "cell_type": "code",
   "execution_count": 42,
   "id": "657460fd-1455-4d62-84d0-0585c45d5857",
   "metadata": {},
   "outputs": [],
   "source": [
    "pokemon_df = pd.read_csv(f) # data is read"
   ]
  },
  {
   "cell_type": "markdown",
   "id": "2ae48562-dd9c-411f-b6d5-34fdecdb18cb",
   "metadata": {},
   "source": [
    "### Let's take look at the data"
   ]
  },
  {
   "cell_type": "code",
   "execution_count": 43,
   "id": "75a11f5e-2bf4-4bc0-989a-d1345bf0366d",
   "metadata": {},
   "outputs": [
    {
     "data": {
      "text/html": [
       "<div>\n",
       "<style scoped>\n",
       "    .dataframe tbody tr th:only-of-type {\n",
       "        vertical-align: middle;\n",
       "    }\n",
       "\n",
       "    .dataframe tbody tr th {\n",
       "        vertical-align: top;\n",
       "    }\n",
       "\n",
       "    .dataframe thead th {\n",
       "        text-align: right;\n",
       "    }\n",
       "</style>\n",
       "<table border=\"1\" class=\"dataframe\">\n",
       "  <thead>\n",
       "    <tr style=\"text-align: right;\">\n",
       "      <th></th>\n",
       "      <th>Number</th>\n",
       "      <th>Name</th>\n",
       "      <th>Type_1</th>\n",
       "      <th>Type_2</th>\n",
       "      <th>Total</th>\n",
       "      <th>HP</th>\n",
       "      <th>Attack</th>\n",
       "      <th>Defense</th>\n",
       "      <th>Sp_Atk</th>\n",
       "      <th>Sp_Def</th>\n",
       "      <th>...</th>\n",
       "      <th>Color</th>\n",
       "      <th>hasGender</th>\n",
       "      <th>Pr_Male</th>\n",
       "      <th>Egg_Group_1</th>\n",
       "      <th>Egg_Group_2</th>\n",
       "      <th>hasMegaEvolution</th>\n",
       "      <th>Height_m</th>\n",
       "      <th>Weight_kg</th>\n",
       "      <th>Catch_Rate</th>\n",
       "      <th>Body_Style</th>\n",
       "    </tr>\n",
       "  </thead>\n",
       "  <tbody>\n",
       "    <tr>\n",
       "      <th>0</th>\n",
       "      <td>1</td>\n",
       "      <td>Bulbasaur</td>\n",
       "      <td>Grass</td>\n",
       "      <td>Poison</td>\n",
       "      <td>318</td>\n",
       "      <td>45</td>\n",
       "      <td>49</td>\n",
       "      <td>49</td>\n",
       "      <td>65</td>\n",
       "      <td>65</td>\n",
       "      <td>...</td>\n",
       "      <td>Green</td>\n",
       "      <td>True</td>\n",
       "      <td>0.875</td>\n",
       "      <td>Monster</td>\n",
       "      <td>Grass</td>\n",
       "      <td>False</td>\n",
       "      <td>0.71</td>\n",
       "      <td>6.9</td>\n",
       "      <td>45</td>\n",
       "      <td>quadruped</td>\n",
       "    </tr>\n",
       "    <tr>\n",
       "      <th>1</th>\n",
       "      <td>2</td>\n",
       "      <td>Ivysaur</td>\n",
       "      <td>Grass</td>\n",
       "      <td>Poison</td>\n",
       "      <td>405</td>\n",
       "      <td>60</td>\n",
       "      <td>62</td>\n",
       "      <td>63</td>\n",
       "      <td>80</td>\n",
       "      <td>80</td>\n",
       "      <td>...</td>\n",
       "      <td>Green</td>\n",
       "      <td>True</td>\n",
       "      <td>0.875</td>\n",
       "      <td>Monster</td>\n",
       "      <td>Grass</td>\n",
       "      <td>False</td>\n",
       "      <td>0.99</td>\n",
       "      <td>13.0</td>\n",
       "      <td>45</td>\n",
       "      <td>quadruped</td>\n",
       "    </tr>\n",
       "    <tr>\n",
       "      <th>2</th>\n",
       "      <td>3</td>\n",
       "      <td>Venusaur</td>\n",
       "      <td>Grass</td>\n",
       "      <td>Poison</td>\n",
       "      <td>525</td>\n",
       "      <td>80</td>\n",
       "      <td>82</td>\n",
       "      <td>83</td>\n",
       "      <td>100</td>\n",
       "      <td>100</td>\n",
       "      <td>...</td>\n",
       "      <td>Green</td>\n",
       "      <td>True</td>\n",
       "      <td>0.875</td>\n",
       "      <td>Monster</td>\n",
       "      <td>Grass</td>\n",
       "      <td>True</td>\n",
       "      <td>2.01</td>\n",
       "      <td>100.0</td>\n",
       "      <td>45</td>\n",
       "      <td>quadruped</td>\n",
       "    </tr>\n",
       "    <tr>\n",
       "      <th>3</th>\n",
       "      <td>4</td>\n",
       "      <td>Charmander</td>\n",
       "      <td>Fire</td>\n",
       "      <td>NaN</td>\n",
       "      <td>309</td>\n",
       "      <td>39</td>\n",
       "      <td>52</td>\n",
       "      <td>43</td>\n",
       "      <td>60</td>\n",
       "      <td>50</td>\n",
       "      <td>...</td>\n",
       "      <td>Red</td>\n",
       "      <td>True</td>\n",
       "      <td>0.875</td>\n",
       "      <td>Monster</td>\n",
       "      <td>Dragon</td>\n",
       "      <td>False</td>\n",
       "      <td>0.61</td>\n",
       "      <td>8.5</td>\n",
       "      <td>45</td>\n",
       "      <td>bipedal_tailed</td>\n",
       "    </tr>\n",
       "    <tr>\n",
       "      <th>4</th>\n",
       "      <td>5</td>\n",
       "      <td>Charmeleon</td>\n",
       "      <td>Fire</td>\n",
       "      <td>NaN</td>\n",
       "      <td>405</td>\n",
       "      <td>58</td>\n",
       "      <td>64</td>\n",
       "      <td>58</td>\n",
       "      <td>80</td>\n",
       "      <td>65</td>\n",
       "      <td>...</td>\n",
       "      <td>Red</td>\n",
       "      <td>True</td>\n",
       "      <td>0.875</td>\n",
       "      <td>Monster</td>\n",
       "      <td>Dragon</td>\n",
       "      <td>False</td>\n",
       "      <td>1.09</td>\n",
       "      <td>19.0</td>\n",
       "      <td>45</td>\n",
       "      <td>bipedal_tailed</td>\n",
       "    </tr>\n",
       "  </tbody>\n",
       "</table>\n",
       "<p>5 rows × 23 columns</p>\n",
       "</div>"
      ],
      "text/plain": [
       "   Number        Name Type_1  Type_2  Total  HP  Attack  Defense  Sp_Atk  \\\n",
       "0       1   Bulbasaur  Grass  Poison    318  45      49       49      65   \n",
       "1       2     Ivysaur  Grass  Poison    405  60      62       63      80   \n",
       "2       3    Venusaur  Grass  Poison    525  80      82       83     100   \n",
       "3       4  Charmander   Fire     NaN    309  39      52       43      60   \n",
       "4       5  Charmeleon   Fire     NaN    405  58      64       58      80   \n",
       "\n",
       "   Sp_Def  ...  Color  hasGender  Pr_Male Egg_Group_1  Egg_Group_2  \\\n",
       "0      65  ...  Green       True    0.875     Monster        Grass   \n",
       "1      80  ...  Green       True    0.875     Monster        Grass   \n",
       "2     100  ...  Green       True    0.875     Monster        Grass   \n",
       "3      50  ...    Red       True    0.875     Monster       Dragon   \n",
       "4      65  ...    Red       True    0.875     Monster       Dragon   \n",
       "\n",
       "   hasMegaEvolution Height_m Weight_kg  Catch_Rate      Body_Style  \n",
       "0             False     0.71       6.9          45       quadruped  \n",
       "1             False     0.99      13.0          45       quadruped  \n",
       "2              True     2.01     100.0          45       quadruped  \n",
       "3             False     0.61       8.5          45  bipedal_tailed  \n",
       "4             False     1.09      19.0          45  bipedal_tailed  \n",
       "\n",
       "[5 rows x 23 columns]"
      ]
     },
     "execution_count": 43,
     "metadata": {},
     "output_type": "execute_result"
    }
   ],
   "source": [
    "pokemon_df.head() # first 5"
   ]
  },
  {
   "cell_type": "code",
   "execution_count": 44,
   "id": "20ad5445-2ffd-4639-b79d-2a15cbb84b92",
   "metadata": {},
   "outputs": [
    {
     "data": {
      "text/html": [
       "<div>\n",
       "<style scoped>\n",
       "    .dataframe tbody tr th:only-of-type {\n",
       "        vertical-align: middle;\n",
       "    }\n",
       "\n",
       "    .dataframe tbody tr th {\n",
       "        vertical-align: top;\n",
       "    }\n",
       "\n",
       "    .dataframe thead th {\n",
       "        text-align: right;\n",
       "    }\n",
       "</style>\n",
       "<table border=\"1\" class=\"dataframe\">\n",
       "  <thead>\n",
       "    <tr style=\"text-align: right;\">\n",
       "      <th></th>\n",
       "      <th>Number</th>\n",
       "      <th>Name</th>\n",
       "      <th>Type_1</th>\n",
       "      <th>Type_2</th>\n",
       "      <th>Total</th>\n",
       "      <th>HP</th>\n",
       "      <th>Attack</th>\n",
       "      <th>Defense</th>\n",
       "      <th>Sp_Atk</th>\n",
       "      <th>Sp_Def</th>\n",
       "      <th>...</th>\n",
       "      <th>Color</th>\n",
       "      <th>hasGender</th>\n",
       "      <th>Pr_Male</th>\n",
       "      <th>Egg_Group_1</th>\n",
       "      <th>Egg_Group_2</th>\n",
       "      <th>hasMegaEvolution</th>\n",
       "      <th>Height_m</th>\n",
       "      <th>Weight_kg</th>\n",
       "      <th>Catch_Rate</th>\n",
       "      <th>Body_Style</th>\n",
       "    </tr>\n",
       "  </thead>\n",
       "  <tbody>\n",
       "    <tr>\n",
       "      <th>706</th>\n",
       "      <td>707</td>\n",
       "      <td>Klefki</td>\n",
       "      <td>Steel</td>\n",
       "      <td>Fairy</td>\n",
       "      <td>470</td>\n",
       "      <td>57</td>\n",
       "      <td>80</td>\n",
       "      <td>91</td>\n",
       "      <td>80</td>\n",
       "      <td>87</td>\n",
       "      <td>...</td>\n",
       "      <td>Grey</td>\n",
       "      <td>True</td>\n",
       "      <td>0.5</td>\n",
       "      <td>Mineral</td>\n",
       "      <td>NaN</td>\n",
       "      <td>False</td>\n",
       "      <td>0.20</td>\n",
       "      <td>3.0</td>\n",
       "      <td>75</td>\n",
       "      <td>head_only</td>\n",
       "    </tr>\n",
       "    <tr>\n",
       "      <th>707</th>\n",
       "      <td>708</td>\n",
       "      <td>Phantump</td>\n",
       "      <td>Ghost</td>\n",
       "      <td>Grass</td>\n",
       "      <td>309</td>\n",
       "      <td>43</td>\n",
       "      <td>70</td>\n",
       "      <td>48</td>\n",
       "      <td>50</td>\n",
       "      <td>60</td>\n",
       "      <td>...</td>\n",
       "      <td>Brown</td>\n",
       "      <td>True</td>\n",
       "      <td>0.5</td>\n",
       "      <td>Grass</td>\n",
       "      <td>Amorphous</td>\n",
       "      <td>False</td>\n",
       "      <td>0.41</td>\n",
       "      <td>7.0</td>\n",
       "      <td>120</td>\n",
       "      <td>head_arms</td>\n",
       "    </tr>\n",
       "    <tr>\n",
       "      <th>708</th>\n",
       "      <td>709</td>\n",
       "      <td>Trevenant</td>\n",
       "      <td>Ghost</td>\n",
       "      <td>Grass</td>\n",
       "      <td>474</td>\n",
       "      <td>85</td>\n",
       "      <td>110</td>\n",
       "      <td>76</td>\n",
       "      <td>65</td>\n",
       "      <td>82</td>\n",
       "      <td>...</td>\n",
       "      <td>Brown</td>\n",
       "      <td>True</td>\n",
       "      <td>0.5</td>\n",
       "      <td>Grass</td>\n",
       "      <td>Amorphous</td>\n",
       "      <td>False</td>\n",
       "      <td>1.50</td>\n",
       "      <td>71.0</td>\n",
       "      <td>60</td>\n",
       "      <td>several_limbs</td>\n",
       "    </tr>\n",
       "    <tr>\n",
       "      <th>709</th>\n",
       "      <td>710</td>\n",
       "      <td>Pumpkaboo</td>\n",
       "      <td>Ghost</td>\n",
       "      <td>Grass</td>\n",
       "      <td>335</td>\n",
       "      <td>49</td>\n",
       "      <td>66</td>\n",
       "      <td>70</td>\n",
       "      <td>44</td>\n",
       "      <td>55</td>\n",
       "      <td>...</td>\n",
       "      <td>Brown</td>\n",
       "      <td>True</td>\n",
       "      <td>0.5</td>\n",
       "      <td>Amorphous</td>\n",
       "      <td>NaN</td>\n",
       "      <td>False</td>\n",
       "      <td>0.41</td>\n",
       "      <td>5.0</td>\n",
       "      <td>120</td>\n",
       "      <td>head_only</td>\n",
       "    </tr>\n",
       "    <tr>\n",
       "      <th>710</th>\n",
       "      <td>711</td>\n",
       "      <td>Gourgeist</td>\n",
       "      <td>Ghost</td>\n",
       "      <td>Grass</td>\n",
       "      <td>494</td>\n",
       "      <td>65</td>\n",
       "      <td>90</td>\n",
       "      <td>122</td>\n",
       "      <td>58</td>\n",
       "      <td>75</td>\n",
       "      <td>...</td>\n",
       "      <td>Brown</td>\n",
       "      <td>True</td>\n",
       "      <td>0.5</td>\n",
       "      <td>Amorphous</td>\n",
       "      <td>NaN</td>\n",
       "      <td>False</td>\n",
       "      <td>1.70</td>\n",
       "      <td>39.0</td>\n",
       "      <td>60</td>\n",
       "      <td>head_base</td>\n",
       "    </tr>\n",
       "    <tr>\n",
       "      <th>711</th>\n",
       "      <td>712</td>\n",
       "      <td>Bergmite</td>\n",
       "      <td>Ice</td>\n",
       "      <td>NaN</td>\n",
       "      <td>304</td>\n",
       "      <td>55</td>\n",
       "      <td>69</td>\n",
       "      <td>85</td>\n",
       "      <td>32</td>\n",
       "      <td>35</td>\n",
       "      <td>...</td>\n",
       "      <td>Blue</td>\n",
       "      <td>True</td>\n",
       "      <td>0.5</td>\n",
       "      <td>Monster</td>\n",
       "      <td>NaN</td>\n",
       "      <td>False</td>\n",
       "      <td>0.99</td>\n",
       "      <td>99.5</td>\n",
       "      <td>190</td>\n",
       "      <td>quadruped</td>\n",
       "    </tr>\n",
       "    <tr>\n",
       "      <th>712</th>\n",
       "      <td>713</td>\n",
       "      <td>Avalugg</td>\n",
       "      <td>Ice</td>\n",
       "      <td>NaN</td>\n",
       "      <td>514</td>\n",
       "      <td>95</td>\n",
       "      <td>117</td>\n",
       "      <td>184</td>\n",
       "      <td>44</td>\n",
       "      <td>46</td>\n",
       "      <td>...</td>\n",
       "      <td>Blue</td>\n",
       "      <td>True</td>\n",
       "      <td>0.5</td>\n",
       "      <td>Monster</td>\n",
       "      <td>NaN</td>\n",
       "      <td>False</td>\n",
       "      <td>2.01</td>\n",
       "      <td>505.0</td>\n",
       "      <td>55</td>\n",
       "      <td>quadruped</td>\n",
       "    </tr>\n",
       "    <tr>\n",
       "      <th>713</th>\n",
       "      <td>714</td>\n",
       "      <td>Noibat</td>\n",
       "      <td>Flying</td>\n",
       "      <td>Dragon</td>\n",
       "      <td>245</td>\n",
       "      <td>40</td>\n",
       "      <td>30</td>\n",
       "      <td>35</td>\n",
       "      <td>45</td>\n",
       "      <td>40</td>\n",
       "      <td>...</td>\n",
       "      <td>Purple</td>\n",
       "      <td>True</td>\n",
       "      <td>0.5</td>\n",
       "      <td>Flying</td>\n",
       "      <td>NaN</td>\n",
       "      <td>False</td>\n",
       "      <td>0.51</td>\n",
       "      <td>8.0</td>\n",
       "      <td>190</td>\n",
       "      <td>two_wings</td>\n",
       "    </tr>\n",
       "    <tr>\n",
       "      <th>714</th>\n",
       "      <td>715</td>\n",
       "      <td>Noivern</td>\n",
       "      <td>Flying</td>\n",
       "      <td>Dragon</td>\n",
       "      <td>535</td>\n",
       "      <td>85</td>\n",
       "      <td>70</td>\n",
       "      <td>80</td>\n",
       "      <td>97</td>\n",
       "      <td>80</td>\n",
       "      <td>...</td>\n",
       "      <td>Purple</td>\n",
       "      <td>True</td>\n",
       "      <td>0.5</td>\n",
       "      <td>Flying</td>\n",
       "      <td>NaN</td>\n",
       "      <td>False</td>\n",
       "      <td>1.50</td>\n",
       "      <td>85.0</td>\n",
       "      <td>45</td>\n",
       "      <td>two_wings</td>\n",
       "    </tr>\n",
       "    <tr>\n",
       "      <th>715</th>\n",
       "      <td>716</td>\n",
       "      <td>Xerneas</td>\n",
       "      <td>Fairy</td>\n",
       "      <td>NaN</td>\n",
       "      <td>680</td>\n",
       "      <td>126</td>\n",
       "      <td>131</td>\n",
       "      <td>95</td>\n",
       "      <td>131</td>\n",
       "      <td>98</td>\n",
       "      <td>...</td>\n",
       "      <td>Blue</td>\n",
       "      <td>False</td>\n",
       "      <td>NaN</td>\n",
       "      <td>Undiscovered</td>\n",
       "      <td>NaN</td>\n",
       "      <td>False</td>\n",
       "      <td>3.00</td>\n",
       "      <td>215.0</td>\n",
       "      <td>45</td>\n",
       "      <td>quadruped</td>\n",
       "    </tr>\n",
       "    <tr>\n",
       "      <th>716</th>\n",
       "      <td>717</td>\n",
       "      <td>Yveltal</td>\n",
       "      <td>Dark</td>\n",
       "      <td>Flying</td>\n",
       "      <td>680</td>\n",
       "      <td>126</td>\n",
       "      <td>131</td>\n",
       "      <td>95</td>\n",
       "      <td>131</td>\n",
       "      <td>98</td>\n",
       "      <td>...</td>\n",
       "      <td>Red</td>\n",
       "      <td>False</td>\n",
       "      <td>NaN</td>\n",
       "      <td>Undiscovered</td>\n",
       "      <td>NaN</td>\n",
       "      <td>False</td>\n",
       "      <td>5.79</td>\n",
       "      <td>203.0</td>\n",
       "      <td>45</td>\n",
       "      <td>two_wings</td>\n",
       "    </tr>\n",
       "    <tr>\n",
       "      <th>717</th>\n",
       "      <td>718</td>\n",
       "      <td>Zygarde</td>\n",
       "      <td>Dragon</td>\n",
       "      <td>Ground</td>\n",
       "      <td>600</td>\n",
       "      <td>108</td>\n",
       "      <td>100</td>\n",
       "      <td>121</td>\n",
       "      <td>81</td>\n",
       "      <td>95</td>\n",
       "      <td>...</td>\n",
       "      <td>Green</td>\n",
       "      <td>False</td>\n",
       "      <td>NaN</td>\n",
       "      <td>Undiscovered</td>\n",
       "      <td>NaN</td>\n",
       "      <td>False</td>\n",
       "      <td>5.00</td>\n",
       "      <td>305.0</td>\n",
       "      <td>3</td>\n",
       "      <td>serpentine_body</td>\n",
       "    </tr>\n",
       "    <tr>\n",
       "      <th>718</th>\n",
       "      <td>719</td>\n",
       "      <td>Diancie</td>\n",
       "      <td>Rock</td>\n",
       "      <td>Fairy</td>\n",
       "      <td>600</td>\n",
       "      <td>50</td>\n",
       "      <td>100</td>\n",
       "      <td>150</td>\n",
       "      <td>100</td>\n",
       "      <td>150</td>\n",
       "      <td>...</td>\n",
       "      <td>Pink</td>\n",
       "      <td>False</td>\n",
       "      <td>NaN</td>\n",
       "      <td>Undiscovered</td>\n",
       "      <td>NaN</td>\n",
       "      <td>True</td>\n",
       "      <td>0.71</td>\n",
       "      <td>8.8</td>\n",
       "      <td>3</td>\n",
       "      <td>head_arms</td>\n",
       "    </tr>\n",
       "    <tr>\n",
       "      <th>719</th>\n",
       "      <td>720</td>\n",
       "      <td>Hoopa</td>\n",
       "      <td>Psychic</td>\n",
       "      <td>Ghost</td>\n",
       "      <td>600</td>\n",
       "      <td>80</td>\n",
       "      <td>110</td>\n",
       "      <td>60</td>\n",
       "      <td>150</td>\n",
       "      <td>130</td>\n",
       "      <td>...</td>\n",
       "      <td>Purple</td>\n",
       "      <td>False</td>\n",
       "      <td>NaN</td>\n",
       "      <td>Undiscovered</td>\n",
       "      <td>NaN</td>\n",
       "      <td>False</td>\n",
       "      <td>0.51</td>\n",
       "      <td>9.0</td>\n",
       "      <td>3</td>\n",
       "      <td>head_only</td>\n",
       "    </tr>\n",
       "    <tr>\n",
       "      <th>720</th>\n",
       "      <td>721</td>\n",
       "      <td>Volcanion</td>\n",
       "      <td>Fire</td>\n",
       "      <td>Water</td>\n",
       "      <td>600</td>\n",
       "      <td>80</td>\n",
       "      <td>110</td>\n",
       "      <td>120</td>\n",
       "      <td>130</td>\n",
       "      <td>90</td>\n",
       "      <td>...</td>\n",
       "      <td>Brown</td>\n",
       "      <td>False</td>\n",
       "      <td>NaN</td>\n",
       "      <td>Undiscovered</td>\n",
       "      <td>NaN</td>\n",
       "      <td>False</td>\n",
       "      <td>1.70</td>\n",
       "      <td>195.0</td>\n",
       "      <td>3</td>\n",
       "      <td>quadruped</td>\n",
       "    </tr>\n",
       "  </tbody>\n",
       "</table>\n",
       "<p>15 rows × 23 columns</p>\n",
       "</div>"
      ],
      "text/plain": [
       "     Number       Name   Type_1  Type_2  Total   HP  Attack  Defense  Sp_Atk  \\\n",
       "706     707     Klefki    Steel   Fairy    470   57      80       91      80   \n",
       "707     708   Phantump    Ghost   Grass    309   43      70       48      50   \n",
       "708     709  Trevenant    Ghost   Grass    474   85     110       76      65   \n",
       "709     710  Pumpkaboo    Ghost   Grass    335   49      66       70      44   \n",
       "710     711  Gourgeist    Ghost   Grass    494   65      90      122      58   \n",
       "711     712   Bergmite      Ice     NaN    304   55      69       85      32   \n",
       "712     713    Avalugg      Ice     NaN    514   95     117      184      44   \n",
       "713     714     Noibat   Flying  Dragon    245   40      30       35      45   \n",
       "714     715    Noivern   Flying  Dragon    535   85      70       80      97   \n",
       "715     716    Xerneas    Fairy     NaN    680  126     131       95     131   \n",
       "716     717    Yveltal     Dark  Flying    680  126     131       95     131   \n",
       "717     718    Zygarde   Dragon  Ground    600  108     100      121      81   \n",
       "718     719    Diancie     Rock   Fairy    600   50     100      150     100   \n",
       "719     720      Hoopa  Psychic   Ghost    600   80     110       60     150   \n",
       "720     721  Volcanion     Fire   Water    600   80     110      120     130   \n",
       "\n",
       "     Sp_Def  ...   Color  hasGender  Pr_Male   Egg_Group_1  Egg_Group_2  \\\n",
       "706      87  ...    Grey       True      0.5       Mineral          NaN   \n",
       "707      60  ...   Brown       True      0.5         Grass    Amorphous   \n",
       "708      82  ...   Brown       True      0.5         Grass    Amorphous   \n",
       "709      55  ...   Brown       True      0.5     Amorphous          NaN   \n",
       "710      75  ...   Brown       True      0.5     Amorphous          NaN   \n",
       "711      35  ...    Blue       True      0.5       Monster          NaN   \n",
       "712      46  ...    Blue       True      0.5       Monster          NaN   \n",
       "713      40  ...  Purple       True      0.5        Flying          NaN   \n",
       "714      80  ...  Purple       True      0.5        Flying          NaN   \n",
       "715      98  ...    Blue      False      NaN  Undiscovered          NaN   \n",
       "716      98  ...     Red      False      NaN  Undiscovered          NaN   \n",
       "717      95  ...   Green      False      NaN  Undiscovered          NaN   \n",
       "718     150  ...    Pink      False      NaN  Undiscovered          NaN   \n",
       "719     130  ...  Purple      False      NaN  Undiscovered          NaN   \n",
       "720      90  ...   Brown      False      NaN  Undiscovered          NaN   \n",
       "\n",
       "     hasMegaEvolution Height_m Weight_kg  Catch_Rate       Body_Style  \n",
       "706             False     0.20       3.0          75        head_only  \n",
       "707             False     0.41       7.0         120        head_arms  \n",
       "708             False     1.50      71.0          60    several_limbs  \n",
       "709             False     0.41       5.0         120        head_only  \n",
       "710             False     1.70      39.0          60        head_base  \n",
       "711             False     0.99      99.5         190        quadruped  \n",
       "712             False     2.01     505.0          55        quadruped  \n",
       "713             False     0.51       8.0         190        two_wings  \n",
       "714             False     1.50      85.0          45        two_wings  \n",
       "715             False     3.00     215.0          45        quadruped  \n",
       "716             False     5.79     203.0          45        two_wings  \n",
       "717             False     5.00     305.0           3  serpentine_body  \n",
       "718              True     0.71       8.8           3        head_arms  \n",
       "719             False     0.51       9.0           3        head_only  \n",
       "720             False     1.70     195.0           3        quadruped  \n",
       "\n",
       "[15 rows x 23 columns]"
      ]
     },
     "execution_count": 44,
     "metadata": {},
     "output_type": "execute_result"
    }
   ],
   "source": [
    "pokemon_df.tail(15) # last 15"
   ]
  },
  {
   "cell_type": "code",
   "execution_count": 45,
   "id": "93053afa-4912-420a-ab1b-2a104e13373b",
   "metadata": {},
   "outputs": [
    {
     "data": {
      "text/plain": [
       "True"
      ]
     },
     "execution_count": 45,
     "metadata": {},
     "output_type": "execute_result"
    }
   ],
   "source": [
    "# Do we have missing data in one of our columns\n",
    "pokemon_df.isnull().values.any() # if so, normally these need to imputed OR\n",
    "                                 # removed. If removed, you need to report how many and why.\n",
    "\n"
   ]
  },
  {
   "cell_type": "code",
   "execution_count": 46,
   "id": "927e2c01-c3eb-4ad3-b4d2-c66b4efdc319",
   "metadata": {},
   "outputs": [
    {
     "data": {
      "text/plain": [
       "['Number',\n",
       " 'Name',\n",
       " 'Type_1',\n",
       " 'Type_2',\n",
       " 'Total',\n",
       " 'HP',\n",
       " 'Attack',\n",
       " 'Defense',\n",
       " 'Sp_Atk',\n",
       " 'Sp_Def',\n",
       " 'Speed',\n",
       " 'Generation',\n",
       " 'isLegendary',\n",
       " 'Color',\n",
       " 'hasGender',\n",
       " 'Pr_Male',\n",
       " 'Egg_Group_1',\n",
       " 'Egg_Group_2',\n",
       " 'hasMegaEvolution',\n",
       " 'Height_m',\n",
       " 'Weight_kg',\n",
       " 'Catch_Rate',\n",
       " 'Body_Style']"
      ]
     },
     "execution_count": 46,
     "metadata": {},
     "output_type": "execute_result"
    }
   ],
   "source": [
    "# you can grab the column values\n",
    "pokemon_df.columns.tolist()"
   ]
  },
  {
   "cell_type": "code",
   "execution_count": 47,
   "id": "7a2d38ec-6812-4634-9c91-6584baf3c2cb",
   "metadata": {},
   "outputs": [
    {
     "name": "stdout",
     "output_type": "stream",
     "text": [
      "Total Missing = 901 \n",
      "Missing Cols :  ['Type_2', 'Egg_Group_2']\n"
     ]
    }
   ],
   "source": [
    "# How many and where?\n",
    "total = 0\n",
    "columns_with_nans = []\n",
    "\n",
    "for column in pokemon_df.columns.tolist():\n",
    "    \n",
    "    nan_count = len([val for val in pokemon_df[column].tolist() if val is np.nan])\n",
    "    \n",
    "    if bool(nan_count):\n",
    "        total += nan_count\n",
    "\n",
    "        columns_with_nans.append(column)\n",
    "    \n",
    "print('Total Missing =',total,'\\nMissing Cols : ',columns_with_nans)"
   ]
  },
  {
   "cell_type": "markdown",
   "id": "53855f91-e91a-45f9-a6e7-a2a021b5c967",
   "metadata": {},
   "source": [
    "### Quick summary of data"
   ]
  },
  {
   "cell_type": "code",
   "execution_count": 48,
   "id": "0f67c408-29de-45af-ae9e-a1c4dadf2b32",
   "metadata": {},
   "outputs": [
    {
     "data": {
      "text/html": [
       "<div>\n",
       "<style scoped>\n",
       "    .dataframe tbody tr th:only-of-type {\n",
       "        vertical-align: middle;\n",
       "    }\n",
       "\n",
       "    .dataframe tbody tr th {\n",
       "        vertical-align: top;\n",
       "    }\n",
       "\n",
       "    .dataframe thead th {\n",
       "        text-align: right;\n",
       "    }\n",
       "</style>\n",
       "<table border=\"1\" class=\"dataframe\">\n",
       "  <thead>\n",
       "    <tr style=\"text-align: right;\">\n",
       "      <th></th>\n",
       "      <th>Number</th>\n",
       "      <th>Total</th>\n",
       "      <th>HP</th>\n",
       "      <th>Attack</th>\n",
       "      <th>Defense</th>\n",
       "      <th>Sp_Atk</th>\n",
       "      <th>Sp_Def</th>\n",
       "      <th>Speed</th>\n",
       "      <th>Generation</th>\n",
       "      <th>Pr_Male</th>\n",
       "      <th>Height_m</th>\n",
       "      <th>Weight_kg</th>\n",
       "      <th>Catch_Rate</th>\n",
       "    </tr>\n",
       "  </thead>\n",
       "  <tbody>\n",
       "    <tr>\n",
       "      <th>count</th>\n",
       "      <td>721.00000</td>\n",
       "      <td>721.000000</td>\n",
       "      <td>721.000000</td>\n",
       "      <td>721.000000</td>\n",
       "      <td>721.000000</td>\n",
       "      <td>721.000000</td>\n",
       "      <td>721.000000</td>\n",
       "      <td>721.000000</td>\n",
       "      <td>721.000000</td>\n",
       "      <td>644.000000</td>\n",
       "      <td>721.000000</td>\n",
       "      <td>721.000000</td>\n",
       "      <td>721.000000</td>\n",
       "    </tr>\n",
       "    <tr>\n",
       "      <th>mean</th>\n",
       "      <td>361.00000</td>\n",
       "      <td>417.945908</td>\n",
       "      <td>68.380028</td>\n",
       "      <td>75.013870</td>\n",
       "      <td>70.808599</td>\n",
       "      <td>68.737864</td>\n",
       "      <td>69.291262</td>\n",
       "      <td>65.714286</td>\n",
       "      <td>3.323162</td>\n",
       "      <td>0.553377</td>\n",
       "      <td>1.144979</td>\n",
       "      <td>56.773370</td>\n",
       "      <td>100.246879</td>\n",
       "    </tr>\n",
       "    <tr>\n",
       "      <th>std</th>\n",
       "      <td>208.27906</td>\n",
       "      <td>109.663671</td>\n",
       "      <td>25.848272</td>\n",
       "      <td>28.984475</td>\n",
       "      <td>29.296558</td>\n",
       "      <td>28.788005</td>\n",
       "      <td>27.015860</td>\n",
       "      <td>27.277920</td>\n",
       "      <td>1.669873</td>\n",
       "      <td>0.199969</td>\n",
       "      <td>1.044369</td>\n",
       "      <td>89.095667</td>\n",
       "      <td>76.573513</td>\n",
       "    </tr>\n",
       "    <tr>\n",
       "      <th>min</th>\n",
       "      <td>1.00000</td>\n",
       "      <td>180.000000</td>\n",
       "      <td>1.000000</td>\n",
       "      <td>5.000000</td>\n",
       "      <td>5.000000</td>\n",
       "      <td>10.000000</td>\n",
       "      <td>20.000000</td>\n",
       "      <td>5.000000</td>\n",
       "      <td>1.000000</td>\n",
       "      <td>0.000000</td>\n",
       "      <td>0.100000</td>\n",
       "      <td>0.100000</td>\n",
       "      <td>3.000000</td>\n",
       "    </tr>\n",
       "    <tr>\n",
       "      <th>25%</th>\n",
       "      <td>181.00000</td>\n",
       "      <td>320.000000</td>\n",
       "      <td>50.000000</td>\n",
       "      <td>53.000000</td>\n",
       "      <td>50.000000</td>\n",
       "      <td>45.000000</td>\n",
       "      <td>50.000000</td>\n",
       "      <td>45.000000</td>\n",
       "      <td>2.000000</td>\n",
       "      <td>0.500000</td>\n",
       "      <td>0.610000</td>\n",
       "      <td>9.400000</td>\n",
       "      <td>45.000000</td>\n",
       "    </tr>\n",
       "    <tr>\n",
       "      <th>50%</th>\n",
       "      <td>361.00000</td>\n",
       "      <td>424.000000</td>\n",
       "      <td>65.000000</td>\n",
       "      <td>74.000000</td>\n",
       "      <td>65.000000</td>\n",
       "      <td>65.000000</td>\n",
       "      <td>65.000000</td>\n",
       "      <td>65.000000</td>\n",
       "      <td>3.000000</td>\n",
       "      <td>0.500000</td>\n",
       "      <td>0.990000</td>\n",
       "      <td>28.000000</td>\n",
       "      <td>65.000000</td>\n",
       "    </tr>\n",
       "    <tr>\n",
       "      <th>75%</th>\n",
       "      <td>541.00000</td>\n",
       "      <td>499.000000</td>\n",
       "      <td>80.000000</td>\n",
       "      <td>95.000000</td>\n",
       "      <td>85.000000</td>\n",
       "      <td>90.000000</td>\n",
       "      <td>85.000000</td>\n",
       "      <td>85.000000</td>\n",
       "      <td>5.000000</td>\n",
       "      <td>0.500000</td>\n",
       "      <td>1.400000</td>\n",
       "      <td>61.000000</td>\n",
       "      <td>180.000000</td>\n",
       "    </tr>\n",
       "    <tr>\n",
       "      <th>max</th>\n",
       "      <td>721.00000</td>\n",
       "      <td>720.000000</td>\n",
       "      <td>255.000000</td>\n",
       "      <td>165.000000</td>\n",
       "      <td>230.000000</td>\n",
       "      <td>154.000000</td>\n",
       "      <td>230.000000</td>\n",
       "      <td>160.000000</td>\n",
       "      <td>6.000000</td>\n",
       "      <td>1.000000</td>\n",
       "      <td>14.500000</td>\n",
       "      <td>950.000000</td>\n",
       "      <td>255.000000</td>\n",
       "    </tr>\n",
       "  </tbody>\n",
       "</table>\n",
       "</div>"
      ],
      "text/plain": [
       "          Number       Total          HP      Attack     Defense      Sp_Atk  \\\n",
       "count  721.00000  721.000000  721.000000  721.000000  721.000000  721.000000   \n",
       "mean   361.00000  417.945908   68.380028   75.013870   70.808599   68.737864   \n",
       "std    208.27906  109.663671   25.848272   28.984475   29.296558   28.788005   \n",
       "min      1.00000  180.000000    1.000000    5.000000    5.000000   10.000000   \n",
       "25%    181.00000  320.000000   50.000000   53.000000   50.000000   45.000000   \n",
       "50%    361.00000  424.000000   65.000000   74.000000   65.000000   65.000000   \n",
       "75%    541.00000  499.000000   80.000000   95.000000   85.000000   90.000000   \n",
       "max    721.00000  720.000000  255.000000  165.000000  230.000000  154.000000   \n",
       "\n",
       "           Sp_Def       Speed  Generation     Pr_Male    Height_m   Weight_kg  \\\n",
       "count  721.000000  721.000000  721.000000  644.000000  721.000000  721.000000   \n",
       "mean    69.291262   65.714286    3.323162    0.553377    1.144979   56.773370   \n",
       "std     27.015860   27.277920    1.669873    0.199969    1.044369   89.095667   \n",
       "min     20.000000    5.000000    1.000000    0.000000    0.100000    0.100000   \n",
       "25%     50.000000   45.000000    2.000000    0.500000    0.610000    9.400000   \n",
       "50%     65.000000   65.000000    3.000000    0.500000    0.990000   28.000000   \n",
       "75%     85.000000   85.000000    5.000000    0.500000    1.400000   61.000000   \n",
       "max    230.000000  160.000000    6.000000    1.000000   14.500000  950.000000   \n",
       "\n",
       "       Catch_Rate  \n",
       "count  721.000000  \n",
       "mean   100.246879  \n",
       "std     76.573513  \n",
       "min      3.000000  \n",
       "25%     45.000000  \n",
       "50%     65.000000  \n",
       "75%    180.000000  \n",
       "max    255.000000  "
      ]
     },
     "execution_count": 48,
     "metadata": {},
     "output_type": "execute_result"
    }
   ],
   "source": [
    "pokemon_df.describe()\n",
    "\n"
   ]
  },
  {
   "cell_type": "markdown",
   "id": "4aa9f594-8e4d-43de-96b6-d0882acedb25",
   "metadata": {},
   "source": [
    "### Visualizing data is built into Pandas"
   ]
  },
  {
   "cell_type": "code",
   "execution_count": 49,
   "id": "a84a49bc-38bc-4ce5-a148-d841953cdb59",
   "metadata": {},
   "outputs": [
    {
     "data": {
      "text/plain": [
       "[<matplotlib.lines.Line2D at 0x7fed60580d50>]"
      ]
     },
     "execution_count": 49,
     "metadata": {},
     "output_type": "execute_result"
    },
    {
     "data": {
      "image/png": "[encoded data removed]",
      "text/plain": [
       "<Figure size 432x288 with 1 Axes>"
      ]
     },
     "metadata": {
      "needs_background": "light"
     },
     "output_type": "display_data"
    }
   ],
   "source": [
    "x1 = pokemon_df['HP'].values\n",
    "x2 = pokemon_df['Defense'].values\n",
    "x3 = pokemon_df['Sp_Def'].values\n",
    "\n",
    "# Option 1 - Pyplot.plot\n",
    "plt.plot(x1,x2,marker='.',linestyle='none')"
   ]
  },
  {
   "cell_type": "code",
   "execution_count": 50,
   "id": "c952812c-ffbe-4891-87f1-62a2594f361a",
   "metadata": {},
   "outputs": [
    {
     "data": {
      "text/plain": [
       "<matplotlib.collections.PathCollection at 0x7fed6447e610>"
      ]
     },
     "execution_count": 50,
     "metadata": {},
     "output_type": "execute_result"
    },
    {
     "data": {
      "image/png": "[encoded data removed]",
      "text/plain": [
       "<Figure size 432x288 with 1 Axes>"
      ]
     },
     "metadata": {
      "needs_background": "light"
     },
     "output_type": "display_data"
    }
   ],
   "source": [
    "# Option 2 - Pyplot.scatter\n",
    "plt.scatter(x1,x2)\n",
    "\n"
   ]
  },
  {
   "cell_type": "code",
   "execution_count": 51,
   "id": "8429ca1c-773d-45a9-bef7-bef4e6ecbc3f",
   "metadata": {},
   "outputs": [
    {
     "data": {
      "text/plain": [
       "<AxesSubplot:xlabel='Sp_Def', ylabel='Defense'>"
      ]
     },
     "execution_count": 51,
     "metadata": {},
     "output_type": "execute_result"
    },
    {
     "data": {
      "image/png": "[encoded data removed]",
      "text/plain": [
       "<Figure size 432x288 with 1 Axes>"
      ]
     },
     "metadata": {
      "needs_background": "light"
     },
     "output_type": "display_data"
    }
   ],
   "source": [
    "# Option 3 - Pandas\n",
    "pokemon_df.plot.scatter(x='Sp_Def',y='Defense')\n",
    "\n"
   ]
  },
  {
   "cell_type": "markdown",
   "id": "1652ca00-4a9e-4b63-90fd-7584d432aca3",
   "metadata": {},
   "source": [
    "> <b>Note</b>: Some visualization packages utilize Pandas DataFrames!"
   ]
  },
  {
   "cell_type": "code",
   "execution_count": 52,
   "id": "2af0b9a6-a694-4857-9f0f-12b70a862232",
   "metadata": {},
   "outputs": [],
   "source": [
    "# ... Option 4 - Seaborn\n",
    "import seaborn as sns # this is a Python joke, but has become standard\n",
    "                      # stands for Samuel Norman \"Sam\" Seaborn\n",
    "                      # A character in The West Wing?"
   ]
  },
  {
   "cell_type": "code",
   "execution_count": 55,
   "id": "d1ed29fd-e395-413b-895c-91c473467df1",
   "metadata": {},
   "outputs": [
    {
     "data": {
      "text/plain": [
       "<AxesSubplot:xlabel='Sp_Def', ylabel='Defense'>"
      ]
     },
     "execution_count": 55,
     "metadata": {},
     "output_type": "execute_result"
    },
    {
     "data": {
      "image/png": "[encoded data removed]",
      "text/plain": [
       "<Figure size 432x288 with 1 Axes>"
      ]
     },
     "metadata": {
      "needs_background": "light"
     },
     "output_type": "display_data"
    }
   ],
   "source": [
    "# Option 4 - using Seaborn\n",
    "sns.scatterplot(x='Sp_Def',y='Defense',data=pokemon_df)\n",
    "\n"
   ]
  },
  {
   "cell_type": "code",
   "execution_count": 56,
   "id": "bb95b361-25e4-4988-8c32-7d6323623d08",
   "metadata": {},
   "outputs": [
    {
     "data": {
      "image/png": "[encoded data removed]",
      "text/plain": [
       "<Figure size 720x720 with 9 Axes>"
      ]
     },
     "metadata": {
      "needs_background": "light"
     },
     "output_type": "display_data"
    }
   ],
   "source": [
    "# Now all together\n",
    "df = pokemon_df[['HP','Defense','Sp_Def']] # another way to filer\n",
    "\n",
    "fig, axs = plt.subplots(3,3,figsize=(10,10))\n",
    "axs = axs.ravel()\n",
    "columns = df.columns.tolist()\n",
    "col_x_col = [(col_1,col_2) for col_1 in columns for col_2 in columns]\n",
    "\n",
    "for i, (ax,col_pair) in enumerate(zip(axs,col_x_col)):\n",
    "    \n",
    "    if i in [0,4,8]:\n",
    "        vals = df[col_pair[0]].values\n",
    "        ax.hist(vals)\n",
    "    else:\n",
    "        sns.scatterplot(x=col_pair[0],y=col_pair[1],data=df,ax=ax)\n",
    "\n"
   ]
  },
  {
   "cell_type": "code",
   "execution_count": 57,
   "id": "44217e3f-f9c2-481c-a38e-290fa06cb8e1",
   "metadata": {},
   "outputs": [
    {
     "data": {
      "image/png": "[encoded data removed]",
      "text/plain": [
       "<Figure size 540x540 with 12 Axes>"
      ]
     },
     "metadata": {
      "needs_background": "light"
     },
     "output_type": "display_data"
    }
   ],
   "source": [
    "# wow... this is way easier\n",
    "sns.pairplot(df);"
   ]
  },
  {
   "cell_type": "markdown",
   "id": "2caecf50-50fd-4240-be4c-ee407c75e884",
   "metadata": {},
   "source": [
    "### GroupBy for quick data exploration\n",
    "\n",
    "The GroupBy instance method let's us partition a DataFrame by desireable characteristics (the column descriptors or categorical metadata stored in the columns)."
   ]
  },
  {
   "cell_type": "code",
   "execution_count": 58,
   "id": "9f5f6310-77e6-4224-8751-d8da6ebfeea3",
   "metadata": {},
   "outputs": [
    {
     "data": {
      "text/html": [
       "<div>\n",
       "<style scoped>\n",
       "    .dataframe tbody tr th:only-of-type {\n",
       "        vertical-align: middle;\n",
       "    }\n",
       "\n",
       "    .dataframe tbody tr th {\n",
       "        vertical-align: top;\n",
       "    }\n",
       "\n",
       "    .dataframe thead th {\n",
       "        text-align: right;\n",
       "    }\n",
       "</style>\n",
       "<table border=\"1\" class=\"dataframe\">\n",
       "  <thead>\n",
       "    <tr style=\"text-align: right;\">\n",
       "      <th></th>\n",
       "      <th>Number</th>\n",
       "      <th>Name</th>\n",
       "      <th>Type_1</th>\n",
       "      <th>Type_2</th>\n",
       "      <th>Total</th>\n",
       "      <th>HP</th>\n",
       "      <th>Attack</th>\n",
       "      <th>Defense</th>\n",
       "      <th>Sp_Atk</th>\n",
       "      <th>Sp_Def</th>\n",
       "      <th>...</th>\n",
       "      <th>Color</th>\n",
       "      <th>hasGender</th>\n",
       "      <th>Pr_Male</th>\n",
       "      <th>Egg_Group_1</th>\n",
       "      <th>Egg_Group_2</th>\n",
       "      <th>hasMegaEvolution</th>\n",
       "      <th>Height_m</th>\n",
       "      <th>Weight_kg</th>\n",
       "      <th>Catch_Rate</th>\n",
       "      <th>Body_Style</th>\n",
       "    </tr>\n",
       "  </thead>\n",
       "  <tbody>\n",
       "    <tr>\n",
       "      <th>0</th>\n",
       "      <td>1</td>\n",
       "      <td>Bulbasaur</td>\n",
       "      <td>Grass</td>\n",
       "      <td>Poison</td>\n",
       "      <td>318</td>\n",
       "      <td>45</td>\n",
       "      <td>49</td>\n",
       "      <td>49</td>\n",
       "      <td>65</td>\n",
       "      <td>65</td>\n",
       "      <td>...</td>\n",
       "      <td>Green</td>\n",
       "      <td>True</td>\n",
       "      <td>0.875</td>\n",
       "      <td>Monster</td>\n",
       "      <td>Grass</td>\n",
       "      <td>False</td>\n",
       "      <td>0.71</td>\n",
       "      <td>6.9</td>\n",
       "      <td>45</td>\n",
       "      <td>quadruped</td>\n",
       "    </tr>\n",
       "    <tr>\n",
       "      <th>1</th>\n",
       "      <td>2</td>\n",
       "      <td>Ivysaur</td>\n",
       "      <td>Grass</td>\n",
       "      <td>Poison</td>\n",
       "      <td>405</td>\n",
       "      <td>60</td>\n",
       "      <td>62</td>\n",
       "      <td>63</td>\n",
       "      <td>80</td>\n",
       "      <td>80</td>\n",
       "      <td>...</td>\n",
       "      <td>Green</td>\n",
       "      <td>True</td>\n",
       "      <td>0.875</td>\n",
       "      <td>Monster</td>\n",
       "      <td>Grass</td>\n",
       "      <td>False</td>\n",
       "      <td>0.99</td>\n",
       "      <td>13.0</td>\n",
       "      <td>45</td>\n",
       "      <td>quadruped</td>\n",
       "    </tr>\n",
       "    <tr>\n",
       "      <th>2</th>\n",
       "      <td>3</td>\n",
       "      <td>Venusaur</td>\n",
       "      <td>Grass</td>\n",
       "      <td>Poison</td>\n",
       "      <td>525</td>\n",
       "      <td>80</td>\n",
       "      <td>82</td>\n",
       "      <td>83</td>\n",
       "      <td>100</td>\n",
       "      <td>100</td>\n",
       "      <td>...</td>\n",
       "      <td>Green</td>\n",
       "      <td>True</td>\n",
       "      <td>0.875</td>\n",
       "      <td>Monster</td>\n",
       "      <td>Grass</td>\n",
       "      <td>True</td>\n",
       "      <td>2.01</td>\n",
       "      <td>100.0</td>\n",
       "      <td>45</td>\n",
       "      <td>quadruped</td>\n",
       "    </tr>\n",
       "    <tr>\n",
       "      <th>3</th>\n",
       "      <td>4</td>\n",
       "      <td>Charmander</td>\n",
       "      <td>Fire</td>\n",
       "      <td>NaN</td>\n",
       "      <td>309</td>\n",
       "      <td>39</td>\n",
       "      <td>52</td>\n",
       "      <td>43</td>\n",
       "      <td>60</td>\n",
       "      <td>50</td>\n",
       "      <td>...</td>\n",
       "      <td>Red</td>\n",
       "      <td>True</td>\n",
       "      <td>0.875</td>\n",
       "      <td>Monster</td>\n",
       "      <td>Dragon</td>\n",
       "      <td>False</td>\n",
       "      <td>0.61</td>\n",
       "      <td>8.5</td>\n",
       "      <td>45</td>\n",
       "      <td>bipedal_tailed</td>\n",
       "    </tr>\n",
       "    <tr>\n",
       "      <th>4</th>\n",
       "      <td>5</td>\n",
       "      <td>Charmeleon</td>\n",
       "      <td>Fire</td>\n",
       "      <td>NaN</td>\n",
       "      <td>405</td>\n",
       "      <td>58</td>\n",
       "      <td>64</td>\n",
       "      <td>58</td>\n",
       "      <td>80</td>\n",
       "      <td>65</td>\n",
       "      <td>...</td>\n",
       "      <td>Red</td>\n",
       "      <td>True</td>\n",
       "      <td>0.875</td>\n",
       "      <td>Monster</td>\n",
       "      <td>Dragon</td>\n",
       "      <td>False</td>\n",
       "      <td>1.09</td>\n",
       "      <td>19.0</td>\n",
       "      <td>45</td>\n",
       "      <td>bipedal_tailed</td>\n",
       "    </tr>\n",
       "  </tbody>\n",
       "</table>\n",
       "<p>5 rows × 23 columns</p>\n",
       "</div>"
      ],
      "text/plain": [
       "   Number        Name Type_1  Type_2  Total  HP  Attack  Defense  Sp_Atk  \\\n",
       "0       1   Bulbasaur  Grass  Poison    318  45      49       49      65   \n",
       "1       2     Ivysaur  Grass  Poison    405  60      62       63      80   \n",
       "2       3    Venusaur  Grass  Poison    525  80      82       83     100   \n",
       "3       4  Charmander   Fire     NaN    309  39      52       43      60   \n",
       "4       5  Charmeleon   Fire     NaN    405  58      64       58      80   \n",
       "\n",
       "   Sp_Def  ...  Color  hasGender  Pr_Male Egg_Group_1  Egg_Group_2  \\\n",
       "0      65  ...  Green       True    0.875     Monster        Grass   \n",
       "1      80  ...  Green       True    0.875     Monster        Grass   \n",
       "2     100  ...  Green       True    0.875     Monster        Grass   \n",
       "3      50  ...    Red       True    0.875     Monster       Dragon   \n",
       "4      65  ...    Red       True    0.875     Monster       Dragon   \n",
       "\n",
       "   hasMegaEvolution Height_m Weight_kg  Catch_Rate      Body_Style  \n",
       "0             False     0.71       6.9          45       quadruped  \n",
       "1             False     0.99      13.0          45       quadruped  \n",
       "2              True     2.01     100.0          45       quadruped  \n",
       "3             False     0.61       8.5          45  bipedal_tailed  \n",
       "4             False     1.09      19.0          45  bipedal_tailed  \n",
       "\n",
       "[5 rows x 23 columns]"
      ]
     },
     "execution_count": 58,
     "metadata": {},
     "output_type": "execute_result"
    }
   ],
   "source": [
    "pokemon_df.head()"
   ]
  },
  {
   "cell_type": "code",
   "execution_count": 59,
   "id": "2c32a67a-399f-4ca0-bf56-8c9ebf972763",
   "metadata": {},
   "outputs": [
    {
     "data": {
      "text/html": [
       "<div>\n",
       "<style scoped>\n",
       "    .dataframe tbody tr th:only-of-type {\n",
       "        vertical-align: middle;\n",
       "    }\n",
       "\n",
       "    .dataframe tbody tr th {\n",
       "        vertical-align: top;\n",
       "    }\n",
       "\n",
       "    .dataframe thead th {\n",
       "        text-align: right;\n",
       "    }\n",
       "</style>\n",
       "<table border=\"1\" class=\"dataframe\">\n",
       "  <thead>\n",
       "    <tr style=\"text-align: right;\">\n",
       "      <th></th>\n",
       "      <th>Number</th>\n",
       "      <th>Name</th>\n",
       "      <th>Type_1</th>\n",
       "      <th>Type_2</th>\n",
       "      <th>Total</th>\n",
       "      <th>HP</th>\n",
       "      <th>Attack</th>\n",
       "      <th>Defense</th>\n",
       "      <th>Sp_Atk</th>\n",
       "      <th>Sp_Def</th>\n",
       "      <th>...</th>\n",
       "      <th>Color</th>\n",
       "      <th>hasGender</th>\n",
       "      <th>Pr_Male</th>\n",
       "      <th>Egg_Group_1</th>\n",
       "      <th>Egg_Group_2</th>\n",
       "      <th>hasMegaEvolution</th>\n",
       "      <th>Height_m</th>\n",
       "      <th>Weight_kg</th>\n",
       "      <th>Catch_Rate</th>\n",
       "      <th>Body_Style</th>\n",
       "    </tr>\n",
       "  </thead>\n",
       "  <tbody>\n",
       "    <tr>\n",
       "      <th>0</th>\n",
       "      <td>1</td>\n",
       "      <td>Bulbasaur</td>\n",
       "      <td>Grass</td>\n",
       "      <td>Poison</td>\n",
       "      <td>318</td>\n",
       "      <td>45</td>\n",
       "      <td>49</td>\n",
       "      <td>49</td>\n",
       "      <td>65</td>\n",
       "      <td>65</td>\n",
       "      <td>...</td>\n",
       "      <td>Green</td>\n",
       "      <td>True</td>\n",
       "      <td>0.875</td>\n",
       "      <td>Monster</td>\n",
       "      <td>Grass</td>\n",
       "      <td>False</td>\n",
       "      <td>0.71</td>\n",
       "      <td>6.9</td>\n",
       "      <td>45</td>\n",
       "      <td>quadruped</td>\n",
       "    </tr>\n",
       "    <tr>\n",
       "      <th>1</th>\n",
       "      <td>2</td>\n",
       "      <td>Ivysaur</td>\n",
       "      <td>Grass</td>\n",
       "      <td>Poison</td>\n",
       "      <td>405</td>\n",
       "      <td>60</td>\n",
       "      <td>62</td>\n",
       "      <td>63</td>\n",
       "      <td>80</td>\n",
       "      <td>80</td>\n",
       "      <td>...</td>\n",
       "      <td>Green</td>\n",
       "      <td>True</td>\n",
       "      <td>0.875</td>\n",
       "      <td>Monster</td>\n",
       "      <td>Grass</td>\n",
       "      <td>False</td>\n",
       "      <td>0.99</td>\n",
       "      <td>13.0</td>\n",
       "      <td>45</td>\n",
       "      <td>quadruped</td>\n",
       "    </tr>\n",
       "    <tr>\n",
       "      <th>2</th>\n",
       "      <td>3</td>\n",
       "      <td>Venusaur</td>\n",
       "      <td>Grass</td>\n",
       "      <td>Poison</td>\n",
       "      <td>525</td>\n",
       "      <td>80</td>\n",
       "      <td>82</td>\n",
       "      <td>83</td>\n",
       "      <td>100</td>\n",
       "      <td>100</td>\n",
       "      <td>...</td>\n",
       "      <td>Green</td>\n",
       "      <td>True</td>\n",
       "      <td>0.875</td>\n",
       "      <td>Monster</td>\n",
       "      <td>Grass</td>\n",
       "      <td>True</td>\n",
       "      <td>2.01</td>\n",
       "      <td>100.0</td>\n",
       "      <td>45</td>\n",
       "      <td>quadruped</td>\n",
       "    </tr>\n",
       "    <tr>\n",
       "      <th>42</th>\n",
       "      <td>43</td>\n",
       "      <td>Oddish</td>\n",
       "      <td>Grass</td>\n",
       "      <td>Poison</td>\n",
       "      <td>320</td>\n",
       "      <td>45</td>\n",
       "      <td>50</td>\n",
       "      <td>55</td>\n",
       "      <td>75</td>\n",
       "      <td>65</td>\n",
       "      <td>...</td>\n",
       "      <td>Blue</td>\n",
       "      <td>True</td>\n",
       "      <td>0.500</td>\n",
       "      <td>Grass</td>\n",
       "      <td>NaN</td>\n",
       "      <td>False</td>\n",
       "      <td>0.51</td>\n",
       "      <td>5.4</td>\n",
       "      <td>255</td>\n",
       "      <td>head_legs</td>\n",
       "    </tr>\n",
       "    <tr>\n",
       "      <th>43</th>\n",
       "      <td>44</td>\n",
       "      <td>Gloom</td>\n",
       "      <td>Grass</td>\n",
       "      <td>Poison</td>\n",
       "      <td>395</td>\n",
       "      <td>60</td>\n",
       "      <td>65</td>\n",
       "      <td>70</td>\n",
       "      <td>85</td>\n",
       "      <td>75</td>\n",
       "      <td>...</td>\n",
       "      <td>Blue</td>\n",
       "      <td>True</td>\n",
       "      <td>0.500</td>\n",
       "      <td>Grass</td>\n",
       "      <td>NaN</td>\n",
       "      <td>False</td>\n",
       "      <td>0.79</td>\n",
       "      <td>8.6</td>\n",
       "      <td>120</td>\n",
       "      <td>bipedal_tailless</td>\n",
       "    </tr>\n",
       "  </tbody>\n",
       "</table>\n",
       "<p>5 rows × 23 columns</p>\n",
       "</div>"
      ],
      "text/plain": [
       "    Number       Name Type_1  Type_2  Total  HP  Attack  Defense  Sp_Atk  \\\n",
       "0        1  Bulbasaur  Grass  Poison    318  45      49       49      65   \n",
       "1        2    Ivysaur  Grass  Poison    405  60      62       63      80   \n",
       "2        3   Venusaur  Grass  Poison    525  80      82       83     100   \n",
       "42      43     Oddish  Grass  Poison    320  45      50       55      75   \n",
       "43      44      Gloom  Grass  Poison    395  60      65       70      85   \n",
       "\n",
       "    Sp_Def  ...  Color  hasGender  Pr_Male Egg_Group_1  Egg_Group_2  \\\n",
       "0       65  ...  Green       True    0.875     Monster        Grass   \n",
       "1       80  ...  Green       True    0.875     Monster        Grass   \n",
       "2      100  ...  Green       True    0.875     Monster        Grass   \n",
       "42      65  ...   Blue       True    0.500       Grass          NaN   \n",
       "43      75  ...   Blue       True    0.500       Grass          NaN   \n",
       "\n",
       "    hasMegaEvolution Height_m Weight_kg  Catch_Rate        Body_Style  \n",
       "0              False     0.71       6.9          45         quadruped  \n",
       "1              False     0.99      13.0          45         quadruped  \n",
       "2               True     2.01     100.0          45         quadruped  \n",
       "42             False     0.51       5.4         255         head_legs  \n",
       "43             False     0.79       8.6         120  bipedal_tailless  \n",
       "\n",
       "[5 rows x 23 columns]"
      ]
     },
     "execution_count": 59,
     "metadata": {},
     "output_type": "execute_result"
    }
   ],
   "source": [
    "# Let's look at grouping by common values (we snuck this in early)\n",
    "target_col = 'Type_1'\n",
    "grass_type_df = pokemon_df[pokemon_df['Type_1']=='Grass']\n",
    "\n",
    "grass_type_df.head() # contains only those rows where Type_1 is Grass"
   ]
  },
  {
   "cell_type": "code",
   "execution_count": 65,
   "id": "6b61c0c3-dabc-486d-8824-da6506d6a57d",
   "metadata": {},
   "outputs": [
    {
     "data": {
      "text/plain": [
       "<pandas.core.groupby.generic.DataFrameGroupBy object at 0x7fecea858190>"
      ]
     },
     "execution_count": 65,
     "metadata": {},
     "output_type": "execute_result"
    }
   ],
   "source": [
    "# we can use group by as a way of applying these to all common values\n",
    "grouped_df = pokemon_df.groupby('Type_1')\n",
    "\n",
    "grouped_df"
   ]
  },
  {
   "cell_type": "code",
   "execution_count": 66,
   "id": "f57cf528-d2f2-4de2-a2eb-95213f940a14",
   "metadata": {},
   "outputs": [],
   "source": [
    "# we can apply methods/functions for a grouping and columns of interests\n",
    "grouped_means_df = pokemon_df.groupby('Type_1')[['HP','Defense','Sp_Def']].mean()\n",
    "\n"
   ]
  },
  {
   "cell_type": "code",
   "execution_count": 67,
   "id": "687d3682-9d4e-4f38-9324-b3af8922c7bf",
   "metadata": {},
   "outputs": [
    {
     "data": {
      "text/html": [
       "<div>\n",
       "<style scoped>\n",
       "    .dataframe tbody tr th:only-of-type {\n",
       "        vertical-align: middle;\n",
       "    }\n",
       "\n",
       "    .dataframe tbody tr th {\n",
       "        vertical-align: top;\n",
       "    }\n",
       "\n",
       "    .dataframe thead th {\n",
       "        text-align: right;\n",
       "    }\n",
       "</style>\n",
       "<table border=\"1\" class=\"dataframe\">\n",
       "  <thead>\n",
       "    <tr style=\"text-align: right;\">\n",
       "      <th></th>\n",
       "      <th>HP</th>\n",
       "      <th>Defense</th>\n",
       "      <th>Sp_Def</th>\n",
       "    </tr>\n",
       "    <tr>\n",
       "      <th>Type_1</th>\n",
       "      <th></th>\n",
       "      <th></th>\n",
       "      <th></th>\n",
       "    </tr>\n",
       "  </thead>\n",
       "  <tbody>\n",
       "    <tr>\n",
       "      <th>Bug</th>\n",
       "      <td>55.952381</td>\n",
       "      <td>67.698413</td>\n",
       "      <td>62.158730</td>\n",
       "    </tr>\n",
       "    <tr>\n",
       "      <th>Dark</th>\n",
       "      <td>67.178571</td>\n",
       "      <td>67.928571</td>\n",
       "      <td>67.500000</td>\n",
       "    </tr>\n",
       "    <tr>\n",
       "      <th>Dragon</th>\n",
       "      <td>78.041667</td>\n",
       "      <td>79.125000</td>\n",
       "      <td>83.041667</td>\n",
       "    </tr>\n",
       "    <tr>\n",
       "      <th>Electric</th>\n",
       "      <td>59.500000</td>\n",
       "      <td>59.083333</td>\n",
       "      <td>67.722222</td>\n",
       "    </tr>\n",
       "    <tr>\n",
       "      <th>Fairy</th>\n",
       "      <td>74.117647</td>\n",
       "      <td>65.705882</td>\n",
       "      <td>84.705882</td>\n",
       "    </tr>\n",
       "    <tr>\n",
       "      <th>Fighting</th>\n",
       "      <td>70.240000</td>\n",
       "      <td>64.280000</td>\n",
       "      <td>63.680000</td>\n",
       "    </tr>\n",
       "    <tr>\n",
       "      <th>Fire</th>\n",
       "      <td>68.595745</td>\n",
       "      <td>64.893617</td>\n",
       "      <td>69.468085</td>\n",
       "    </tr>\n",
       "    <tr>\n",
       "      <th>Flying</th>\n",
       "      <td>68.000000</td>\n",
       "      <td>61.666667</td>\n",
       "      <td>66.666667</td>\n",
       "    </tr>\n",
       "    <tr>\n",
       "      <th>Ghost</th>\n",
       "      <td>61.565217</td>\n",
       "      <td>75.956522</td>\n",
       "      <td>76.478261</td>\n",
       "    </tr>\n",
       "    <tr>\n",
       "      <th>Grass</th>\n",
       "      <td>66.196970</td>\n",
       "      <td>69.363636</td>\n",
       "      <td>68.863636</td>\n",
       "    </tr>\n",
       "    <tr>\n",
       "      <th>Ground</th>\n",
       "      <td>72.400000</td>\n",
       "      <td>82.166667</td>\n",
       "      <td>61.266667</td>\n",
       "    </tr>\n",
       "    <tr>\n",
       "      <th>Ice</th>\n",
       "      <td>71.652174</td>\n",
       "      <td>71.043478</td>\n",
       "      <td>76.130435</td>\n",
       "    </tr>\n",
       "    <tr>\n",
       "      <th>Normal</th>\n",
       "      <td>76.526882</td>\n",
       "      <td>57.795699</td>\n",
       "      <td>62.000000</td>\n",
       "    </tr>\n",
       "    <tr>\n",
       "      <th>Poison</th>\n",
       "      <td>67.250000</td>\n",
       "      <td>68.821429</td>\n",
       "      <td>64.392857</td>\n",
       "    </tr>\n",
       "    <tr>\n",
       "      <th>Psychic</th>\n",
       "      <td>70.617021</td>\n",
       "      <td>65.042553</td>\n",
       "      <td>82.382979</td>\n",
       "    </tr>\n",
       "    <tr>\n",
       "      <th>Rock</th>\n",
       "      <td>64.536585</td>\n",
       "      <td>99.756098</td>\n",
       "      <td>73.073171</td>\n",
       "    </tr>\n",
       "    <tr>\n",
       "      <th>Steel</th>\n",
       "      <td>64.818182</td>\n",
       "      <td>119.409091</td>\n",
       "      <td>79.409091</td>\n",
       "    </tr>\n",
       "    <tr>\n",
       "      <th>Water</th>\n",
       "      <td>70.866667</td>\n",
       "      <td>70.485714</td>\n",
       "      <td>68.076190</td>\n",
       "    </tr>\n",
       "  </tbody>\n",
       "</table>\n",
       "</div>"
      ],
      "text/plain": [
       "                 HP     Defense     Sp_Def\n",
       "Type_1                                    \n",
       "Bug       55.952381   67.698413  62.158730\n",
       "Dark      67.178571   67.928571  67.500000\n",
       "Dragon    78.041667   79.125000  83.041667\n",
       "Electric  59.500000   59.083333  67.722222\n",
       "Fairy     74.117647   65.705882  84.705882\n",
       "Fighting  70.240000   64.280000  63.680000\n",
       "Fire      68.595745   64.893617  69.468085\n",
       "Flying    68.000000   61.666667  66.666667\n",
       "Ghost     61.565217   75.956522  76.478261\n",
       "Grass     66.196970   69.363636  68.863636\n",
       "Ground    72.400000   82.166667  61.266667\n",
       "Ice       71.652174   71.043478  76.130435\n",
       "Normal    76.526882   57.795699  62.000000\n",
       "Poison    67.250000   68.821429  64.392857\n",
       "Psychic   70.617021   65.042553  82.382979\n",
       "Rock      64.536585   99.756098  73.073171\n",
       "Steel     64.818182  119.409091  79.409091\n",
       "Water     70.866667   70.485714  68.076190"
      ]
     },
     "execution_count": 67,
     "metadata": {},
     "output_type": "execute_result"
    }
   ],
   "source": [
    "grouped_means_df\n",
    "\n"
   ]
  },
  {
   "cell_type": "markdown",
   "id": "e31f3dd8-1e6c-4f52-87e5-4ccbc1c94c6a",
   "metadata": {},
   "source": [
    "## Let's practice with the Week 5 Data Exercise I"
   ]
  }
 ],
 "metadata": {
  "kernelspec": {
   "display_name": "n_prof",
   "language": "python",
   "name": "n_prof"
  },
  "language_info": {
   "codemirror_mode": {
    "name": "ipython",
    "version": 3
   },
   "file_extension": ".py",
   "mimetype": "text/x-python",
   "name": "python",
   "nbconvert_exporter": "python",
   "pygments_lexer": "ipython3",
   "version": "3.7.9"
  }
 },
 "nbformat": 4,
 "nbformat_minor": 5
}
