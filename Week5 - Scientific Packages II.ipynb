{
 "cells": [
  {
   "cell_type": "markdown",
   "id": "29bc2634-b44b-44db-ab5e-4aa52d8b7b1f",
   "metadata": {},
   "source": [
    "<h1><center>Introduction to Scientific Packages II (Matplotlib and Pandas)</center></h1>\n",
    "\n",
    "> 1. Basics of Matplotlib\n",
    ">> - The basic plot\n",
    ">> - Subplots and Axis elements\n",
    ">> - GridSpec\n",
    ">> - Some examples of decorating your figure\n",
    "> 2. Basics of Pandas\n",
    ">> - The Series and DataFrame classes\n",
    ">> - Filtering by columns and rows\n",
    ">> - I/O functions\n",
    ">> - Looking at data\n",
    ">> - Summarizing data\n",
    ">> - GroupBy for exploring data\n",
    "\n",
    "\n",
    "\n",
    "<u>Main modules of interest:</u>\n",
    "> <b>Matplotlib</b> : High-quality 2D charting library that has functions taking data arrays as inputs and returning figures. Also, allows us to focus on visual effects like colors or spacing an an abstract level. (https://matplotlib.org)\n",
    ">\n",
    "> <b>Pandas</b> : Used for data analysis and making tabular data structures with mixed data types (DataFrames). Organizes everything visually into tables which can be useful if you get lost in what's stored where. (This will only be used behind the scenes in this lesson, https://pandas.pydata.org)\n",
    "\n",
    "<u>List of other included modules</u>:\n",
    "> <b>OS</b> : Standard input-output functions for accessing and saving files on your operating system. (https://docs.python.org/3/library/os.html)\n"
   ]
  },
  {
   "cell_type": "markdown",
   "id": "0ed7ad83-aedd-45fc-b79f-d901d8594224",
   "metadata": {},
   "source": [
    "## Import modules"
   ]
  },
  {
   "cell_type": "code",
   "execution_count": null,
   "id": "4304f678-c18c-42fe-bec8-f76bc3c1d606",
   "metadata": {},
   "outputs": [],
   "source": [
    "# data handling module\n",
    "import pandas as pd\n",
    "import numpy as np\n",
    "\n",
    "# data viz module\n",
    "import matplotlib.pyplot as plt \n",
    "# the percent sign below is something called Jupyter magic making the Jupyter Notebook interactive\n",
    "# - (In this case, just plotting figures inside the notebook.)\n",
    "%matplotlib inline \n",
    "\n",
    "# I/O + system module\n",
    "import os"
   ]
  },
  {
   "cell_type": "markdown",
   "id": "062ec150-a40b-4151-8a9e-da01f7ffdd6f",
   "metadata": {},
   "source": [
    "## Basics of Matplotlib\n",
    "\n",
    "Matplotlib is built around two Python objects:\n",
    "+ Figure objects\n",
    "+ Axis objects\n",
    "\n",
    "\n",
    "These two classes are your bread-and-butter interfaces to the plotting <i>backends</i>. <i>Backends</i> deal with how the plots are rendered into the different image formats (.jpg, .svg, .pdf, .png, etc). You don't need to do anything with the backends for the most part - just know that we structure the figure layout with Python code, and the backend renders it into an image that could be <i>rasterized</i> (made up of pixel dots with different properties), <i>vectorized</i> (expressed as scalable vectors having multiple layers to the image), etc.\n",
    "\n",
    "They also have very similar functionality and interact with each other. You will be using both constantly throughout the entire data science workflow - from exploring data to designing more elaborate and informative figures for publications/presentations.\n",
    "\n",
    "> <b>Note</b>: There are a number of visualization packages. Some examples include: <b>Matplotlib</b>, <b>Seaborn</b>, <b>Bokeh</b>, and <b>Plotly</b>.\n",
    "> \n",
    "> All packages are typically built around <b>Matplotlib</b>\n",
    "\n",
    "**Pros:**\n",
    "<ul> \n",
    "<li>Huge amount of functionality/options. (There are >70,000 lines of code associated with this library.)\n",
    "<li>Works with numpy arrays and python lists.\n",
    "<li>Comes with many prepackaged Python distros (anaconda, WinPython, etc.).\n",
    "<li>Easily saves plots to raster (.png, .bmp, etc.) and vector (.svg, .pdf, etc.) formats.\n",
    "<li>Has an excellent set of examples for coming up with figure layouts (with code) at http://matplotlib.org/gallery.\n",
    "<li>Shares many syntactic conventions with Matlab.\n",
    "</ul>\n",
    "\n",
    "\n",
    "**Cons:**\n",
    "<ul>\n",
    "<li>Slow for rapidly updating plots.\n",
    "<li>3D plotting support is not great.\n",
    "<li>Documentation is not always useful (it's actually very extensive, but often out-of-date or lacking in up-to-date examples)\n",
    "<li>Essentially has two primary interfaces.  One is intended to be close to Matlab, the other is object oriented.  You will find examples that assume one or the other, but rarely the one you are after. \n",
    "    - There actually several interfaces that work with several backends.\n",
    "<li>Shares many syntactic conventions with Matlab.\n",
    "</ul>"
   ]
  },
  {
   "cell_type": "markdown",
   "id": "70666426-b3c3-410c-9bae-8e4fc49524d2",
   "metadata": {},
   "source": [
    "### The basic plot using the Figure Class"
   ]
  },
  {
   "cell_type": "code",
   "execution_count": null,
   "id": "ea4b4040-e918-4025-ae96-bba1299b3bbd",
   "metadata": {},
   "outputs": [],
   "source": [
    "help(plt.figure)"
   ]
  },
  {
   "cell_type": "code",
   "execution_count": null,
   "id": "d1b8cede-e9e8-4aac-aee8-087c05fb0413",
   "metadata": {},
   "outputs": [],
   "source": [
    "# This is our interface\n",
    "fig = plt.figure() # the \"basic plot\" is class instance with a size and Axes attributes associated with it\n",
    "\n"
   ]
  },
  {
   "cell_type": "code",
   "execution_count": null,
   "id": "1d7e56e6-57d2-4a87-a060-3ff9e802dc84",
   "metadata": {},
   "outputs": [],
   "source": [
    "type(fig) # this type is handled by the new_figure_manager behind the scenes so that w \n",
    "\n"
   ]
  },
  {
   "cell_type": "code",
   "execution_count": null,
   "id": "6cf0e074-3325-4bb4-b6c0-d05cd91868c7",
   "metadata": {},
   "outputs": [],
   "source": [
    "# let's look at some \"data\" \n",
    "fake_data = np.random.random(1000)\n",
    "\n",
    "# we create a Figure instance\n",
    "fig = plt.figure()\n",
    "\n",
    "# we then call the plot method\n",
    "plt.plot(fake_data) "
   ]
  },
  {
   "cell_type": "markdown",
   "id": "5f50f2d0-18f6-4ef9-b6ac-48d0e70bf9d1",
   "metadata": {},
   "source": [
    "Notice that the \"plot\" method creates a 2D \"line\" plot. This line plot could be a timeseries, i.e., an time-ordered sequence of values, but can also be anything we want to be plotted using a line plot. One example could be plotting the curve of reconstruction errors for machine-learning models as we vary learning parameters."
   ]
  },
  {
   "cell_type": "code",
   "execution_count": null,
   "id": "6de2ec74-201b-40ba-9d93-bb24776bba41",
   "metadata": {},
   "outputs": [],
   "source": [
    "# can also clean our cell output by adding a semi-colon to \n",
    "# the end of the last line of the cell. These can get messy \n",
    "# the more elements are involved in the last line.\n",
    "plt.plot(fake_data);\n"
   ]
  },
  {
   "cell_type": "markdown",
   "id": "4f2485bd-f7dc-4c35-a67e-ed01c9aa9994",
   "metadata": {},
   "source": [
    "> <b>Note</b>: Generally, we want to tell the interpreter when to render the final plot. This is done with matplotlib.pyplot.show(). However, since we're using a Jupyter Notebook and used Jupyter \"magic\" to render plots in-line, we aren't here. This should be done (in conjuction to \"closing\" plots via matplotlib.pyplot.close() ...) when you are running code in scripts"
   ]
  },
  {
   "cell_type": "code",
   "execution_count": null,
   "id": "f3c063b5-089c-499d-a452-1f57a8d40b04",
   "metadata": {},
   "outputs": [],
   "source": [
    "# ... the bare minimum of the Figure instance\n",
    "fig # WHAT HAPPENED TO THE AXES??"
   ]
  },
  {
   "cell_type": "markdown",
   "id": "6d5b2ac4-d4f3-43dc-b9ce-53f8ec028c00",
   "metadata": {},
   "source": [
    "## The Anatomy of a Figure\n",
    "\n",
    "!!! INSERT IMAGE HERE"
   ]
  },
  {
   "cell_type": "markdown",
   "id": "d71f6433-bb00-43e7-b70e-bb710ab1d45f",
   "metadata": {},
   "source": [
    "### The Axes Class and Subplots"
   ]
  },
  {
   "cell_type": "code",
   "execution_count": null,
   "id": "8f5846c0-f960-44b5-a8ca-b604b0e1a32d",
   "metadata": {},
   "outputs": [],
   "source": [
    "# subplots creates the entire layout and gives us access to the Axes of Figure\n",
    "fig, ax = plt.subplots() # <- returns a tuple\n",
    "\n"
   ]
  },
  {
   "cell_type": "code",
   "execution_count": null,
   "id": "13e5c025-bb7b-480c-8861-f6f67569ceae",
   "metadata": {},
   "outputs": [],
   "source": [
    "ax, type(ax)"
   ]
  },
  {
   "cell_type": "code",
   "execution_count": null,
   "id": "1656c8e9-ad3e-4bee-85cc-84fec3b285a7",
   "metadata": {},
   "outputs": [],
   "source": [
    "# we can essentially do the same thing as before\n",
    "fig, ax = plt.subplots()\n",
    "\n",
    "ax.plot(fake_data) # here we work directly with the Axes "
   ]
  },
  {
   "cell_type": "code",
   "execution_count": null,
   "id": "99a56713-896d-4abf-8cd9-2d4b23f2031c",
   "metadata": {},
   "outputs": [],
   "source": [
    "type(ax)"
   ]
  },
  {
   "cell_type": "code",
   "execution_count": null,
   "id": "09501283-50d5-4344-8eef-d5112210c560",
   "metadata": {},
   "outputs": [],
   "source": [
    "# How are multiple axes stored?\n",
    "fig, axs = plt.subplots(nrows=3,ncols=3)\n",
    "\n"
   ]
  },
  {
   "cell_type": "code",
   "execution_count": null,
   "id": "9abef720-b326-453a-b328-6c9f0c334ead",
   "metadata": {},
   "outputs": [],
   "source": [
    "type(axs) # as a numpy array\n",
    "\n"
   ]
  },
  {
   "cell_type": "code",
   "execution_count": null,
   "id": "89c59f10-5d95-41ca-bb03-f440ebad5bca",
   "metadata": {},
   "outputs": [],
   "source": [
    "# Axes object is a... of shape...?\n",
    "axs, axs.shape\n",
    "\n"
   ]
  },
  {
   "cell_type": "code",
   "execution_count": null,
   "id": "a6dcd59e-ded0-4ebc-b2a7-80503d7ebb58",
   "metadata": {},
   "outputs": [],
   "source": [
    "# ... and can be indexed like any other array\n",
    "print(axs[0,1]) # note the address\n",
    "\n"
   ]
  },
  {
   "cell_type": "code",
   "execution_count": null,
   "id": "90604f50-5c35-45fc-8ab2-2049a9521581",
   "metadata": {},
   "outputs": [],
   "source": [
    "print(axs[2,1]) # third row, second col\n",
    "\n"
   ]
  },
  {
   "cell_type": "markdown",
   "id": "396b56e2-c54c-466e-be0b-434ddbcf138b",
   "metadata": {},
   "source": [
    "> <b>Note</b>: Generally, I like to collapse the 2D grid to use with non-nested for loops when I need to plot several subplots. This is a preference, and not necessarily universal."
   ]
  },
  {
   "cell_type": "code",
   "execution_count": null,
   "id": "0902b7e6-f529-482c-943f-20d6659ed2cf",
   "metadata": {},
   "outputs": [],
   "source": [
    "# example of collapsing using Numpy\n",
    "fig, axs = plt.subplots(3,3,\n",
    "                       constrained_layout=True) # changes spacing\n",
    "# numpy.array function\n",
    "axs = axs.ravel() # unwraps the 3x3 array into a 1x9 array\n",
    "\n",
    "axs[4].plot(fake_data); # == axs[1,0]"
   ]
  },
  {
   "cell_type": "markdown",
   "id": "8cafa261-7f35-42b5-9daf-1fa4ccebb371",
   "metadata": {},
   "source": [
    "> Alternatively, you can use axs.flatten() for a similar effect."
   ]
  },
  {
   "cell_type": "markdown",
   "id": "22789539-1036-4516-9f1a-0602c46f1185",
   "metadata": {},
   "source": [
    "### GridSpec\n",
    "> The GridSpec class gives us more control over the placement and span of each of the subplots\n",
    ">\n",
    "> If you need even MORE control, look into the <b>mpl_toolkits</b> Python library. Example. AxesGrid can give you even more control"
   ]
  },
  {
   "cell_type": "code",
   "execution_count": null,
   "id": "46d4b8ff-bfc6-46cd-b539-1f278d132d61",
   "metadata": {},
   "outputs": [],
   "source": [
    "from matplotlib.gridspec import GridSpec"
   ]
  },
  {
   "cell_type": "code",
   "execution_count": null,
   "id": "66c64359-9527-4a40-9740-f123d9a9cd46",
   "metadata": {},
   "outputs": [],
   "source": [
    "gs = GridSpec(nrows=3,ncols=3)"
   ]
  },
  {
   "cell_type": "code",
   "execution_count": null,
   "id": "b61230d0-b20d-4c18-8428-54b56edb981d",
   "metadata": {},
   "outputs": [],
   "source": [
    "type(gs), gs"
   ]
  },
  {
   "cell_type": "code",
   "execution_count": null,
   "id": "dbb4bbf5-91af-46c6-ba11-97a7039a2d4b",
   "metadata": {},
   "outputs": [],
   "source": [
    "# the main power of grid spec is scaling the subplots\n",
    "fig = plt.figure()\n",
    "\n",
    "# Create grispec object and define each subplot\n",
    "gs = GridSpec(2, 2) # 2 x 2 is the shape\n",
    "\n",
    "# We can create each axis here\n",
    "ax0 = plt.subplot(gs[0, 0]) # Top left corner\n",
    "ax1 = plt.subplot(gs[0, 1]) # Top right corner\n",
    "ax2 = plt.subplot(gs[1, :]) # Bottom, span entire width\n",
    "\n",
    "plt.tight_layout();"
   ]
  },
  {
   "cell_type": "markdown",
   "id": "9748fc92-7fb7-43fc-933b-4e8ae14e5fa9",
   "metadata": {},
   "source": [
    "Let's just make a figure and dissect the pieces to it. Matplotlib is definitely one of those packages you'll have to explore. The first Data Exercise should be very helpful for this! "
   ]
  },
  {
   "cell_type": "code",
   "execution_count": null,
   "id": "b3b0e588-1a9d-49b2-8c49-83bb1a32fff9",
   "metadata": {},
   "outputs": [],
   "source": [
    "# Create and empty figure - DON'T SPECIFY ANY SHAPE DETAILS ABOUT THE FIGURE\n",
    "fig = plt.figure(figsize=(12,4)) # figsize sets the width by the height\n",
    "\n",
    "# Create grispec object and define each subplot - a different method\n",
    "ncols, nrows = 2,2\n",
    "fig.add_gridspec(ncols=ncols, nrows=nrows, # we use the attribute method to create it\n",
    "                figure=fig) # here we tell grid spec what figure it belongs to\n",
    "\n",
    "# let's add some colors, too\n",
    "colors = [['r','orange'],['y']] # frequently used colors are specified using strings\n",
    "                                # and some can be specified using shorthand single characters \n",
    "\n",
    "# Now we directly add the subplots\n",
    "for ax_j in range(ncols):\n",
    "        ax = fig.add_subplot(spec[0,ax_j])\n",
    "\n",
    "        \n",
    "        ax.plot(fake_data,\n",
    "                color=colors[0][ax_j],\n",
    "                \n",
    "                # we're just going to throw in some example changes here\n",
    "                marker='o', # adding circles to the lines\n",
    "                alpha=0.2 # changes the opacity (values between 0 and 1)\n",
    "                )\n",
    "        \n",
    "        # we can decorate specific axes\n",
    "        ax.set_xlabel('X-axis')\n",
    "        ax.set_xlim([0,1000])\n",
    "        \n",
    "        if ax_j==0:\n",
    "            ax.set_ylabel('Y-axis',size='xx-large')\n",
    "            \n",
    "        if ax_i==0:\n",
    "            ax.set_title('The Same Fake Data')\n",
    "            \n",
    "        ax.set_yticks([0,0.5,1.0])\n",
    "        ax.set_yticklabels(['0','1/2','1'])\n",
    "        \n",
    "# bottom row       \n",
    "ax_bot = fig.add_subplot(spec[1,:])\n",
    "ax_bot.plot(fake_data,\n",
    "                color=colors[1][0],\n",
    "                \n",
    "                # we're just going to throw in some example changes here\n",
    "                marker='o', # adding circles to the lines\n",
    "                alpha=0.2 # changes the opacity (values between 0 and 1)\n",
    "                )\n",
    "\n",
    "ax_bot.set_xlabel('X-axis')\n",
    "ax_bot.set_yticks([0,0.5,1.0])\n",
    "ax_bot.set_yticklabels(['0','1/2','1','3/2','2'])\n",
    "ax_bot.set_ylim(top=2.05) \n",
    "\n",
    "        \n",
    "        \n",
    "plt.suptitle('A Somewhat Elaborate Plot')\n",
    "\n",
    "\n",
    "plt.tight_layout(); # similar to \"constrained_layout\""
   ]
  },
  {
   "cell_type": "markdown",
   "id": "924281b3-1007-4b23-b49b-4b9a889da985",
   "metadata": {},
   "source": [
    "## Basic of Pandas\n",
    "\n",
    "<b>Pandas</b> is a Python library for high-level data structures and data minipulation.\n",
    "\n",
    "This includes:\n",
    "> + loading/saving data\n",
    "> + filtering, selecting, grouping functions\n",
    "> + basic data exploration\n",
    "> + plotting and visualization\n",
    "\n",
    "Pandas is built around two data structures: \n",
    "> + Series objects, and \n",
    "> + DataFrame objects\n",
    "\n",
    "Pandas is just not Zen (https://twitter.com/tymwol/status/1390281948564701184). So we will really just take a very brief glimpse at its functionality. You'll discover your own way of working with Pandas, though."
   ]
  },
  {
   "cell_type": "markdown",
   "id": "bbc141f6-cebc-4c53-aac8-6834f2964b63",
   "metadata": {},
   "source": [
    "### The Series and DataFrame"
   ]
  },
  {
   "cell_type": "code",
   "execution_count": null,
   "id": "01039332-018d-4a94-878f-81a2b0d8c848",
   "metadata": {},
   "outputs": [],
   "source": [
    "example = {'order' : [0,1,2,23,24,25],\n",
    "           'alphabet' : ['a','b','c','x','y','z']}\n",
    "\n",
    "df = pd.DataFrame(example) # notice that D and F are capitalize\n",
    "\n",
    "df"
   ]
  },
  {
   "cell_type": "code",
   "execution_count": null,
   "id": "dbe70806-6ac8-4b73-8a1f-cb668bc2f180",
   "metadata": {},
   "outputs": [],
   "source": [
    "df.index # [0,6) by 1"
   ]
  },
  {
   "cell_type": "code",
   "execution_count": null,
   "id": "af999294-0126-4353-aabf-c9d562540b38",
   "metadata": {},
   "outputs": [],
   "source": [
    "df.columns # column is essentially a list so can have mixed built-in types, \n",
    "        #  here we just have strings"
   ]
  },
  {
   "cell_type": "markdown",
   "id": "0225871f-be81-4876-bf58-c36e7519370a",
   "metadata": {},
   "source": [
    "### Filtering by columns"
   ]
  },
  {
   "cell_type": "code",
   "execution_count": null,
   "id": "d76b8d04-cd5e-4a05-8c9f-3c91cbf3b4cc",
   "metadata": {},
   "outputs": [],
   "source": [
    "# we can select columns\n",
    "print(df['order'])\n",
    "\n",
    "print('Type =',type(df.order)) # every column in a DataFrame is a Series"
   ]
  },
  {
   "cell_type": "code",
   "execution_count": null,
   "id": "58b5a853-73e1-4c1f-ac03-9d7174a0b93c",
   "metadata": {},
   "outputs": [],
   "source": [
    "example['order']\n",
    "\n"
   ]
  },
  {
   "cell_type": "code",
   "execution_count": null,
   "id": "698d10bf-c27c-4577-ad87-ab028e8e7d26",
   "metadata": {},
   "outputs": [],
   "source": [
    "series = pd.Series(example['order'])\n",
    "\n",
    "series # this is the same as above, but has \n",
    "       # no Name associated with it"
   ]
  },
  {
   "cell_type": "markdown",
   "id": "301cc956-b872-49bd-95df-6167ebb7a5de",
   "metadata": {},
   "source": [
    "### Columns (and rows) can be Numpy arrays or Lists depending on needs"
   ]
  },
  {
   "cell_type": "code",
   "execution_count": null,
   "id": "e119de9b-bd48-4c54-9477-8a54fe027c84",
   "metadata": {},
   "outputs": [],
   "source": [
    "np.array(df['order']), df['order'].values # second is Pandas function and preferred\n"
   ]
  },
  {
   "cell_type": "code",
   "execution_count": null,
   "id": "ec8892a3-109c-467c-a0b9-e0ccb8909932",
   "metadata": {},
   "outputs": [],
   "source": [
    "df['alphabet'].tolist(), list(df['alphabet'])"
   ]
  },
  {
   "cell_type": "markdown",
   "id": "ddbd024f-df7b-4dbc-a132-95e4bf7e730c",
   "metadata": {},
   "source": [
    "### Filtering rows"
   ]
  },
  {
   "cell_type": "code",
   "execution_count": null,
   "id": "f867d880-68b0-48c6-9656-c7fd5ec675b6",
   "metadata": {},
   "outputs": [],
   "source": [
    "# we can also select rows\n",
    "df.loc[1] # returns row values for row with index LABELED as 1\n"
   ]
  },
  {
   "cell_type": "code",
   "execution_count": null,
   "id": "a9b22435-856b-4da4-88a3-b3c0b0e1bf2a",
   "metadata": {},
   "outputs": [],
   "source": [
    "df.iloc[1] # returns row values for row in index POSITION 1\n"
   ]
  },
  {
   "cell_type": "markdown",
   "id": "70ac7463-e312-43ce-b8bf-686b3d009ab9",
   "metadata": {},
   "source": [
    "### Selecting values"
   ]
  },
  {
   "cell_type": "code",
   "execution_count": null,
   "id": "08af7718-290d-41a9-b196-19efc28ee265",
   "metadata": {},
   "outputs": [],
   "source": [
    "df['alphabet'][0], df['alphabet'].iloc[0], df['alphabet'].loc[0]\n"
   ]
  },
  {
   "cell_type": "markdown",
   "id": "f6feeea7-1ec7-4468-b5ed-76221ae23213",
   "metadata": {},
   "source": [
    "### Loading data\n",
    "\n",
    "There are methods for reading several different data formats"
   ]
  },
  {
   "cell_type": "code",
   "execution_count": null,
   "id": "ef3ee0a5-eca3-4bf7-9ca5-55d95799568d",
   "metadata": {},
   "outputs": [],
   "source": [
    "print(dir(pd)) # recall dir gives us everything in the namespace \n"
   ]
  },
  {
   "cell_type": "code",
   "execution_count": null,
   "id": "a52afd7e-99b5-458a-8b6e-4befd5a07b16",
   "metadata": {},
   "outputs": [],
   "source": [
    "# Examples of loading\n",
    "load_list = [x for x in dir(pd) if 'read' in x]\n",
    "\n",
    "for method in load_list:\n",
    "    print(method)\n",
    "\n"
   ]
  },
  {
   "cell_type": "markdown",
   "id": "b31140be-cd4a-42da-8042-e6393e764c1c",
   "metadata": {},
   "source": [
    "### Reading a specific file"
   ]
  },
  {
   "cell_type": "code",
   "execution_count": null,
   "id": "3e530715-a6ed-43b5-8aeb-616e84023f14",
   "metadata": {},
   "outputs": [],
   "source": [
    "path_to_dir = os.getcwd()\n",
    "path_to_data = 'exercise_data'\n",
    "filename = 'pokemon_alopez247.csv'\n",
    "\n",
    "# join paths \n",
    "f = os.path.join(path_to_dir,path_to_data,filename)\n",
    "\n",
    "print(f)\n",
    "\n"
   ]
  },
  {
   "cell_type": "code",
   "execution_count": null,
   "id": "d434a097-6726-4f4b-a356-70a7a9a24d5e",
   "metadata": {},
   "outputs": [],
   "source": [
    "help(pd.read_csv)\n",
    "\n"
   ]
  },
  {
   "cell_type": "code",
   "execution_count": null,
   "id": "657460fd-1455-4d62-84d0-0585c45d5857",
   "metadata": {},
   "outputs": [],
   "source": [
    "pokemon_df = pd.read_csv(f) # data is read"
   ]
  },
  {
   "cell_type": "markdown",
   "id": "2ae48562-dd9c-411f-b6d5-34fdecdb18cb",
   "metadata": {},
   "source": [
    "### Let's take look at the data"
   ]
  },
  {
   "cell_type": "code",
   "execution_count": null,
   "id": "75a11f5e-2bf4-4bc0-989a-d1345bf0366d",
   "metadata": {},
   "outputs": [],
   "source": [
    "pokemon_df.head() # first 5"
   ]
  },
  {
   "cell_type": "code",
   "execution_count": null,
   "id": "20ad5445-2ffd-4639-b79d-2a15cbb84b92",
   "metadata": {},
   "outputs": [],
   "source": [
    "pokemon_df.tail(15) # last 15"
   ]
  },
  {
   "cell_type": "code",
   "execution_count": null,
   "id": "93053afa-4912-420a-ab1b-2a104e13373b",
   "metadata": {},
   "outputs": [],
   "source": [
    "# Do we have missing data in one of our columns\n",
    "pokemon_df.isnull().values.any()\n",
    "\n"
   ]
  },
  {
   "cell_type": "code",
   "execution_count": null,
   "id": "7a2d38ec-6812-4634-9c91-6584baf3c2cb",
   "metadata": {},
   "outputs": [],
   "source": [
    "# How many and where?\n",
    "total = 0\n",
    "columns_with_nans = []\n",
    "\n",
    "for column in pokemon_df.columns.tolist():\n",
    "    \n",
    "    nan_count = len([val for val in pokemon_df[column].tolist() if val is np.nan])\n",
    "    \n",
    "    if bool(nan_count):\n",
    "        total += nan_count\n",
    "\n",
    "        columns_with_nans.append(column)\n",
    "    \n",
    "print('Total Missing =',total,'\\nMissing Cols : ',columns_with_nans)"
   ]
  },
  {
   "cell_type": "markdown",
   "id": "53855f91-e91a-45f9-a6e7-a2a021b5c967",
   "metadata": {},
   "source": [
    "### Quick summary of data"
   ]
  },
  {
   "cell_type": "code",
   "execution_count": null,
   "id": "0f67c408-29de-45af-ae9e-a1c4dadf2b32",
   "metadata": {},
   "outputs": [],
   "source": [
    "pokemon_df.describe()\n",
    "\n"
   ]
  },
  {
   "cell_type": "markdown",
   "id": "4aa9f594-8e4d-43de-96b6-d0882acedb25",
   "metadata": {},
   "source": [
    "### Visualizing data is built into Pandas"
   ]
  },
  {
   "cell_type": "code",
   "execution_count": null,
   "id": "a84a49bc-38bc-4ce5-a148-d841953cdb59",
   "metadata": {},
   "outputs": [],
   "source": [
    "x1 = pokemon_df['HP'].values\n",
    "x2 = pokemon_df['Defense'].values\n",
    "x3 = pokemon_df['Sp_Def'].values\n",
    "\n",
    "# Option 1 - Pyplot.plot\n",
    "plt.plot(x1,x2,marker='.',linestyle='none')"
   ]
  },
  {
   "cell_type": "code",
   "execution_count": null,
   "id": "c952812c-ffbe-4891-87f1-62a2594f361a",
   "metadata": {},
   "outputs": [],
   "source": [
    "# Option 2 - Pyplot.scatter\n",
    "plt.scatter(x1,x2)\n",
    "\n"
   ]
  },
  {
   "cell_type": "code",
   "execution_count": null,
   "id": "8429ca1c-773d-45a9-bef7-bef4e6ecbc3f",
   "metadata": {},
   "outputs": [],
   "source": [
    "# Option 3 - Pandas\n",
    "pokemon_df.plot.scatter(x='Sp_Def',y='Defense')\n",
    "\n"
   ]
  },
  {
   "cell_type": "markdown",
   "id": "1652ca00-4a9e-4b63-90fd-7584d432aca3",
   "metadata": {},
   "source": [
    "> <b>Note</b>: Some visualization packages utilize Pandas DataFrames!"
   ]
  },
  {
   "cell_type": "code",
   "execution_count": null,
   "id": "2af0b9a6-a694-4857-9f0f-12b70a862232",
   "metadata": {},
   "outputs": [],
   "source": [
    "# ... Option 4 - Seaborn\n",
    "import seaborn as sns # this is a Python joke, but has become standard\n",
    "                      # stands for Samuel Norman \"Sam\" Seaborn\n",
    "                      # A character in The West Wing?"
   ]
  },
  {
   "cell_type": "code",
   "execution_count": null,
   "id": "d1ed29fd-e395-413b-895c-91c473467df1",
   "metadata": {},
   "outputs": [],
   "source": [
    "# Option 4 - Pandas\n",
    "pokemon_df.plot.scatter(x='Sp_Def',y='Defense')\n",
    "\n"
   ]
  },
  {
   "cell_type": "code",
   "execution_count": null,
   "id": "bb95b361-25e4-4988-8c32-7d6323623d08",
   "metadata": {},
   "outputs": [],
   "source": [
    "# Now all together\n",
    "df = pokemon_df[['HP','Defense','Sp_Def']] # another way to filer\n",
    "\n",
    "fig, axs = plt.subplots(3,3,figsize=(10,10))\n",
    "axs = axs.ravel()\n",
    "columns = df.columns.tolist()\n",
    "col_x_col = [(col_1,col_2) for col_1 in columns for col_2 in columns]\n",
    "\n",
    "for i, (ax,col_pair) in enumerate(zip(axs,col_x_col)):\n",
    "    \n",
    "    if i in [0,4,8]:\n",
    "        vals = df[col_pair[0]].values\n",
    "        ax.hist(vals)\n",
    "    else:\n",
    "        sns.scatterplot(x=col_pair[0],y=col_pair[1],data=df,ax=ax)\n",
    "\n"
   ]
  },
  {
   "cell_type": "code",
   "execution_count": null,
   "id": "44217e3f-f9c2-481c-a38e-290fa06cb8e1",
   "metadata": {},
   "outputs": [],
   "source": [
    "# wow... this is way easier\n",
    "sns.pairplot(df);"
   ]
  },
  {
   "cell_type": "markdown",
   "id": "2caecf50-50fd-4240-be4c-ee407c75e884",
   "metadata": {},
   "source": [
    "### GroupBy for quick data exploration\n",
    "\n",
    "The GroupBy instance method let's us partition a DataFrame by desireable characteristics (the column descriptors or categorical metadata stored in the columns)."
   ]
  },
  {
   "cell_type": "code",
   "execution_count": null,
   "id": "f57cf528-d2f2-4de2-a2eb-95213f940a14",
   "metadata": {},
   "outputs": [],
   "source": [
    "grouped_means_df = pokemon_df.groupby('Type_1')[['HP','Defense','Sp_Def']].mean()\n",
    "\n"
   ]
  },
  {
   "cell_type": "code",
   "execution_count": null,
   "id": "687d3682-9d4e-4f38-9324-b3af8922c7bf",
   "metadata": {},
   "outputs": [],
   "source": [
    "grouped_means_df\n",
    "\n"
   ]
  },
  {
   "cell_type": "markdown",
   "id": "e31f3dd8-1e6c-4f52-87e5-4ccbc1c94c6a",
   "metadata": {},
   "source": [
    "## Let's practice with the Data Exercise I"
   ]
  },
  {
   "cell_type": "code",
   "execution_count": null,
   "id": "7f66e946-448e-4c6c-a57b-bdf25d1db179",
   "metadata": {},
   "outputs": [],
   "source": []
  }
 ],
 "metadata": {
  "kernelspec": {
   "display_name": "n_prof",
   "language": "python",
   "name": "n_prof"
  },
  "language_info": {
   "codemirror_mode": {
    "name": "ipython",
    "version": 3
   },
   "file_extension": ".py",
   "mimetype": "text/x-python",
   "name": "python",
   "nbconvert_exporter": "python",
   "pygments_lexer": "ipython3",
   "version": "3.7.9"
  }
 },
 "nbformat": 4,
 "nbformat_minor": 5
}
