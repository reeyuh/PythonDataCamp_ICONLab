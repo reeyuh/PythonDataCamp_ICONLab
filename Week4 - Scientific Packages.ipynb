{
 "cells": [
  {
   "cell_type": "markdown",
   "id": "06038d59-4c73-43c2-9e84-f8fc9fa1c2a6",
   "metadata": {},
   "source": [
    "<center><h1> Introduction to Scientific Packages I (Numpy and Matplotlib) </h1></center>\n",
    "\n",
    "\n",
    "> We will cover:\n",
    "> 1. What are Packages and Modules\n",
    "> 2. Importing modules\n",
    "> 3. Basics of Numpy\n",
    ">> - Arrays\n",
    ">> - Functions that create arrays\n",
    ">> - Indexing and Slicing\n",
    ">> - Math operations with arrays (array-wise vs element-wise)\n",
    ">> - More advanced math operations\n",
    ">> - Boolean operations and masking\n",
    ">> - Fancy indexing\n",
    "> 4. Basics of Matplotlib\n",
    ">> - The basic plot\n",
    ">> - Subplots and Axis elements\n",
    ">> - More advanced plots\n",
    ">> - Scatter plots\n",
    "> 5. Apply Numpy and Matplotlib to visualize neural data\n",
    ">> - Timeseries/Line plot\n",
    ">> - Raster plot\n",
    ">> - Rate time histogram\n",
    ">> - Adding markers for emphasis\n",
    ">> - Create stimulus interval plot\n",
    ">> - Combine them using subplots\n",
    ">> - Editting limit axes for visualization\n"
   ]
  },
  {
   "cell_type": "markdown",
   "id": "6d5e4d74-f852-4132-881e-10a556aa0e99",
   "metadata": {},
   "source": [
    "## Packages and Modules\n",
    "Python uses \"modules\" or \"packages\" that can consist of libraries of different premade and optimized functions that you can use. The number of functions can be overwhelming but each library also has documentation that you can find at their websites. We will be working with data that I've preprocessed and focusing on loading data, data transformations, and visualization of data for now. We will move to analysis later. This can be handled with a small number of packages that I've included in the next cell.\n",
    "\n",
    "Visual analysis of raw data helps us build an intuition of phenomena that may be there. If we have sufficient domain knowledge, we can direct our deeper analyses based on our intuitions after just looking at the raw data. This also important when working with physiologists who want to see an observed phenomenon first before more abstract analyses.\n",
    "\n",
    "\n",
    "<u>List of main modules of interest</u>:\n",
    "> <b>NumPy</b> : Essential functions for scientific programming. Very efficient for manipulating data vectors or \"arrays\". Much like Matlab if you're familiar. This package will be your most widely used package for data science in neuroscience. Most other scientific packages are supported by Numpy for their basic functionality making Numpy a necessary package to be familiar with. (http://www.numpy.org)\n",
    "\n",
    "> <b>Matplotlib</b> : High-quality 2D charting library that has functions taking data arrays as inputs and returning figures. Also, allows us to focus on visual effects like colors or spacing an an abstract level. (https://matplotlib.org)\n",
    "\n",
    "\n",
    "<u>List of other included modules</u>:\n",
    "> <b>Pandas</b> : Used for data analysis and making tabular data structures with mixed data types. Organizes everything visually into tables which can be useful if you get lost in what's stored where. (This will only be used behind the scenes in this lesson, https://pandas.pydata.org)\n",
    "\n",
    "> <b>OS</b> : Standard input-output functions for accessing and saving files on your operating system. (https://docs.python.org/3/library/os.html)\n",
    "\n",
    "\n",
    "\n",
    "Essentially modules are used by specifiying a package <i>object</i>'s name (e.g., numpy) then an <i>attribute</i> (e.g, functions like numpy.ones() which makes a 1D vector or n-dimensional matrix). We can shorten function calls by storing an abbreviated module name, for example numpy as np so that we can use np.ones() instead. It's not necessary, but common practice so that your code can be read easily by others."
   ]
  },
  {
   "cell_type": "markdown",
   "id": "a2772a0f-f46c-47ef-8743-82eb5470ea89",
   "metadata": {},
   "source": [
    "## Importing Modules"
   ]
  },
  {
   "cell_type": "code",
   "execution_count": null,
   "id": "dfb57dd3-7971-4ff8-bcd4-95a6cea28057",
   "metadata": {},
   "outputs": [],
   "source": [
    "# importing the whole package\n",
    "import brain_package\n",
    "import brain_package as bp\n",
    "\n",
    "# importing modules within the package\n",
    "import brain_package.utils as utils\n",
    "from brain_package import utils\n",
    "from brain_package.utils import * # importing all functions within the module\n"
   ]
  },
  {
   "cell_type": "code",
   "execution_count": null,
   "id": "c1c27aed-4bd9-43be-863c-eab60930d590",
   "metadata": {},
   "outputs": [],
   "source": [
    "dir(brain_package)"
   ]
  },
  {
   "cell_type": "code",
   "execution_count": null,
   "id": "1b90f8c2-6064-46b7-852a-8e7c05cf4d69",
   "metadata": {},
   "outputs": [],
   "source": [
    "dir(bp)"
   ]
  },
  {
   "cell_type": "code",
   "execution_count": null,
   "id": "699d6c27-66e0-45dc-9885-b04004236e38",
   "metadata": {},
   "outputs": [],
   "source": [
    "help(utils)"
   ]
  },
  {
   "cell_type": "markdown",
   "id": "e68650a7-111f-449a-a87a-6f1c3bed20bf",
   "metadata": {},
   "source": [
    "> Let's import the modules we need for the rest of this tutorial now."
   ]
  },
  {
   "cell_type": "code",
   "execution_count": null,
   "id": "eea3e442-11d6-4a61-a575-8737ff362c2d",
   "metadata": {},
   "outputs": [],
   "source": [
    "# Import modules - stylistically, these are kept somewhere near the top of your file and group together\n",
    "import numpy as np\n",
    "\n",
    "import matplotlib.pyplot as plt \n",
    "# the percent sign below is something called Jupyter magic making the Jupyter Notebook interactive\n",
    "# - (In this case, just plotting figures inside the notebook.)\n",
    "%matplotlib inline \n"
   ]
  },
  {
   "cell_type": "markdown",
   "id": "a0c4da1d-84a8-4b5e-a637-67e551d212ee",
   "metadata": {},
   "source": [
    "## Basics of Numpy\n",
    "> Write stuff\n",
    ">\n",
    "> Give a list of all modules in Numpy\n",
    "\n",
    "### What are arrays?\n",
    "***Arrays*** are a very useful concept shared by many programming languages. Arrays are:\n",
    "\n",
    "<ol>\n",
    "<li>Containers that hold many items, all of the same type. \n",
    "<li>Represented by a rectangular structure. Arrays may have any number of dimensions, but each dimension (axis) of the array has a fixed length.\n",
    "</ol>\n",
    "\n",
    "For example:\n",
    "\n",
    "<ul>\n",
    "<li>A 1D array of 10M samples recorded from an electrode that shows electical potential over time\n",
    "\n",
    "<table style='margin: 10px; margin-left: 50px; background-color: #FFF'>\n",
    "<tr><td style=\"background-color: #fff; border: 1px solid #000;\">0.0531</td style=\"background-color: #fff; border: 1px solid #000;\"><td style=\"background-color: #fff; border: 1px solid #000;\">0.0547</td style=\"background-color: #fff; border: 1px solid #000;\"><td style=\"background-color: #fff; border: 1px solid #000;\">0.0522</td style=\"background-color: #fff; border: 1px solid #000;\"><td style=\"background-color: #fff; border: 1px solid #000;\">0.0525</td style=\"background-color: #fff; border: 1px solid #000;\"><td style=\"background-color: #fff; border: 1px solid #000;\">0.0536</td style=\"background-color: #fff; border: 1px solid #000;\"><td style=\"background-color: #fff; border: 1px solid #000;\">0.0531</td style=\"background-color: #fff; border: 1px solid #000;\"><td style=\"background-color: #fff; border: 1px solid #000;\">&nbsp;&nbsp;.&nbsp;&nbsp;&nbsp;.&nbsp;&nbsp;&nbsp;.&nbsp;&nbsp;</td style=\"background-color: #fff; border: 1px solid #000;\"><td style=\"background-color: #fff; border: 1px solid #000;\">0.0530</td style=\"background-color: #fff; border: 1px solid #000;\"></tr>\n",
    "</table>\n",
    "\n",
    "<li>A 5x5 (2D) matrix\n",
    "\n",
    "<table style='margin: 10px; margin-left: 50px'>\n",
    "<tr><td style=\"background-color: #fff; border: 1px solid #000;\">&nbsp;1&nbsp;</td style=\"background-color: #fff; border: 1px solid #000;\"><td style=\"background-color: #fff; border: 1px solid #000;\">&nbsp;0&nbsp;</td style=\"background-color: #fff; border: 1px solid #000;\"><td style=\"background-color: #fff; border: 1px solid #000;\">&nbsp;0&nbsp;</td style=\"background-color: #fff; border: 1px solid #000;\"><td style=\"background-color: #fff; border: 1px solid #000;\">&nbsp;0&nbsp;</td style=\"background-color: #fff; border: 1px solid #000;\"><td style=\"background-color: #fff; border: 1px solid #000;\">&nbsp;0&nbsp;</td style=\"background-color: #fff; border: 1px solid #000;\"></tr>\n",
    "<tr><td style=\"background-color: #fff; border: 1px solid #000;\">&nbsp;0&nbsp;</td style=\"background-color: #fff; border: 1px solid #000;\"><td style=\"background-color: #fff; border: 1px solid #000;\">&nbsp;1&nbsp;</td style=\"background-color: #fff; border: 1px solid #000;\"><td style=\"background-color: #fff; border: 1px solid #000;\">&nbsp;0&nbsp;</td style=\"background-color: #fff; border: 1px solid #000;\"><td style=\"background-color: #fff; border: 1px solid #000;\">&nbsp;0&nbsp;</td style=\"background-color: #fff; border: 1px solid #000;\"><td style=\"background-color: #fff; border: 1px solid #000;\">&nbsp;0&nbsp;</td style=\"background-color: #fff; border: 1px solid #000;\"></tr>\n",
    "<tr><td style=\"background-color: #fff; border: 1px solid #000;\">&nbsp;0&nbsp;</td style=\"background-color: #fff; border: 1px solid #000;\"><td style=\"background-color: #fff; border: 1px solid #000;\">&nbsp;0&nbsp;</td style=\"background-color: #fff; border: 1px solid #000;\"><td style=\"background-color: #fff; border: 1px solid #000;\">&nbsp;1&nbsp;</td style=\"background-color: #fff; border: 1px solid #000;\"><td style=\"background-color: #fff; border: 1px solid #000;\">&nbsp;0&nbsp;</td style=\"background-color: #fff; border: 1px solid #000;\"><td style=\"background-color: #fff; border: 1px solid #000;\">&nbsp;0&nbsp;</td style=\"background-color: #fff; border: 1px solid #000;\"></tr>\n",
    "<tr><td style=\"background-color: #fff; border: 1px solid #000;\">&nbsp;0&nbsp;</td style=\"background-color: #fff; border: 1px solid #000;\"><td style=\"background-color: #fff; border: 1px solid #000;\">&nbsp;0&nbsp;</td style=\"background-color: #fff; border: 1px solid #000;\"><td style=\"background-color: #fff; border: 1px solid #000;\">&nbsp;0&nbsp;</td style=\"background-color: #fff; border: 1px solid #000;\"><td style=\"background-color: #fff; border: 1px solid #000;\">&nbsp;1&nbsp;</td style=\"background-color: #fff; border: 1px solid #000;\"><td style=\"background-color: #fff; border: 1px solid #000;\">&nbsp;0&nbsp;</td style=\"background-color: #fff; border: 1px solid #000;\"></tr>\n",
    "<tr><td style=\"background-color: #fff; border: 1px solid #000;\">&nbsp;0&nbsp;</td style=\"background-color: #fff; border: 1px solid #000;\"><td style=\"background-color: #fff; border: 1px solid #000;\">&nbsp;0&nbsp;</td style=\"background-color: #fff; border: 1px solid #000;\"><td style=\"background-color: #fff; border: 1px solid #000;\">&nbsp;0&nbsp;</td style=\"background-color: #fff; border: 1px solid #000;\"><td style=\"background-color: #fff; border: 1px solid #000;\">&nbsp;0&nbsp;</td style=\"background-color: #fff; border: 1px solid #000;\"><td style=\"background-color: #fff; border: 1px solid #000;\">&nbsp;1&nbsp;</td style=\"background-color: #fff; border: 1px solid #000;\"></tr>\n",
    "</table>"
   ]
  },
  {
   "cell_type": "code",
   "execution_count": null,
   "id": "d62d9097-2421-4197-a767-67504034f2cb",
   "metadata": {},
   "outputs": [],
   "source": [
    "# we can test the performance with the time module \n",
    "from time import perf_counter # don't worry about this!\n",
    "import random # useful for getting random numbers\n",
    "\n"
   ]
  },
  {
   "cell_type": "code",
   "execution_count": null,
   "id": "8a8eb610-cbcc-4008-969c-6901966aea13",
   "metadata": {},
   "outputs": [],
   "source": [
    "# Recall that arrays are similar to lists. Lists can have a several elements as a single type\n",
    "# and these can be nested.\n",
    "n_rows = 10\n",
    "n_cols = 12\n",
    "\n",
    "# start timer\n",
    "tic = perf_counter()\n",
    "\n",
    "list_array = []\n",
    "for x in range(n_rows):\n",
    "    row = []\n",
    "    for y in range(n_cols):\n",
    "        row.append(int(10*random.random()))\n",
    "    list_array.append(row)\n",
    "    \n",
    "    \n",
    "# stop timer   \n",
    "toc = perf_counter()\n",
    "print('The list array took %.6f seconds'%(toc-tic))\n",
    "t1 = toc-tic\n",
    "\n",
    "list_array\n",
    "\n"
   ]
  },
  {
   "cell_type": "code",
   "execution_count": null,
   "id": "b821b027-32cc-49c3-a9c0-d72c09dd19cb",
   "metadata": {},
   "outputs": [],
   "source": [
    "list_array[2,0], list_array[0,2] # this doesn't work \n",
    "\n"
   ]
  },
  {
   "cell_type": "code",
   "execution_count": null,
   "id": "ad80b231-2b14-4c42-bd51-a3355a911014",
   "metadata": {},
   "outputs": [],
   "source": [
    "list_array[2][0], list_array[0][2] # which row then which column\n",
    "\n"
   ]
  },
  {
   "cell_type": "code",
   "execution_count": null,
   "id": "c159d408-0cdd-44d6-b022-0943f7ca2375",
   "metadata": {},
   "outputs": [],
   "source": [
    "# operations on this are even more awkward...\n",
    "tic = perf_counter()\n",
    "means = []\n",
    "for y in range(n_cols):\n",
    "    col = [row[y] for row in list_array]\n",
    "    means.append(sum(col)/float(n_rows)) # this may get confusing\n",
    "\n",
    "\n",
    "toc = perf_counter()\n",
    "print('The awkward array took %.6f seconds'%(toc-tic))\n",
    "t2 = toc-tic\n",
    "\n",
    "means\n",
    "\n"
   ]
  },
  {
   "cell_type": "code",
   "execution_count": null,
   "id": "0d005477-1748-41c5-937a-b014e32bd177",
   "metadata": {},
   "outputs": [],
   "source": [
    "# Numpy!\n",
    "\n",
    "tic = perf_counter()\n",
    "array = np.random.randint(10,size=(n_rows, n_cols)) # creates a random array of integers with size n_rows x n_cols and maximum value 10\n",
    "means = array.mean(axis=0) # computes mean over the columns (axis 0)\n",
    "\n",
    "toc = perf_counter()\n",
    "print('The Numpy array took %.6f seconds vs %.6f seconds for list array'%(toc-tic,t1+t2)) # this would scale with the size of the array\n",
    "\n",
    "array, means\n",
    "\n"
   ]
  },
  {
   "cell_type": "code",
   "execution_count": null,
   "id": "7696251b-99bb-4c2d-9c86-5b534b55fe53",
   "metadata": {},
   "outputs": [],
   "source": [
    "# arrays have their own instance attributes (they are a class!)\n",
    "array.ndim, array.shape, array.size, array.itemsize # this last one says that each item uses 8 bytes\n",
    "\n"
   ]
  },
  {
   "cell_type": "code",
   "execution_count": null,
   "id": "f6b204c3-1f5e-4682-92d6-05c5a3e743e1",
   "metadata": {},
   "outputs": [],
   "source": [
    "array.dtype # 64-bit integers\n",
    "\n"
   ]
  },
  {
   "cell_type": "markdown",
   "id": "2fe5e793-1e61-40e8-95c6-d3edb5880aea",
   "metadata": {},
   "source": [
    "> All elements in the array are of the same data type, a 64-bit (8 byte) floating-point number.\n",
    "> \n",
    "> This is the default ***dtype*** in most cases. We may want to change the dtype if we are using large amounts of data and are worried about memory/speed.\n",
    "> \n",
    "> This is a list of the different dtypes, their sizes, the numerical precision, and the range of values they can represent.\n",
    "\n",
    "<table style=\"margin-left: 50px\">\n",
    "<tr><td> dtype  </td><td> bytes     </td><td> precision  </td><td> approx. range       </td></tr>\n",
    "<tr><td>float64 </td><td> 8         </td><td> 16         </td><td> ±10<sup>308</sup>   </td></tr>\n",
    "<tr><td>float32 </td><td> 4         </td><td> 7          </td><td> ±10<sup>38</sup>    </td></tr>\n",
    "<tr><td>int64   </td><td> 8         </td><td> 0          </td><td> ±10<sup>18</sup>    </td></tr>\n",
    "<tr><td>int32   </td><td> 4         </td><td> 0          </td><td> ±10<sup>9</sup>     </td></tr>\n",
    "<tr><td>int16   </td><td> 2         </td><td> 0          </td><td> ±10<sup>4</sup>     </td></tr>\n",
    "<tr><td>uint64  </td><td> 8         </td><td> 0          </td><td> 0 to 10<sup>19</sup></td></tr>\n",
    "<tr><td>uint32  </td><td> 4         </td><td> 0          </td><td> 0 to 10<sup>9</sup> </td></tr>\n",
    "<tr><td>uint16  </td><td> 2         </td><td> 0          </td><td> 0 to 10<sup>4</sup> </td></tr>\n",
    "<tr><td>uint8   </td><td> 1         </td><td> 0          </td><td> 0-255               </td></tr>\n",
    "<tr><td>bool    </td><td> 1         </td><td> 0          </td><td> 0-1                 </td></tr>\n",
    "</table>\n",
    "\n",
    "\n",
    "> All dtypes: https://docs.scipy.org/doc/numpy-1.10.1/user/basics.types.html<br>\n",
    "> All ndarray attributes: https://docs.scipy.org/doc/numpy/reference/generated/numpy.ndarray.html\n",
    "\n",
    "----------------------\n",
    "\n",
    "To convert an array to a different dtype, use the *astype()* method.\n",
    "<div> <!-- NOTE: this div is a workaround for a jupyter HTML export bug --> </div>\n",
    "</div>"
   ]
  },
  {
   "cell_type": "code",
   "execution_count": null,
   "id": "ac205e71-9a94-442a-a6b8-90cf48c6b551",
   "metadata": {},
   "outputs": [],
   "source": [
    "# compare a converted type\n",
    "converted_array = array.astype('int32')\n",
    "\n",
    "print(array.size*array.itemsize, 'bytes >', converted_array.size*converted_array.itemsize, 'bytes')\n",
    "\n"
   ]
  },
  {
   "cell_type": "code",
   "execution_count": null,
   "id": "a6979f0d-ea6e-46b9-ab38-7f4db8fa44d2",
   "metadata": {},
   "outputs": [],
   "source": [
    "# check out others with tab completion\n",
    "array.\n",
    "\n"
   ]
  },
  {
   "cell_type": "markdown",
   "id": "8d6ff19c-2ee0-46bf-a0ef-0e62d6742c21",
   "metadata": {},
   "source": [
    "### Functions that create basic arrays\n"
   ]
  },
  {
   "cell_type": "code",
   "execution_count": null,
   "id": "2c465095-993e-4494-9987-03275fd1c775",
   "metadata": {},
   "outputs": [],
   "source": [
    "# Our nested list can be remade into an array\n",
    "list_to_array = np.array(list_array)\n",
    "\n",
    "list_to_array\n",
    "\n"
   ]
  },
  {
   "cell_type": "markdown",
   "id": "55216196-c617-4f54-86b0-e6486a2a5936",
   "metadata": {},
   "source": [
    "<h1></h1>\n",
    "***Exercise 1*** Create an array with shape (2,3,4). Don't use random. Hardcode the structure of the array."
   ]
  },
  {
   "cell_type": "code",
   "execution_count": null,
   "id": "d957801e-6917-4f14-ab1d-f13478fecb2b",
   "metadata": {},
   "outputs": [],
   "source": [
    "\n",
    "\n",
    "\n",
    "\n",
    "\n",
    "\n",
    "\n",
    "\n",
    "\n",
    "\n",
    "\n",
    "\n",
    "\n",
    "\n"
   ]
  },
  {
   "cell_type": "code",
   "execution_count": null,
   "id": "62f3b3af-fb9a-40a8-8a61-04f50773e180",
   "metadata": {},
   "outputs": [],
   "source": [
    "# creating zeros\n",
    "array1 = np.zeros((2,2),dtype='uint16')\n",
    "\n",
    "# creating ones\n",
    "array2 = np.ones((3,3))\n",
    "\n",
    "# creating zeros with the same shape and type as another array\n",
    "array3 = np.zeros_like(array2)\n",
    "\n",
    "# ... same for ones\n",
    "array4 = np.ones_like(array1)\n",
    "\n"
   ]
  },
  {
   "cell_type": "code",
   "execution_count": null,
   "id": "c4356443-3627-41d8-aefc-eaba8391286b",
   "metadata": {},
   "outputs": [],
   "source": [
    "print('--1--\\n',array1, '\\n--2--\\n',array2, '\\n--3--\\n',array3, '\\n--4--\\n',array4)"
   ]
  },
  {
   "cell_type": "markdown",
   "id": "0ee6feb8-5882-49d6-8664-839804499bfa",
   "metadata": {},
   "source": [
    "> Notice type only appears for the array we set it for and the one we \"copied.\""
   ]
  },
  {
   "cell_type": "code",
   "execution_count": null,
   "id": "dec26b0c-9b2b-4d54-bae4-523723705195",
   "metadata": {},
   "outputs": [],
   "source": [
    "# Numpy preduces iterables too\n",
    "np.arange(4)\n",
    "\n"
   ]
  },
  {
   "cell_type": "code",
   "execution_count": null,
   "id": "d4f7d1ec-4807-46ee-8d5b-8daa5e96042e",
   "metadata": {},
   "outputs": [],
   "source": [
    "np.arange(4,10)\n",
    "\n"
   ]
  },
  {
   "cell_type": "markdown",
   "id": "48be9529-c7a1-409e-b753-a3b720298cd2",
   "metadata": {},
   "source": [
    "### Indexing and slicing arrays\n",
    "> Indexing and slicing are two ways of accessing values from arrays. Both are part of the built-in functionality of Python, but they work slightly differently with Numpy."
   ]
  },
  {
   "cell_type": "code",
   "execution_count": null,
   "id": "07295c15-6177-4e80-8d50-f2f674831cc6",
   "metadata": {},
   "outputs": [],
   "source": [
    "array = np.array([[i for i in range(4)],\n",
    "         [j for j in range(4,8)],\n",
    "         [k for k in range(8,12)]])\n",
    "\n"
   ]
  },
  {
   "cell_type": "code",
   "execution_count": null,
   "id": "70ed42d5-0f58-47e0-acd8-8b2521194226",
   "metadata": {},
   "outputs": [],
   "source": [
    "array.shape"
   ]
  },
  {
   "cell_type": "markdown",
   "id": "a29c8629-f91b-4acd-b086-725a33904a01",
   "metadata": {},
   "source": [
    "### Indexing"
   ]
  },
  {
   "cell_type": "code",
   "execution_count": null,
   "id": "80235ca2-40d6-4ea7-a88e-66a336f66f25",
   "metadata": {},
   "outputs": [],
   "source": [
    "print(array)\n",
    "\n",
    "# reading a single value, we can provide a common separated list\n",
    "print(array[0,3])\n",
    "\n",
    "# ... or similar to how we would with lists - this is not proper, though!\n",
    "print(array[0][3])\n",
    "\n",
    "# we can also change values in an array\n",
    "array[0,3] = -1\n",
    "print(array)\n",
    "\n"
   ]
  },
  {
   "cell_type": "markdown",
   "id": "e2b08410-b008-4b9e-80be-cd110672c6ab",
   "metadata": {},
   "source": [
    "<h1></h1>\n",
    "\n",
    "***Exercise 2*** Create a 2D array of any size. Using a nested for-loop, add the value 3 to all of the elements in the array. "
   ]
  },
  {
   "cell_type": "code",
   "execution_count": null,
   "id": "b83a02c3-e4c4-424f-8da9-d7af1459168e",
   "metadata": {},
   "outputs": [],
   "source": [
    "\n",
    "\n",
    "\n",
    "\n",
    "\n",
    "\n",
    "\n",
    "\n",
    "\n",
    "\n",
    "\n"
   ]
  },
  {
   "cell_type": "markdown",
   "id": "1d57117d-eaa2-4a67-85b4-3192ae22bf31",
   "metadata": {},
   "source": [
    "### Slicing\n",
    "Unlike indexing, slicing an array allows to access rectangular subregions of an array. You will be doing this a lot, particularly when wanting to analyze labeled data!\n",
    "\n",
    "When we access a <i>slice</i> from an array, we aren't just pointing to the data stored in memory. We are creating a COPY of the slice. However when we modify it, we are modifying the new instance and the original instance! This is because Python creates a new object instance  which provides a view onto the original data. \n",
    "\n",
    "One major difference between a ***slice*** and an ***index*** is that a slice maintains the dimensionality of the axes, while indices reduces them. \n",
    "\n",
    "<b>NOTE:</b> BEFORE you run the next cell, let's think about it together."
   ]
  },
  {
   "cell_type": "code",
   "execution_count": null,
   "id": "aec4f4e2-b615-44ec-a7b2-cf617b94fc3d",
   "metadata": {},
   "outputs": [],
   "source": [
    "X = np.random.randint(0,10,size=(100,100,50))\n",
    "\n",
    "# we don't want to look at this whole thing. So let's slice and index it.\n",
    "X_slice = X[:1,-1:,:20]\n",
    "X_index = X[0,-1,:20]\n",
    "\n",
    "print('Slice vs Index \\n--------------')\n",
    "print(X_slice,X_index)\n",
    "\n",
    "# Different addresses\n",
    "print(id(X_slice),id(X_index))\n",
    "\n",
    "# These have the same number of elements\n",
    "print('Number of elements:',X_slice.size,X_index.size)\n",
    "\n",
    "# ... different lengths\n",
    "print('Lengths:',len(X_slice),len(X_index))\n",
    "\n",
    "# ... and only one maintains all axes (even if just flattened)\n",
    "print('Shapes:',X_slice.shape,X_index.shape)\n"
   ]
  },
  {
   "cell_type": "markdown",
   "id": "01172349-bc56-4199-a772-1b74b54016c5",
   "metadata": {},
   "source": [
    "> <b>CAUTIONARY NOTE</b> Always know which you're working with! Array operations are sensitive to shape. Let's look at a confusing example."
   ]
  },
  {
   "cell_type": "code",
   "execution_count": null,
   "id": "a312119b-7f53-43b8-a9b0-89b3a6dd13fb",
   "metadata": {},
   "outputs": [],
   "source": [
    "Y = np.ones((1,1,1))\n",
    "\n",
    "# What happens here...\n",
    "print(Y[0])\n",
    "print(Y[0][0])\n",
    "print(Y[0][0][0])\n",
    "\n",
    "# this is, but looks the same in this ONE specific case\n",
    "print(Y[0,0,0])\n",
    "\n"
   ]
  },
  {
   "cell_type": "code",
   "execution_count": null,
   "id": "e605dfaa-c873-4a93-9bea-55e9d2330f3d",
   "metadata": {},
   "outputs": [],
   "source": [
    "# can also assign values to slices like when we index\n",
    "array = np.arange(10)\n",
    "print(array)\n",
    "\n",
    "new_slice = array[3:7]\n",
    "print(new_slice)\n",
    "\n",
    "# we need to EXPLICITLY work with the slice, not the variable\n",
    "new_slice = -1\n",
    "print(new_slice)\n",
    "\n",
    "# ...so like this\n",
    "array[3:7] = -1\n",
    "print(array)\n",
    "\n"
   ]
  },
  {
   "cell_type": "markdown",
   "id": "902adf14-fd70-47a4-a054-d0ad0d0910f7",
   "metadata": {},
   "source": [
    "### ... and then there are strides."
   ]
  },
  {
   "cell_type": "code",
   "execution_count": null,
   "id": "f455f3ae-9808-4cd3-b285-bfc767dfd752",
   "metadata": {},
   "outputs": [],
   "source": [
    "X = np.arange(11)\n",
    "\n",
    "# The basic layout of the stride for numpy arrays is [low:high:stride size]\n",
    "print('X1:',X)\n",
    "print('X2:',X[0:11:2]) # this third index shows every other\n",
    "print('X3:',X[2::2])   # you don't need the upper bound\n",
    "print('X4:',X[:8:2])   # you don't need the lower bound\n",
    "print('X5:',X[::2])    # you don't actually need anything other than the stride size (NOTE: X5<=>X2)\n",
    "print('X6:',X[2::])    # this is the same as the next\n",
    "print('X7:',X[2:])     # ... so default high is the size of the axis and default stride is 1"
   ]
  },
  {
   "cell_type": "markdown",
   "id": "98f533ae-5bee-4724-8e58-2117aa97b732",
   "metadata": {},
   "source": [
    "### Math operations with arrays \n",
    "\n",
    "***\"Array-wise\"***\n",
    "These are your conventional operations you may be familiar with from linear algebra. Multiplying two arrays (with the appropriate dimensions) produces inner and outer products, i.e., another array or a float. \n",
    "\n",
    "\n",
    "***Element-wise***\n",
    "These operations apply to each of the elements independently. The operations could be identical or depend on the position within the array.\n",
    "\n",
    "Let's look at our nested for-loop exercise again."
   ]
  },
  {
   "cell_type": "code",
   "execution_count": null,
   "id": "2f376201-5ebf-439b-af69-a39a1c6c83de",
   "metadata": {},
   "outputs": [],
   "source": [
    "array = np.array([[i for i in range(4)],\n",
    "         [j for j in range(4,8)],\n",
    "         [k for k in range(8,12)]])\n",
    "\n",
    "print(array,'\\n|->')\n",
    "print(array+3,'\\n<-|') # three is added element-wise\n",
    "print(array)\n",
    "array+=3 # if we want to edit it in-place\n",
    "print(array) \n"
   ]
  },
  {
   "cell_type": "code",
   "execution_count": null,
   "id": "0f08c2a9-893d-4437-b519-246e6bbbbfc4",
   "metadata": {},
   "outputs": [],
   "source": [
    "# We can add two arrays together\n",
    "array1 = np.arange(-4,1)\n",
    "array2 = np.arange(0,3) # run next cell, then change this\n"
   ]
  },
  {
   "cell_type": "code",
   "execution_count": null,
   "id": "8535e351-ebfd-4af0-bf62-daf297f0491d",
   "metadata": {},
   "outputs": [],
   "source": [
    "# this only works if both the arrays have the same shape\n",
    "array1 + array2\n"
   ]
  },
  {
   "cell_type": "markdown",
   "id": "d31f3702-e706-4236-93dd-b70dd2875935",
   "metadata": {},
   "source": [
    "<h1></h1>\n",
    "\n",
    "***Exercise 3*** Create an array that has values that are 1 less than powers of 3 for exponents ranging from 0 to 10.  (The only function you need is numpy.arange!!!)"
   ]
  },
  {
   "cell_type": "code",
   "execution_count": null,
   "id": "01c0b5cf-cd41-4e88-b10b-d66a962d5b33",
   "metadata": {},
   "outputs": [],
   "source": [
    "\n",
    "\n",
    "\n",
    "\n",
    "\n",
    "\n"
   ]
  },
  {
   "cell_type": "code",
   "execution_count": null,
   "id": "1db8a899-0c01-4951-a8f8-f08df8abe372",
   "metadata": {},
   "outputs": [],
   "source": [
    "# element wise arithmetic works for multiplication as well\n",
    "print('Multiplication:',array1*array2) # NOTE: this is not the dot product\n",
    "\n",
    "# also for division\n",
    "print('Division:',array1/array2)\n",
    "\n",
    "# be careful not to divide by zero\n",
    "array2+=1 \n",
    "print('Division:',array1/array2)\n",
    "\n"
   ]
  },
  {
   "cell_type": "code",
   "execution_count": null,
   "id": "4d4793c8-3b9a-4c28-9b10-afcc9946a648",
   "metadata": {},
   "outputs": [],
   "source": [
    "# These works for a single array, too\n",
    "array1*=2\n",
    "print(array1)\n",
    "\n",
    "# NOTE: /= doesn't actually work for arrays, but does for floats\n",
    "array2 = np.arange(0,5)\n",
    "array2/=2 \n",
    "# array2 = array2/2\n",
    "print(array2)"
   ]
  },
  {
   "cell_type": "markdown",
   "id": "7b684461-d819-4528-b5ba-8eaaba8d2208",
   "metadata": {},
   "source": [
    "### More advanced math operations with arrays"
   ]
  },
  {
   "cell_type": "code",
   "execution_count": null,
   "id": "5f79a239-daa0-4751-b687-f6189a9cd22e",
   "metadata": {},
   "outputs": [],
   "source": [
    "# this is an array of values from a continuous uniform distribution\n",
    "# between -5 and 5 (i.e., centered at 0)\n",
    "array = 10*np.random.random(size=(10,10))-5\n",
    "\n",
    "# we have basic stats as instance methods\n",
    "print('mean:',array.mean())\n",
    "print('std:',array.std())\n",
    "print('min:',array.min())\n",
    "print('max:',array.max())\n",
    "\n",
    "# we have other math functions\n",
    "print('median:',np.median(array))\n",
    "print('sum:',np.sum(array))\n",
    "print('index of max value:',np.argmax(array))\n",
    "print('index of min value',np.argmin(array))\n",
    "print('array with only non-negative values:',np.abs(array[:4,0]))\n",
    "\n",
    "# NOTE: This one is niche, but useful in neuroscience. Can you think of an example?\n",
    "simple_array = np.arange(5)\n",
    "print('increment sizes:',np.diff(simple_array)) # this one returns an array with elements \n",
    "                             # that are the difference between adjacent elements\n",
    "                             "
   ]
  },
  {
   "cell_type": "code",
   "execution_count": null,
   "id": "7ba8ee7b-3e0e-4a47-9917-89db08a08939",
   "metadata": {},
   "outputs": [],
   "source": [
    "# anothe useful math related function is linspace. If you use matlab this should be familiar to youy"
   ]
  },
  {
   "cell_type": "markdown",
   "id": "b0c63d67-a01f-4250-be62-c63a3ff4cea8",
   "metadata": {},
   "source": [
    "### Boolean operations and masking\n",
    "\n",
    "> Using boolean operations allows us to set true-false conditions for how we index an array. Numpy has several useful ways of doing this. Let's start with the simplest.\n"
   ]
  },
  {
   "cell_type": "code",
   "execution_count": null,
   "id": "7dbb25b4-0502-4ffc-b55d-6a0e7d2d84cd",
   "metadata": {},
   "outputs": [],
   "source": [
    "truth_array = np.array([[True, False, False, True, False],\n",
    "  [False, False, True, False, False],\n",
    "  [False, False, True, False, False]])\n",
    "\n",
    "print(truth_array)\n",
    "print(np.where(truth_array))    # return an array of indices where the condition is True\n",
    "print(np.argwhere(truth_array)) # return an array of indices where the condition is True"
   ]
  },
  {
   "cell_type": "code",
   "execution_count": null,
   "id": "912f21cb-07c8-4218-bb8a-da3b5ef87871",
   "metadata": {},
   "outputs": [],
   "source": [
    "# one returns \"x\"s separate from \"y\"s\n",
    "# the other as ordered pairs of \"x\"s and \"y\"s\n",
    "type(np.where(truth_array)),type(np.argwhere(truth_array))"
   ]
  },
  {
   "cell_type": "code",
   "execution_count": null,
   "id": "34f5d76d-3a0b-4d3a-8d1c-9d32af85948e",
   "metadata": {},
   "outputs": [],
   "source": [
    "array = np.arange(10)\n",
    "\n",
    "# this works for mathematical conditions, too\n",
    "np.argwhere(array>5)"
   ]
  },
  {
   "cell_type": "markdown",
   "id": "c04cc09a-0657-4806-ad0e-9dd1f45819f7",
   "metadata": {},
   "source": [
    "<h1></h1>\n",
    "\n",
    "***Exercise 4*** Create an \"step\" function array (values are either 0 or 1). Return the indices with values greater than 0."
   ]
  },
  {
   "cell_type": "code",
   "execution_count": null,
   "id": "2abff2e7-bdfa-4f76-8ded-288366c86ecf",
   "metadata": {},
   "outputs": [],
   "source": [
    "\n",
    "\n",
    "\n",
    "\n",
    "\n",
    "\n",
    "\n",
    "\n"
   ]
  },
  {
   "cell_type": "markdown",
   "id": "29109ff5-5eeb-4f92-8337-0cec69dc0e85",
   "metadata": {},
   "source": [
    "### Masking and fancy indexing\n",
    "> A ***mask*** refers to making a boolean condition apart from the array (but defined using the array) then using that obtain a slice of the array. ***Fancy indexing*** refers to obtain  values of the array with explicityl defined indices."
   ]
  },
  {
   "cell_type": "code",
   "execution_count": null,
   "id": "faca1730-23b0-41db-a38e-db3e4e542158",
   "metadata": {},
   "outputs": [],
   "source": [
    "array = np.arange(10)\n",
    "\n",
    "# we define masks using parentheses and boolean control flow statements\n",
    "mask1 = (array>2) & (array<4) # masking using and\n",
    "mask2 = (array<2) | (array>4) # masking using or\n",
    "mask3 = (array%2)\n",
    "mask4 = np.argwhere(~array%2) # example with negation\n",
    "\n",
    "print(array[mask1])\n",
    "print(array[mask2])\n",
    "print(array[mask3])\n",
    "print(array[mask4]) # notice the shape of this\n",
    "\n"
   ]
  },
  {
   "cell_type": "code",
   "execution_count": null,
   "id": "4cdf493f-acaf-4cf1-b7ae-a5d5ed0a8e4e",
   "metadata": {},
   "outputs": [],
   "source": [
    "# fancy indices can be useful if we don't have \n",
    "# a simple way of defining the index conditions\n",
    "array = array+10 \n",
    "\n",
    "fancy = [1,3,4,5,8]\n",
    "print(array[fancy])"
   ]
  },
  {
   "cell_type": "markdown",
   "id": "e0b59b8f-4843-40ad-894e-c58a4938c7ee",
   "metadata": {},
   "source": [
    "## Basics of Matplotlib\n",
    "\n",
    "**Pros:**\n",
    "<ul> \n",
    "<li>Huge amount of functionality/options.\n",
    "<li>Works with numpy arrays and python lists.\n",
    "<li>Comes with many prepackaged Python distros (anaconda, WinPython, etc.).\n",
    "<li>Easily saves plots to image (.png, .bmp, etc.) and vector (.svg, .pdf, etc.) formats.\n",
    "<li>Has an excellent set of examples (with code) at http://matplotlib.org/gallery.\n",
    "<li>Shares many syntactic conventions with Matlab.\n",
    "</ul>\n",
    "\n",
    "\n",
    "**Cons:**\n",
    "<ul>\n",
    "<li>Slow for rapidly updating plots.\n",
    "<li>3D plotting support is not great.\n",
    "<li>Documentation is not always useful.\n",
    "<li>Essentially has two interfaces.  One is intended to be close to Matlab, the other is object oriented.  You will find examples that assume one or the other, but rarely the one you are after.\n",
    "<li>Shares many syntactic conventions with Matlab.\n",
    "</ul>"
   ]
  },
  {
   "cell_type": "markdown",
   "id": "97d26ed1-1798-4313-a4f5-19126859a5cc",
   "metadata": {},
   "source": [
    "### The basic plot"
   ]
  },
  {
   "cell_type": "code",
   "execution_count": null,
   "id": "46582ca3-3d96-4713-b41e-acc8869fa582",
   "metadata": {},
   "outputs": [],
   "source": []
  },
  {
   "cell_type": "markdown",
   "id": "2f4e27e2-9f7c-40f3-a9ca-5548c4e0555f",
   "metadata": {},
   "source": [
    "### Subplots and Axes objects"
   ]
  },
  {
   "cell_type": "code",
   "execution_count": null,
   "id": "1b6f9f36-a19d-4810-98b4-bfd1bb69da5f",
   "metadata": {},
   "outputs": [],
   "source": []
  },
  {
   "cell_type": "markdown",
   "id": "98133bf6-5d2e-42a6-8cf2-d69b2c727b48",
   "metadata": {},
   "source": [
    "### More advanced plots"
   ]
  },
  {
   "cell_type": "code",
   "execution_count": null,
   "id": "1e52c707-626c-4338-9944-79259f4785d8",
   "metadata": {},
   "outputs": [],
   "source": [
    "from brain_package.utils import gauss\n",
    "\n",
    "gauss_data = np.fromfunction(gauss, (10, 10))\n",
    "print(gauss_data.astype('int'))  # convert to int for easier reading\n",
    "\n",
    "\n"
   ]
  },
  {
   "cell_type": "code",
   "execution_count": null,
   "id": "03b61115-0128-4002-8a4f-ed1a17958f88",
   "metadata": {},
   "outputs": [],
   "source": [
    "# let's visualize that array as an image\n",
    "from matplotlib.pylab import imshow\n",
    "\n",
    "imshow(gauss_data, interpolation='none', cmap='magma');\n",
    "\n"
   ]
  },
  {
   "cell_type": "markdown",
   "id": "3d22c782-bc3e-49ae-b511-ae19eb139cf8",
   "metadata": {},
   "source": [
    "### Histograms"
   ]
  },
  {
   "cell_type": "code",
   "execution_count": null,
   "id": "e9b9a403-fc3d-41b8-8c2d-a9d8879ce90e",
   "metadata": {},
   "outputs": [],
   "source": []
  },
  {
   "cell_type": "markdown",
   "id": "ed0bf9ab-b64e-41d4-be4f-aaa7bc34e630",
   "metadata": {},
   "source": [
    "### Scatter plots"
   ]
  },
  {
   "cell_type": "code",
   "execution_count": null,
   "id": "b9325118-c9bf-403e-a410-f70fccee9814",
   "metadata": {},
   "outputs": [],
   "source": []
  },
  {
   "cell_type": "markdown",
   "id": "832beafe-eedd-4959-be66-c7764a2e70ed",
   "metadata": {},
   "source": [
    "## Data Exercises\n",
    "\n",
    "### Objective - Create a Summary Figure of  \"Raw\" Data\n",
    "\n",
    "In order to do this, we need to specify a few paths for where we will keep the data. The folders already exist in repository. We just need to specify where these things are here."
   ]
  },
  {
   "cell_type": "code",
   "execution_count": null,
   "id": "f081757f-ccbb-4454-a3b8-d65eb8495a4b",
   "metadata": {},
   "outputs": [],
   "source": []
  },
  {
   "cell_type": "code",
   "execution_count": null,
   "id": "ef45f5b9-2595-4250-b364-d651eb5c03f3",
   "metadata": {},
   "outputs": [],
   "source": []
  },
  {
   "cell_type": "markdown",
   "id": "c502ba48-22c2-43af-9d20-b23812401a34",
   "metadata": {},
   "source": [
    "We will be making the above figure. Let's first dissect what's displayed. \n",
    "\n",
    "First, these data were recorded from single neurons in <b>primary auditory cortex</b>, or <b>A1</b>, the dominant cortical area that processes sound-related information coming from directly from the cochlea. Conventionally, this type of observed activity is referred to as <b>single-unit activity</b>, or <b>SUA</b>, and is accompanied by simultaneous recordings of <b>local field potentials</b>, or <b>LFPs</b>.\n",
    "\n",
    "<u>Top Plot</u>\n",
    "\n",
    "> Title: Unit ID: 1 - cell that are recorded using penetrating electrodes are by convention called \"units\". So a Unit ID of 1 refers to the first cell recorded on that electrode. \n",
    "\n",
    "> Data types:  \n",
    "\n",
    "> - <i>Black vertical dashes</i> : These represent the time at which the peak of an action potential occurs, or when the unit fires, for the recorded unit. This type of plot is referred to as a <b>raster plot</b>.\n",
    "\n",
    "> - <i>Red time series</i> : If we look at the rate of occurence for the spike times across a fixed interval by counting spikes within fixed bin sizes, we can compute what's called a firing rate. We often care about changes in firing rate associated with different stimuli. This is referred to as rate coding and can be represented by a <b>time histogram</b> - later we will cover the <b>post-stimulus time histogram</b>, or <b>PSTH</b>.\n",
    "\n",
    "> - <i>Different colored vertical bars</i> : Spike times and firing rates are only meaningful if we can compare them to some other event - like different stimuli. We call this <b>neural coding</b>, how stimuli are represented in spike times or their statistics like rates. This enables us to characterize the response of a unit to its environment, i.e., <b>decode</b> neural responses. The different colored bars are <b>stimulus intervals</b> and their colors represent different stimuli, in this case the location of a <b>sound source</b>.\n",
    "\n",
    "<u> Bottom Plot </u>\n",
    "\n",
    "> Data types:\n",
    "\n",
    "> - <i> Blue time series</i> : This is the simultaneously recorded LFP recorded locally to the above unit. Straightforward.\n",
    "\n",
    "We will build this figure piece-by-piece before looking at different ways to characterize the unit's response with respect to a single stimulus across multiple presentations of the given stimulus.\n",
    "\n",
    "<u>Plotting goals:</u>\n",
    "\n",
    "> 1) Collect data\n",
    "\n",
    "> 2) Create LFP time series plot\n",
    "\n",
    "> 3) Create raster plot\n",
    "\n",
    "> 4) Create rate time histogram\n",
    "\n",
    "> 5) Create stimulus interval plot\n",
    "\n",
    "> 6) Combine them using subplots \n",
    "\n",
    "> 7) Look more closely at different intervals by changing the axis limits\n"
   ]
  },
  {
   "cell_type": "code",
   "execution_count": null,
   "id": "2cded193-abf8-4576-b916-77f39a136703",
   "metadata": {},
   "outputs": [],
   "source": []
  },
  {
   "cell_type": "markdown",
   "id": "eb282bde-2140-460e-a908-c11238c35d77",
   "metadata": {},
   "source": [
    "###  Create LFP time series plot\n",
    "\n",
    "Here is where you will plot the first times series. In general, we can use the Matplotlib (https://matplotlib.org/stable/gallery/index.html) charting library to find the code we need. Our first plot will require minimal effort in transforming the data, just visualizing it. \n",
    "\n",
    "Your exercise is to:\n",
    "\n",
    "> 1) look at the Matplotlib documentation for <i>matplotlib.pyplot.plot()</i> in order to figure out what variables (and their data type) we can use as inputs under <i>parameters</i>,  \n",
    "\n",
    "> 2) find how to get the correct format in Pandas documentation for <i>pandas.DataFrame</i> under <i>attributes</i>,\n",
    "\n",
    "> 3) reformat and store our data variables in the correct format for plotting,\n",
    "\n",
    "> 4) and then adjust properties (figure size, marker size, axis labels, etc) of the plot to get something like the bottom plot from our summary plot. \n",
    "\n",
    "Here we will use <i>plt.plot()</i> for plotting - recall our abbreviation in when we imported the module."
   ]
  },
  {
   "cell_type": "code",
   "execution_count": null,
   "id": "38c28152-b5f4-49d6-b64d-b728178b8f46",
   "metadata": {},
   "outputs": [],
   "source": []
  },
  {
   "cell_type": "markdown",
   "id": "de8df506-aa24-42d7-8f1b-19a75cc8e693",
   "metadata": {},
   "source": [
    "### Create raster plot"
   ]
  },
  {
   "cell_type": "code",
   "execution_count": null,
   "id": "fab97d07-b8cc-41dd-86b0-5fd1c13265bd",
   "metadata": {},
   "outputs": [],
   "source": []
  }
 ],
 "metadata": {
  "kernelspec": {
   "display_name": "Python 3",
   "language": "python",
   "name": "python3"
  },
  "language_info": {
   "codemirror_mode": {
    "name": "ipython",
    "version": 3
   },
   "file_extension": ".py",
   "mimetype": "text/x-python",
   "name": "python",
   "nbconvert_exporter": "python",
   "pygments_lexer": "ipython3",
   "version": "3.9.4"
  }
 },
 "nbformat": 4,
 "nbformat_minor": 5
}
